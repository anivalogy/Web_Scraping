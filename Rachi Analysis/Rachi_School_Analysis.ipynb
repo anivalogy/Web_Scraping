{
 "cells": [
  {
   "cell_type": "code",
   "execution_count": 2,
   "metadata": {},
   "outputs": [],
   "source": [
    "import csv\n",
    "from bs4 import BeautifulSoup\n",
    "from selenium import webdriver\n",
    "from datetime import datetime\n",
    "import requests\n",
    "import re\n",
    "import json\n",
    "import csv\n",
    "from io import StringIO\n",
    "from urllib.request import urlopen\n",
    "\n"
   ]
  },
  {
   "cell_type": "code",
   "execution_count": 3,
   "metadata": {},
   "outputs": [],
   "source": [
    "driver=webdriver.Chrome(executable_path=\"F:\\Web_Scraping\\chromedriver.exe\")"
   ]
  },
  {
   "cell_type": "code",
   "execution_count": 4,
   "metadata": {},
   "outputs": [],
   "source": [
    "url=\"http://schoolsearchlist.com/\""
   ]
  },
  {
   "cell_type": "code",
   "execution_count": 8,
   "metadata": {},
   "outputs": [],
   "source": [
    "def get_url(location):\n",
    "    template=\"http://schoolsearchlist.com/schools-in-city/{}\"\n",
    "    url=template.format(location)\n",
    "    return url"
   ]
  },
  {
   "cell_type": "code",
   "execution_count": 152,
   "metadata": {},
   "outputs": [],
   "source": [
    "url=get_url(\"kolkata\")"
   ]
  },
  {
   "cell_type": "code",
   "execution_count": 153,
   "metadata": {},
   "outputs": [
    {
     "data": {
      "text/plain": [
       "'http://schoolsearchlist.com/schools-in-city/kolkata'"
      ]
     },
     "execution_count": 153,
     "metadata": {},
     "output_type": "execute_result"
    }
   ],
   "source": [
    "url"
   ]
  },
  {
   "cell_type": "code",
   "execution_count": 154,
   "metadata": {},
   "outputs": [],
   "source": [
    "response=requests.get(url)"
   ]
  },
  {
   "cell_type": "code",
   "execution_count": 155,
   "metadata": {},
   "outputs": [
    {
     "data": {
      "text/plain": [
       "<Response [200]>"
      ]
     },
     "execution_count": 155,
     "metadata": {},
     "output_type": "execute_result"
    }
   ],
   "source": [
    "response"
   ]
  },
  {
   "cell_type": "code",
   "execution_count": 156,
   "metadata": {},
   "outputs": [
    {
     "data": {
      "text/plain": [
       "'OK'"
      ]
     },
     "execution_count": 156,
     "metadata": {},
     "output_type": "execute_result"
    }
   ],
   "source": [
    "response.reason"
   ]
  },
  {
   "cell_type": "code",
   "execution_count": 157,
   "metadata": {
    "scrolled": true
   },
   "outputs": [],
   "source": [
    "soup=BeautifulSoup(response.text,'html.parser')\n"
   ]
  },
  {
   "cell_type": "code",
   "execution_count": 158,
   "metadata": {
    "scrolled": false
   },
   "outputs": [],
   "source": [
    "cards =soup.find_all('div','address')\n"
   ]
  },
  {
   "cell_type": "code",
   "execution_count": 159,
   "metadata": {},
   "outputs": [
    {
     "name": "stdout",
     "output_type": "stream",
     "text": [
      "201\n"
     ]
    }
   ],
   "source": [
    "print(len(cards))"
   ]
  },
  {
   "cell_type": "code",
   "execution_count": 160,
   "metadata": {},
   "outputs": [],
   "source": [
    "card=cards[0]"
   ]
  },
  {
   "cell_type": "code",
   "execution_count": 161,
   "metadata": {},
   "outputs": [
    {
     "data": {
      "text/plain": [
       "<div class=\"address\">\n",
       "<h3>\n",
       "<!--a href=\"school.asp?rid=&amp;c-type=&amp;institute=\" target=\"_blank\"  class=\"head3\" -->\n",
       "<a class=\"head3\" href=\"http://schoolsearchlist.com/school/5055/GEMS-Akademia-International-School-Kolkata\" target=\"_blank\">GEMS Akademia International School, Kolkata</a></h3>\n",
       "<span class=\"redtxt\"><strong>Boarding School</strong><br/></span>\n",
       "\t\t\t\t\t\t\t\t\t\t  Bakrahat Road, Thakurpur, PO Rasapunja, Near Praxis Business School\n",
       "\t\t\t\t\t\t\t\t\t\t  , Kolkata, West Bengal-700104\n",
       "\t\t\t\t\t\t\t\t\t\t  <br/>\n",
       "<br/><span class=\"redtxt\">General HELPLINE NO.: </span><strong>9971516996</strong>\n",
       "<hr/>\n",
       "</div>"
      ]
     },
     "execution_count": 161,
     "metadata": {},
     "output_type": "execute_result"
    }
   ],
   "source": [
    "card"
   ]
  },
  {
   "cell_type": "code",
   "execution_count": 162,
   "metadata": {},
   "outputs": [],
   "source": [
    "atag=card.h3.a"
   ]
  },
  {
   "cell_type": "code",
   "execution_count": 163,
   "metadata": {},
   "outputs": [
    {
     "data": {
      "text/plain": [
       "<a class=\"head3\" href=\"http://schoolsearchlist.com/school/5055/GEMS-Akademia-International-School-Kolkata\" target=\"_blank\">GEMS Akademia International School, Kolkata</a>"
      ]
     },
     "execution_count": 163,
     "metadata": {},
     "output_type": "execute_result"
    }
   ],
   "source": [
    "atag"
   ]
  },
  {
   "cell_type": "code",
   "execution_count": 164,
   "metadata": {},
   "outputs": [],
   "source": [
    "school_title=atag.get('head3')\n"
   ]
  },
  {
   "cell_type": "code",
   "execution_count": 165,
   "metadata": {},
   "outputs": [],
   "source": [
    "school_url=atag.get('href')"
   ]
  },
  {
   "cell_type": "code",
   "execution_count": 166,
   "metadata": {},
   "outputs": [
    {
     "data": {
      "text/plain": [
       "'http://schoolsearchlist.com/school/5055/GEMS-Akademia-International-School-Kolkata'"
      ]
     },
     "execution_count": 166,
     "metadata": {},
     "output_type": "execute_result"
    }
   ],
   "source": [
    "school_url"
   ]
  },
  {
   "cell_type": "code",
   "execution_count": 167,
   "metadata": {},
   "outputs": [
    {
     "data": {
      "text/plain": [
       "'GEMS Akademia International School, Kolkata'"
      ]
     },
     "execution_count": 167,
     "metadata": {},
     "output_type": "execute_result"
    }
   ],
   "source": [
    "title=atag.text.strip()\n",
    "title"
   ]
  },
  {
   "cell_type": "code",
   "execution_count": 168,
   "metadata": {},
   "outputs": [
    {
     "data": {
      "text/plain": [
       "'none'"
      ]
     },
     "execution_count": 168,
     "metadata": {},
     "output_type": "execute_result"
    }
   ],
   "source": [
    "try:\n",
    "    phone=card.find('span','htxt').text.strip()\n",
    "except AttributeError:\n",
    "    phone='none'\n",
    "phone"
   ]
  },
  {
   "cell_type": "code",
   "execution_count": 169,
   "metadata": {},
   "outputs": [],
   "source": [
    "def get_record(card):\n",
    "    \n",
    "    atag=card.h3.a\n",
    "    school_title=atag.get('head3')\n",
    "    school_url=atag.get('href')\n",
    "    title=atag.text.strip()\n",
    "    try:\n",
    "        phone=card.find('span','htxt').text.strip()\n",
    "    except AttributeError:\n",
    "        phone='none'\n",
    "    record = (title,school_url,phone)\n",
    "    return record"
   ]
  },
  {
   "cell_type": "code",
   "execution_count": 170,
   "metadata": {},
   "outputs": [],
   "source": [
    "records=list()\n",
    "for card in cards:\n",
    "    record=get_record(card)\n",
    "    if record:\n",
    "        records.append(record)"
   ]
  },
  {
   "cell_type": "code",
   "execution_count": 171,
   "metadata": {},
   "outputs": [
    {
     "data": {
      "text/plain": [
       "('GEMS Akademia International School, Kolkata',\n",
       " 'http://schoolsearchlist.com/school/5055/GEMS-Akademia-International-School-Kolkata',\n",
       " 'none')"
      ]
     },
     "execution_count": 171,
     "metadata": {},
     "output_type": "execute_result"
    }
   ],
   "source": [
    "records[0]"
   ]
  },
  {
   "cell_type": "code",
   "execution_count": 172,
   "metadata": {},
   "outputs": [],
   "source": [
    "#all together\n",
    "import csv\n",
    "from bs4 import BeautifulSoup\n",
    "from selenium import webdriver\n",
    "from datetime import datetime\n",
    "import requests\n",
    "\n",
    "def get_url(location):\n",
    "    template=\"http://schoolsearchlist.com/schools-in-city/{}\"\n",
    "    url=template.format(location)\n",
    "    return url\n",
    "\n",
    "def get_record(card):\n",
    "    \n",
    "    atag=card.h3.a\n",
    "    school_title=atag.get('head3')\n",
    "    school_url=atag.get('href')\n",
    "    title=atag.text.strip()\n",
    "    try:\n",
    "        phone=card.find('span','htxt').text.strip()\n",
    "    except AttributeError:\n",
    "        phone='none'\n",
    "    record = (title,phone)\n",
    "        \n",
    "    return record\n",
    "\n",
    "def main(location):\n",
    "    records=list()\n",
    "    url=get_url(location)\n",
    "    #save data as csv file\n",
    "    \n",
    "    while True:        \n",
    "        response=requests.get(url)\n",
    "        soup=BeautifulSoup(response.text,'html.parser')\n",
    "        cards =soup.find_all('div','address')\n",
    "\n",
    "    \n",
    "        for card in cards:\n",
    "            record=get_record(card)\n",
    "            records.append(record)\n",
    "        try:\n",
    "            url=\"http://schoolsearchlist.com/\" + soup.find('a',{'arial-label':'Next'}).get('href')\n",
    "        except AttributeError:\n",
    "            break\n",
    "        \n",
    "    with open('kolkata.csv','w',newline='',encoding='utf-8')as f:\n",
    "            writer=csv.writer(f)\n",
    "            writer.writerow(['Name','phone'])\n",
    "            writer.writerows(records)"
   ]
  },
  {
   "cell_type": "code",
   "execution_count": 173,
   "metadata": {},
   "outputs": [],
   "source": [
    "main('kolkata')"
   ]
  },
  {
   "cell_type": "code",
   "execution_count": null,
   "metadata": {},
   "outputs": [],
   "source": []
  }
 ],
 "metadata": {
  "kernelspec": {
   "display_name": "Python 3",
   "language": "python",
   "name": "python3"
  },
  "language_info": {
   "codemirror_mode": {
    "name": "ipython",
    "version": 3
   },
   "file_extension": ".py",
   "mimetype": "text/x-python",
   "name": "python",
   "nbconvert_exporter": "python",
   "pygments_lexer": "ipython3",
   "version": "3.9.0"
  }
 },
 "nbformat": 4,
 "nbformat_minor": 4
}
