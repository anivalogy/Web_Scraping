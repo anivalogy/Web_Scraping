{
 "cells": [
  {
   "cell_type": "markdown",
   "metadata": {},
   "source": [
    "# Yhaoo! Finace Scrapper"
   ]
  },
  {
   "cell_type": "code",
   "execution_count": 131,
   "metadata": {},
   "outputs": [],
   "source": [
    "import re\n",
    "import json\n",
    "import csv\n",
    "from io import StringIO\n",
    "from bs4 import BeautifulSoup\n",
    "from selenium import webdriver\n",
    "import requests\n"
   ]
  },
  {
   "cell_type": "code",
   "execution_count": 132,
   "metadata": {},
   "outputs": [],
   "source": [
    "driver=webdriver.Chrome(executable_path=\"F:\\Web_Scraping\\chromedriver.exe\")"
   ]
  },
  {
   "cell_type": "code",
   "execution_count": 133,
   "metadata": {},
   "outputs": [],
   "source": [
    "url_status='https://in.finance.yahoo.com/quote/{}/key-statistics?p={}'\n",
    "url_profile='https://in.finance.yahoo.com/quote/{}/profile?p={}'\n",
    "url_finacials='https://in.finance.yahoo.com/quote/{}/financials?p={}'"
   ]
  },
  {
   "cell_type": "code",
   "execution_count": 134,
   "metadata": {},
   "outputs": [],
   "source": [
    "stock='F'"
   ]
  },
  {
   "cell_type": "code",
   "execution_count": 135,
   "metadata": {},
   "outputs": [],
   "source": [
    "response= requests.get(url_finacials.format(stock,stock))"
   ]
  },
  {
   "cell_type": "code",
   "execution_count": 136,
   "metadata": {},
   "outputs": [],
   "source": [
    "soup= BeautifulSoup(response.text,'html.parser')"
   ]
  },
  {
   "cell_type": "code",
   "execution_count": 137,
   "metadata": {},
   "outputs": [],
   "source": [
    "pattern= re.compile(r'\\s--\\sData\\s--\\s')\n",
    "script_data=soup.find('script',text=pattern).contents[0]"
   ]
  },
  {
   "cell_type": "code",
   "execution_count": 138,
   "metadata": {},
   "outputs": [
    {
     "name": "stdout",
     "output_type": "stream",
     "text": [
      "\n",
      "(function (root) {\n",
      "/* -- Data -- */\n",
      "root.App || (root.App = {});\n",
      "root.App.now = 1605382436289;\n",
      "root.App.main = {\"context\":{\"dispatcher\":{\"stores\":{\"PageStore\":{\"currentPageName\":\"quote\",\"currentEvent\":{\"eventName\":\"NEW_PAGE_SUCCESS\"},\"currentRenderTargetId\":\"default\",\"pagesConfigRaw\":{\"base\":{\"quote\":{\"layout\":{\"bundleName\":\"yahoodotcom-layout.TwoColumnLayout\",\"name\":\"TwoColumnLayout\",\"config\":{\"enableHeaderCollapse\":true,\"additionalBodyWrapperClasses\":\"Bgc($layoutBgColor)!\",\"contentWrapperClas\n",
      "end lideshow\":{\"strings\":1},\"tdv2-applet-sponsored-moments\":{\"strings\":1},\"tdv2-wafer-utils\":{\"strings\":1},\"tdv2-applet-stream\":{\"strings\":1},\"tdv2-applet-stream-hero\":{\"strings\":1},\"tdv2-applet-swisschamp\":{\"strings\":1},\"tdv2-applet-uh\":{\"strings\":1},\"tdv2-applet-userintent\":{\"strings\":1},\"tdv2-applet-video-lightbox\":{\"strings\":1},\"tdv2-applet-video-modal\":{\"strings\":1},\"tdv2-wafer-header\":{\"strings\":1},\"yahoodotcom-layout\":{\"strings\":1}}},\"options\":{\"defaultBundle\":\"td-app-finance\"}}}};\n",
      "}(this));\n",
      "\n"
     ]
    }
   ],
   "source": [
    "print(script_data[:500])\n",
    "print('end',script_data[-500:])"
   ]
  },
  {
   "cell_type": "code",
   "execution_count": 139,
   "metadata": {},
   "outputs": [],
   "source": [
    "start =script_data.find(\"context\")-2"
   ]
  },
  {
   "cell_type": "code",
   "execution_count": 140,
   "metadata": {},
   "outputs": [
    {
     "data": {
      "text/plain": [
       "112"
      ]
     },
     "execution_count": 140,
     "metadata": {},
     "output_type": "execute_result"
    }
   ],
   "source": [
    "start"
   ]
  },
  {
   "cell_type": "code",
   "execution_count": 141,
   "metadata": {},
   "outputs": [],
   "source": [
    "json_data=json.loads(script_data[start:-12])"
   ]
  },
  {
   "cell_type": "code",
   "execution_count": 142,
   "metadata": {},
   "outputs": [
    {
     "data": {
      "text/plain": [
       "dict_keys(['dispatcher', 'options', 'plugins'])"
      ]
     },
     "execution_count": 142,
     "metadata": {},
     "output_type": "execute_result"
    }
   ],
   "source": [
    "json_data['context'].keys()"
   ]
  },
  {
   "cell_type": "code",
   "execution_count": 143,
   "metadata": {},
   "outputs": [
    {
     "data": {
      "text/plain": [
       "dict_keys(['financialsTemplate', 'cashflowStatementHistory', 'balanceSheetHistoryQuarterly', 'earnings', 'price', 'incomeStatementHistoryQuarterly', 'incomeStatementHistory', 'balanceSheetHistory', 'cashflowStatementHistoryQuarterly', 'quoteType', 'summaryDetail', 'symbol', 'pageViews'])"
      ]
     },
     "execution_count": 143,
     "metadata": {},
     "output_type": "execute_result"
    }
   ],
   "source": [
    "json_data['context']['dispatcher']['stores']['QuoteSummaryStore'].keys()"
   ]
  },
  {
   "cell_type": "code",
   "execution_count": 144,
   "metadata": {},
   "outputs": [],
   "source": [
    "annual_is=json_data['context']['dispatcher']['stores']['QuoteSummaryStore']['incomeStatementHistory']['incomeStatementHistory']\n",
    "quertly_is=json_data['context']['dispatcher']['stores']['QuoteSummaryStore']['incomeStatementHistoryQuarterly']['incomeStatementHistory']\n",
    "\n",
    "anunual_cf=json_data['context']['dispatcher']['stores']['QuoteSummaryStore']['cashflowStatementHistory']['cashflowStatements']\n",
    "quertly_cf=json_data['context']['dispatcher']['stores']['QuoteSummaryStore']['cashflowStatementHistoryQuarterly']['cashflowStatements']\n",
    "\n",
    "annual_bs=json_data['context']['dispatcher']['stores']['QuoteSummaryStore']['balanceSheetHistory']['balanceSheetStatements']\n",
    "quertly_bs=json_data['context']['dispatcher']['stores']['QuoteSummaryStore']['balanceSheetHistoryQuarterly']['balanceSheetStatements']"
   ]
  },
  {
   "cell_type": "code",
   "execution_count": 145,
   "metadata": {},
   "outputs": [
    {
     "name": "stdout",
     "output_type": "stream",
     "text": [
      "{'researchDevelopment': {}, 'effectOfAccountingCharges': {}, 'incomeBeforeTax': {'raw': -640000000, 'fmt': '-640M', 'longFmt': '-640,000,000'}, 'minorityInterest': {'raw': 45000000, 'fmt': '45M', 'longFmt': '45,000,000'}, 'netIncome': {'raw': 47000000, 'fmt': '47M', 'longFmt': '47,000,000'}, 'sellingGeneralAdministrative': {'raw': 10218000000, 'fmt': '10.22B', 'longFmt': '10,218,000,000'}, 'grossProfit': {'raw': 12876000000, 'fmt': '12.88B', 'longFmt': '12,876,000,000'}, 'ebit': {'raw': 2658000000, 'fmt': '2.66B', 'longFmt': '2,658,000,000'}, 'endDate': {'raw': 1577750400, 'fmt': '2019-12-31'}, 'operatingIncome': {'raw': 2658000000, 'fmt': '2.66B', 'longFmt': '2,658,000,000'}, 'otherOperatingExpenses': {}, 'interestExpense': {'raw': -1049000000, 'fmt': '-1.05B', 'longFmt': '-1,049,000,000'}, 'extraordinaryItems': {}, 'nonRecurring': {}, 'otherItems': {}, 'incomeTaxExpense': {'raw': -724000000, 'fmt': '-724M', 'longFmt': '-724,000,000'}, 'totalRevenue': {'raw': 155900000000, 'fmt': '155.9B', 'longFmt': '155,900,000,000'}, 'totalOperatingExpenses': {'raw': 153242000000, 'fmt': '153.24B', 'longFmt': '153,242,000,000'}, 'costOfRevenue': {'raw': 143024000000, 'fmt': '143.02B', 'longFmt': '143,024,000,000'}, 'totalOtherIncomeExpenseNet': {'raw': -3298000000, 'fmt': '-3.3B', 'longFmt': '-3,298,000,000'}, 'maxAge': 1, 'discontinuedOperations': {}, 'netIncomeFromContinuingOps': {'raw': 84000000, 'fmt': '84M', 'longFmt': '84,000,000'}, 'netIncomeApplicableToCommonShares': {'raw': 47000000, 'fmt': '47M', 'longFmt': '47,000,000'}}\n"
     ]
    }
   ],
   "source": [
    "print(annual_is[0])"
   ]
  },
  {
   "cell_type": "code",
   "execution_count": 146,
   "metadata": {},
   "outputs": [
    {
     "data": {
      "text/plain": [
       "{'raw': 2658000000, 'fmt': '2.66B', 'longFmt': '2,658,000,000'}"
      ]
     },
     "execution_count": 146,
     "metadata": {},
     "output_type": "execute_result"
    }
   ],
   "source": [
    "annual_is[0]['operatingIncome']"
   ]
  },
  {
   "cell_type": "code",
   "execution_count": 147,
   "metadata": {},
   "outputs": [],
   "source": [
    "annual_is_stmts=[]\n",
    "qutarly_is_stmts=[]\n",
    "# consolidate annual\n",
    "\n",
    "for s in annual_is:\n",
    "    statement={}\n",
    "    for key,val in s.items():\n",
    "        try:\n",
    "            statement[key]=val['raw']\n",
    "        except TypeError:\n",
    "            continue\n",
    "        except KeyError:\n",
    "            continue\n",
    "    annual_is_stmts.append(statement)\n",
    "    \n",
    "\n",
    "# consolidate quertly\n",
    "\n",
    "for s in quertly_is:\n",
    "    statement={}\n",
    "    for key,val in s.items():\n",
    "        try:\n",
    "            statement[key]=val['raw']\n",
    "        except TypeError:\n",
    "            continue\n",
    "        except KeyError:\n",
    "            continue\n",
    "    qutarly_is_stmts.append(statement)"
   ]
  },
  {
   "cell_type": "code",
   "execution_count": 148,
   "metadata": {},
   "outputs": [
    {
     "data": {
      "text/plain": [
       "{'incomeBeforeTax': -640000000,\n",
       " 'minorityInterest': 45000000,\n",
       " 'netIncome': 47000000,\n",
       " 'sellingGeneralAdministrative': 10218000000,\n",
       " 'grossProfit': 12876000000,\n",
       " 'ebit': 2658000000,\n",
       " 'endDate': 1577750400,\n",
       " 'operatingIncome': 2658000000,\n",
       " 'interestExpense': -1049000000,\n",
       " 'incomeTaxExpense': -724000000,\n",
       " 'totalRevenue': 155900000000,\n",
       " 'totalOperatingExpenses': 153242000000,\n",
       " 'costOfRevenue': 143024000000,\n",
       " 'totalOtherIncomeExpenseNet': -3298000000,\n",
       " 'netIncomeFromContinuingOps': 84000000,\n",
       " 'netIncomeApplicableToCommonShares': 47000000}"
      ]
     },
     "execution_count": 148,
     "metadata": {},
     "output_type": "execute_result"
    }
   ],
   "source": [
    "annual_is_stmts[0]"
   ]
  },
  {
   "cell_type": "markdown",
   "metadata": {},
   "source": [
    "# Profile Data !!"
   ]
  },
  {
   "cell_type": "code",
   "execution_count": 149,
   "metadata": {},
   "outputs": [],
   "source": [
    "response=requests.get(url_profile.format(stock,stock))\n",
    "soup= BeautifulSoup(response.text,'html.parser')\n",
    "pattern= re.compile(r'\\s--\\sData\\s--\\s')\n",
    "script_data=soup.find('script',text=pattern).contents[0]\n",
    "start =script_data.find(\"context\")-2\n",
    "json_data=json.loads(script_data[start:-12])"
   ]
  },
  {
   "cell_type": "code",
   "execution_count": 150,
   "metadata": {},
   "outputs": [
    {
     "data": {
      "text/plain": [
       "dict_keys(['financialsTemplate', 'price', 'secFilings', 'quoteType', 'calendarEvents', 'summaryDetail', 'symbol', 'assetProfile', 'pageViews'])"
      ]
     },
     "execution_count": 150,
     "metadata": {},
     "output_type": "execute_result"
    }
   ],
   "source": [
    "json_data['context']['dispatcher']['stores']['QuoteSummaryStore'].keys()"
   ]
  },
  {
   "cell_type": "code",
   "execution_count": 151,
   "metadata": {},
   "outputs": [
    {
     "data": {
      "text/plain": [
       "dict_keys(['zip', 'sector', 'fullTimeEmployees', 'compensationRisk', 'auditRisk', 'longBusinessSummary', 'city', 'phone', 'state', 'shareHolderRightsRisk', 'compensationAsOfEpochDate', 'governanceEpochDate', 'boardRisk', 'country', 'companyOfficers', 'website', 'maxAge', 'overallRisk', 'address1', 'industry'])"
      ]
     },
     "execution_count": 151,
     "metadata": {},
     "output_type": "execute_result"
    }
   ],
   "source": [
    "json_data['context']['dispatcher']['stores']['QuoteSummaryStore']['assetProfile'].keys()\n"
   ]
  },
  {
   "cell_type": "code",
   "execution_count": 152,
   "metadata": {
    "collapsed": true,
    "jupyter": {
     "outputs_hidden": true
    }
   },
   "outputs": [
    {
     "data": {
      "text/plain": [
       "[{'totalPay': {'raw': 3661316, 'fmt': '3.66M', 'longFmt': '3,661,316'},\n",
       "  'exercisedValue': {'raw': 0, 'fmt': None, 'longFmt': '0'},\n",
       "  'yearBorn': 1957,\n",
       "  'name': 'Mr. William Clay Ford Jr.',\n",
       "  'title': 'Exec. Chairman',\n",
       "  'maxAge': 1,\n",
       "  'fiscalYear': 2019,\n",
       "  'unexercisedValue': {'raw': 0, 'fmt': None, 'longFmt': '0'},\n",
       "  'age': 62},\n",
       " {'totalPay': {'raw': 2274993, 'fmt': '2.27M', 'longFmt': '2,274,993'},\n",
       "  'exercisedValue': {'raw': 0, 'fmt': None, 'longFmt': '0'},\n",
       "  'yearBorn': 1962,\n",
       "  'name': 'Mr. James D. Farley Jr.',\n",
       "  'title': 'Pres, CEO & Director',\n",
       "  'maxAge': 1,\n",
       "  'fiscalYear': 2019,\n",
       "  'unexercisedValue': {'raw': 0, 'fmt': None, 'longFmt': '0'},\n",
       "  'age': 57},\n",
       " {'totalPay': {'raw': 4167237, 'fmt': '4.17M', 'longFmt': '4,167,237'},\n",
       "  'exercisedValue': {'raw': 0, 'fmt': None, 'longFmt': '0'},\n",
       "  'yearBorn': 1955,\n",
       "  'name': 'Mr. James Patrick Hackett',\n",
       "  'title': 'Advisor',\n",
       "  'maxAge': 1,\n",
       "  'fiscalYear': 2019,\n",
       "  'unexercisedValue': {'raw': 0, 'fmt': None, 'longFmt': '0'},\n",
       "  'age': 64},\n",
       " {'totalPay': {'raw': 785183, 'fmt': '785.18k', 'longFmt': '785,183'},\n",
       "  'exercisedValue': {'raw': 0, 'fmt': None, 'longFmt': '0'},\n",
       "  'yearBorn': 1949,\n",
       "  'name': 'Mr. Edsel B. Ford II',\n",
       "  'title': 'Consultant & Director',\n",
       "  'maxAge': 1,\n",
       "  'fiscalYear': 2019,\n",
       "  'unexercisedValue': {'raw': 0, 'fmt': None, 'longFmt': '0'},\n",
       "  'age': 70},\n",
       " {'maxAge': 1,\n",
       "  'name': 'Mr. John T. Lawler',\n",
       "  'age': 53,\n",
       "  'title': 'Chief Financial Officer',\n",
       "  'yearBorn': 1966,\n",
       "  'exercisedValue': {'raw': 0, 'fmt': None, 'longFmt': '0'},\n",
       "  'unexercisedValue': {'raw': 0, 'fmt': None, 'longFmt': '0'}},\n",
       " {'maxAge': 1,\n",
       "  'name': 'Mr. Thai-Tang  Hau',\n",
       "  'age': 52,\n",
       "  'title': 'Chief Product Platform & Operations Officer',\n",
       "  'yearBorn': 1967,\n",
       "  'exercisedValue': {'raw': 0, 'fmt': None, 'longFmt': '0'},\n",
       "  'unexercisedValue': {'raw': 0, 'fmt': None, 'longFmt': '0'}},\n",
       " {'maxAge': 1,\n",
       "  'name': 'Dr. Kenneth E. Washington Ph.D.',\n",
       "  'age': 59,\n",
       "  'title': 'Chief Technology Officer',\n",
       "  'yearBorn': 1960,\n",
       "  'exercisedValue': {'raw': 0, 'fmt': None, 'longFmt': '0'},\n",
       "  'unexercisedValue': {'raw': 0, 'fmt': None, 'longFmt': '0'}},\n",
       " {'maxAge': 1,\n",
       "  'name': 'Mr. Jeff  Lemmer',\n",
       "  'age': 53,\n",
       "  'title': 'VP & Chief Information Officer',\n",
       "  'yearBorn': 1966,\n",
       "  'exercisedValue': {'raw': 0, 'fmt': None, 'longFmt': '0'},\n",
       "  'unexercisedValue': {'raw': 0, 'fmt': None, 'longFmt': '0'}},\n",
       " {'maxAge': 1,\n",
       "  'name': 'Ms. Lynn Antipas Tyson',\n",
       "  'title': 'Exec. Director of Investor Relations',\n",
       "  'exercisedValue': {'raw': 0, 'fmt': None, 'longFmt': '0'},\n",
       "  'unexercisedValue': {'raw': 0, 'fmt': None, 'longFmt': '0'}},\n",
       " {'maxAge': 1,\n",
       "  'name': 'Ms. Cynthia  Williams',\n",
       "  'title': 'Director of Sustainability, Homologation & Compliance',\n",
       "  'exercisedValue': {'raw': 0, 'fmt': None, 'longFmt': '0'},\n",
       "  'unexercisedValue': {'raw': 0, 'fmt': None, 'longFmt': '0'}}]"
      ]
     },
     "execution_count": 152,
     "metadata": {},
     "output_type": "execute_result"
    }
   ],
   "source": [
    "json_data['context']['dispatcher']['stores']['QuoteSummaryStore']['assetProfile']['companyOfficers']"
   ]
  },
  {
   "cell_type": "code",
   "execution_count": 153,
   "metadata": {
    "collapsed": true,
    "jupyter": {
     "outputs_hidden": true
    }
   },
   "outputs": [
    {
     "data": {
      "text/plain": [
       "'Ford Motor Company designs, manufactures, markets, and services a range of Ford cars, trucks, sport utility vehicles, electrified vehicles, and Lincoln luxury vehicles worldwide. It operates through three segments: Automotive, Mobility, and Ford Credit. The Automotive segment sells Ford and Lincoln vehicles, service parts, and accessories through distributors and dealers, as well as through dealerships to commercial fleet customers, daily rental car companies, and governments. The Mobility segment designs and builds mobility services; and provides self-driving systems development and vehicle integration, autonomous vehicle research and engineering, and autonomous vehicle transportation-as-a-service network development services. The Ford Credit segment primarily engages in vehicle-related financing and leasing activities to and through automotive dealers. It provides retail installment sale contracts for new and used vehicles; and direct financing leases for new vehicles to retail and commercial customers, such as leasing companies, government entities, daily rental companies, and fleet customers. This segment also offers wholesale loans to dealers to finance the purchase of vehicle inventory; and loans to dealers to finance working capital and enhance dealership facilities, purchase dealership real estate, and other dealer vehicle programs. The company was founded in 1903 and is based in Dearborn, Michigan.'"
      ]
     },
     "execution_count": 153,
     "metadata": {},
     "output_type": "execute_result"
    }
   ],
   "source": [
    "json_data['context']['dispatcher']['stores']['QuoteSummaryStore']['assetProfile']['longBusinessSummary']"
   ]
  },
  {
   "cell_type": "code",
   "execution_count": 154,
   "metadata": {},
   "outputs": [
    {
     "data": {
      "text/plain": [
       "dict_keys(['filings', 'maxAge'])"
      ]
     },
     "execution_count": 154,
     "metadata": {},
     "output_type": "execute_result"
    }
   ],
   "source": [
    "json_data['context']['dispatcher']['stores']['QuoteSummaryStore']['secFilings'].keys()"
   ]
  },
  {
   "cell_type": "code",
   "execution_count": 155,
   "metadata": {
    "collapsed": true,
    "jupyter": {
     "outputs_hidden": true
    }
   },
   "outputs": [
    {
     "data": {
      "text/plain": [
       "[{'date': '2020-10-29',\n",
       "  'epochDate': 1603969511,\n",
       "  'type': '10-Q',\n",
       "  'title': 'Quarterly Report',\n",
       "  'edgarUrl': 'https://yahoo.brand.edgar-online.com/DisplayFiling.aspx?TabIndex=2&dcn=0000037996-20-000071&nav=1&src=Yahoo',\n",
       "  'maxAge': 1},\n",
       " {'date': '2020-10-28',\n",
       "  'epochDate': 1603919714,\n",
       "  'type': '8-K',\n",
       "  'title': 'Results of Operations and Financial Condition, Financial Statements and Exhibits',\n",
       "  'edgarUrl': 'https://yahoo.brand.edgar-online.com/DisplayFiling.aspx?TabIndex=2&dcn=0000037996-20-000070&nav=1&src=Yahoo',\n",
       "  'maxAge': 1},\n",
       " {'date': '2020-10-15',\n",
       "  'epochDate': 1602769209,\n",
       "  'type': '8-K',\n",
       "  'title': 'Change in Directors or Principal Officers, Financial Statements and Exhibits',\n",
       "  'edgarUrl': 'https://yahoo.brand.edgar-online.com/DisplayFiling.aspx?TabIndex=2&dcn=0000037996-20-000066&nav=1&src=Yahoo',\n",
       "  'maxAge': 1},\n",
       " {'date': '2020-10-02',\n",
       "  'epochDate': 1601667709,\n",
       "  'type': '8-K',\n",
       "  'title': 'Other Events, Financial Statements and Exhibits',\n",
       "  'edgarUrl': 'https://yahoo.brand.edgar-online.com/DisplayFiling.aspx?TabIndex=2&dcn=0000037996-20-000064&nav=1&src=Yahoo',\n",
       "  'maxAge': 1},\n",
       " {'date': '2020-10-01',\n",
       "  'epochDate': 1601557393,\n",
       "  'type': '8-K',\n",
       "  'title': 'Change in Directors or Principal Officers, Regulation FD Disclosure, Financial Statements and Exhibits',\n",
       "  'edgarUrl': 'https://yahoo.brand.edgar-online.com/DisplayFiling.aspx?TabIndex=2&dcn=0000037996-20-000062&nav=1&src=Yahoo',\n",
       "  'maxAge': 1},\n",
       " {'date': '2020-08-04',\n",
       "  'epochDate': 1596549938,\n",
       "  'type': '8-K',\n",
       "  'title': 'Change in Directors or Principal Officers, Financial Statements and Exhibits',\n",
       "  'edgarUrl': 'https://yahoo.brand.edgar-online.com/DisplayFiling.aspx?TabIndex=2&dcn=0000037996-20-000059&nav=1&src=Yahoo',\n",
       "  'maxAge': 1},\n",
       " {'date': '2020-07-31',\n",
       "  'epochDate': 1596194245,\n",
       "  'type': '10-Q',\n",
       "  'title': 'Quarterly Report',\n",
       "  'edgarUrl': 'https://yahoo.brand.edgar-online.com/DisplayFiling.aspx?TabIndex=2&dcn=0000037996-20-000057&nav=1&src=Yahoo',\n",
       "  'maxAge': 1},\n",
       " {'date': '2020-07-31',\n",
       "  'epochDate': 1596193825,\n",
       "  'type': '8-K',\n",
       "  'title': 'Results of Operations and Financial Condition, Creation of a Direct Financial Obligation or an Obligation under an Off-Balance Sheet Arrangement of a Registrant, Financial Statements and Exhibits',\n",
       "  'edgarUrl': 'https://yahoo.brand.edgar-online.com/DisplayFiling.aspx?TabIndex=2&dcn=0000037996-20-000056&nav=1&src=Yahoo',\n",
       "  'maxAge': 1},\n",
       " {'date': '2020-07-02',\n",
       "  'epochDate': 1593722382,\n",
       "  'type': '8-K',\n",
       "  'title': 'Other Events, Financial Statements and Exhibits',\n",
       "  'edgarUrl': 'https://yahoo.brand.edgar-online.com/DisplayFiling.aspx?TabIndex=2&dcn=0000037996-20-000050&nav=1&src=Yahoo',\n",
       "  'maxAge': 1},\n",
       " {'date': '2020-06-02',\n",
       "  'epochDate': 1591092476,\n",
       "  'type': '8-K',\n",
       "  'title': 'Disclosing Regulation FD Disclosure',\n",
       "  'edgarUrl': 'https://yahoo.brand.edgar-online.com/DisplayFiling.aspx?TabIndex=2&dcn=0000037996-20-000048&nav=1&src=Yahoo',\n",
       "  'maxAge': 1},\n",
       " {'date': '2020-05-19',\n",
       "  'epochDate': 1589919293,\n",
       "  'type': '8-K',\n",
       "  'title': 'Disclosing Submission of Matters to a Vote of Security Holders',\n",
       "  'edgarUrl': 'https://yahoo.brand.edgar-online.com/DisplayFiling.aspx?TabIndex=2&dcn=0000037996-20-000043&nav=1&src=Yahoo',\n",
       "  'maxAge': 1},\n",
       " {'date': '2020-04-29',\n",
       "  'epochDate': 1588154623,\n",
       "  'type': '10-Q',\n",
       "  'title': 'Quarterly Report',\n",
       "  'edgarUrl': 'https://yahoo.brand.edgar-online.com/DisplayFiling.aspx?TabIndex=2&dcn=0000037996-20-000041&nav=1&src=Yahoo',\n",
       "  'maxAge': 1},\n",
       " {'date': '2020-04-28',\n",
       "  'epochDate': 1588104863,\n",
       "  'type': '8-K',\n",
       "  'title': 'Disclosing Results of Operations and Financial Condition, Financial Statements and Exhibits',\n",
       "  'edgarUrl': 'https://yahoo.brand.edgar-online.com/DisplayFiling.aspx?TabIndex=2&dcn=0000037996-20-000039&nav=1&src=Yahoo',\n",
       "  'maxAge': 1},\n",
       " {'date': '2020-04-22',\n",
       "  'epochDate': 1587581926,\n",
       "  'type': '8-K',\n",
       "  'title': 'Disclosing Other Events, Financial Statements and Exhibits',\n",
       "  'edgarUrl': 'https://yahoo.brand.edgar-online.com/DisplayFiling.aspx?TabIndex=2&dcn=0000037996-20-000036&nav=1&src=Yahoo',\n",
       "  'maxAge': 1},\n",
       " {'date': '2020-04-17',\n",
       "  'epochDate': 1587127790,\n",
       "  'type': '8-K/A',\n",
       "  'title': 'FORD MOTOR CO FILES (8-K/A) Disclosing Regulation FD Disclosure',\n",
       "  'edgarUrl': 'https://yahoo.brand.edgar-online.com/DisplayFiling.aspx?TabIndex=2&dcn=0000037996-20-000034&nav=1&src=Yahoo',\n",
       "  'maxAge': 1},\n",
       " {'date': '2020-04-13',\n",
       "  'epochDate': 1586788296,\n",
       "  'type': '8-K',\n",
       "  'title': 'Disclosing Regulation FD Disclosure, Other Events, Financial Statements and Exhibits',\n",
       "  'edgarUrl': 'https://yahoo.brand.edgar-online.com/DisplayFiling.aspx?TabIndex=2&dcn=0000037996-20-000031&nav=1&src=Yahoo',\n",
       "  'maxAge': 1},\n",
       " {'date': '2020-04-02',\n",
       "  'epochDate': 1585860040,\n",
       "  'type': '8-K',\n",
       "  'title': 'Disclosing Other Events, Financial Statements and Exhibits',\n",
       "  'edgarUrl': 'https://yahoo.brand.edgar-online.com/DisplayFiling.aspx?TabIndex=2&dcn=0000037996-20-000029&nav=1&src=Yahoo',\n",
       "  'maxAge': 1},\n",
       " {'date': '2020-03-26',\n",
       "  'epochDate': 1585225887,\n",
       "  'type': '8-K',\n",
       "  'title': 'Disclosing Change in Directors or Principal Officers, Regulation FD Disclosure, Financial Stat',\n",
       "  'edgarUrl': 'https://yahoo.brand.edgar-online.com/DisplayFiling.aspx?TabIndex=2&dcn=0000037996-20-000026&nav=1&src=Yahoo',\n",
       "  'maxAge': 1},\n",
       " {'date': '2020-03-19',\n",
       "  'epochDate': 1584652655,\n",
       "  'type': '8-K',\n",
       "  'title': 'Disclosing Entry into a Material Definitive Agreement, Financial Statements and Exhibits',\n",
       "  'edgarUrl': 'https://yahoo.brand.edgar-online.com/DisplayFiling.aspx?TabIndex=2&dcn=0000037996-20-000022&nav=1&src=Yahoo',\n",
       "  'maxAge': 1},\n",
       " {'date': '2020-02-07',\n",
       "  'epochDate': 1581084402,\n",
       "  'type': '8-K',\n",
       "  'title': 'Disclosing Change in Directors or Principal Officers, Financial Statements and Exhibits',\n",
       "  'edgarUrl': 'https://yahoo.brand.edgar-online.com/DisplayFiling.aspx?TabIndex=2&dcn=0000037996-20-000012&nav=1&src=Yahoo',\n",
       "  'maxAge': 1},\n",
       " {'date': '2020-02-05',\n",
       "  'epochDate': 1580922249,\n",
       "  'type': '10-K',\n",
       "  'title': 'Annual Report',\n",
       "  'edgarUrl': 'https://yahoo.brand.edgar-online.com/DisplayFiling.aspx?TabIndex=2&dcn=0000037996-20-000010&nav=1&src=Yahoo',\n",
       "  'maxAge': 1},\n",
       " {'date': '2020-02-04',\n",
       "  'epochDate': 1580850934,\n",
       "  'type': '8-K',\n",
       "  'title': 'Disclosing Results of Operations and Financial Condition, Financial Statements and Exhibits',\n",
       "  'edgarUrl': 'https://yahoo.brand.edgar-online.com/DisplayFiling.aspx?TabIndex=2&dcn=0000037996-20-000008&nav=1&src=Yahoo',\n",
       "  'maxAge': 1},\n",
       " {'date': '2020-01-06',\n",
       "  'epochDate': 1578338496,\n",
       "  'type': '8-K',\n",
       "  'title': 'Disclosing Other Events, Financial Statements and Exhibits',\n",
       "  'edgarUrl': 'https://yahoo.brand.edgar-online.com/DisplayFiling.aspx?TabIndex=2&dcn=0000037996-20-000003&nav=1&src=Yahoo',\n",
       "  'maxAge': 1},\n",
       " {'date': '2019-12-11',\n",
       "  'epochDate': 1576080645,\n",
       "  'type': '8-K',\n",
       "  'title': 'Disclosing Other Events, Financial Statements and Exhibits',\n",
       "  'edgarUrl': 'https://yahoo.brand.edgar-online.com/DisplayFiling.aspx?TabIndex=2&dcn=0000037996-19-000086&nav=1&src=Yahoo',\n",
       "  'maxAge': 1},\n",
       " {'date': '2019-10-24',\n",
       "  'epochDate': 1571911326,\n",
       "  'type': '10-Q',\n",
       "  'title': 'Quarterly Report',\n",
       "  'edgarUrl': 'https://yahoo.brand.edgar-online.com/DisplayFiling.aspx?TabIndex=2&dcn=0000037996-19-000078&nav=1&src=Yahoo',\n",
       "  'maxAge': 1},\n",
       " {'date': '2019-10-23',\n",
       "  'epochDate': 1571861564,\n",
       "  'type': '8-K',\n",
       "  'title': 'Disclosing Results of Operations and Financial Condition, Regulation FD Disclosure, Financial ',\n",
       "  'edgarUrl': 'https://yahoo.brand.edgar-online.com/DisplayFiling.aspx?TabIndex=2&dcn=0000037996-19-000076&nav=1&src=Yahoo',\n",
       "  'maxAge': 1},\n",
       " {'date': '2019-10-02',\n",
       "  'epochDate': 1570049328,\n",
       "  'type': '8-K',\n",
       "  'title': 'Disclosing Other Events, Financial Statements and Exhibits',\n",
       "  'edgarUrl': 'https://yahoo.brand.edgar-online.com/DisplayFiling.aspx?TabIndex=2&dcn=0000037996-19-000074&nav=1&src=Yahoo',\n",
       "  'maxAge': 1},\n",
       " {'date': '2019-10-01',\n",
       "  'epochDate': 1569927952,\n",
       "  'type': '8-K',\n",
       "  'title': 'Disclosing Material Impairments, Regulation FD Disclosure, Financial Statements and Exhibits',\n",
       "  'edgarUrl': 'https://yahoo.brand.edgar-online.com/DisplayFiling.aspx?TabIndex=2&dcn=0000037996-19-000071&nav=1&src=Yahoo',\n",
       "  'maxAge': 1},\n",
       " {'date': '2019-07-25',\n",
       "  'epochDate': 1564049096,\n",
       "  'type': '10-Q',\n",
       "  'title': 'Quarterly Report',\n",
       "  'edgarUrl': 'https://yahoo.brand.edgar-online.com/DisplayFiling.aspx?TabIndex=2&dcn=0000037996-19-000067&nav=1&src=Yahoo',\n",
       "  'maxAge': 1},\n",
       " {'date': '2019-07-24',\n",
       "  'epochDate': 1563999789,\n",
       "  'type': '8-K',\n",
       "  'title': 'Disclosing Results of Operations and Financial Condition, Regulation FD Disclosure, Financial ',\n",
       "  'edgarUrl': 'https://yahoo.brand.edgar-online.com/DisplayFiling.aspx?TabIndex=2&dcn=0000037996-19-000065&nav=1&src=Yahoo',\n",
       "  'maxAge': 1},\n",
       " {'date': '2019-07-12',\n",
       "  'epochDate': 1562934583,\n",
       "  'type': '8-K',\n",
       "  'title': 'Disclosing Other Events, Financial Statements and Exhibits',\n",
       "  'edgarUrl': 'https://yahoo.brand.edgar-online.com/DisplayFiling.aspx?TabIndex=2&dcn=0000037996-19-000062&nav=1&src=Yahoo',\n",
       "  'maxAge': 1},\n",
       " {'date': '2019-07-10',\n",
       "  'epochDate': 1562786581,\n",
       "  'type': '8-K',\n",
       "  'title': 'Disclosing Change in Directors or Principal Officers, Financial Statements and Exhibits',\n",
       "  'edgarUrl': 'https://yahoo.brand.edgar-online.com/DisplayFiling.aspx?TabIndex=2&dcn=0000037996-19-000059&nav=1&src=Yahoo',\n",
       "  'maxAge': 1},\n",
       " {'date': '2019-07-03',\n",
       "  'epochDate': 1562177801,\n",
       "  'type': '8-K',\n",
       "  'title': 'Disclosing Other Events, Financial Statements and Exhibits',\n",
       "  'edgarUrl': 'https://yahoo.brand.edgar-online.com/DisplayFiling.aspx?TabIndex=2&dcn=0000037996-19-000057&nav=1&src=Yahoo',\n",
       "  'maxAge': 1},\n",
       " {'date': '2019-06-12',\n",
       "  'epochDate': 1560342846,\n",
       "  'type': '8-K',\n",
       "  'title': 'Disclosing Regulation FD Disclosure',\n",
       "  'edgarUrl': 'https://yahoo.brand.edgar-online.com/DisplayFiling.aspx?TabIndex=2&dcn=0000037996-19-000052&nav=1&src=Yahoo',\n",
       "  'maxAge': 1},\n",
       " {'date': '2019-06-06',\n",
       "  'epochDate': 1559821574,\n",
       "  'type': '8-K',\n",
       "  'title': 'Disclosing Costs Associated with Exit or Disposal Activities',\n",
       "  'edgarUrl': 'https://yahoo.brand.edgar-online.com/DisplayFiling.aspx?TabIndex=2&dcn=0000037996-19-000049&nav=1&src=Yahoo',\n",
       "  'maxAge': 1},\n",
       " {'date': '2019-06-04',\n",
       "  'epochDate': 1559680353,\n",
       "  'type': '8-K',\n",
       "  'title': 'Disclosing Change in Directors or Principal Officers, Financial Statements and Exhibits',\n",
       "  'edgarUrl': 'https://yahoo.brand.edgar-online.com/DisplayFiling.aspx?TabIndex=2&dcn=0000037996-19-000046&nav=1&src=Yahoo',\n",
       "  'maxAge': 1}]"
      ]
     },
     "execution_count": 155,
     "metadata": {},
     "output_type": "execute_result"
    }
   ],
   "source": [
    "json_data['context']['dispatcher']['stores']['QuoteSummaryStore']['secFilings']['filings']"
   ]
  },
  {
   "cell_type": "code",
   "execution_count": 95,
   "metadata": {
    "collapsed": true,
    "jupyter": {
     "outputs_hidden": true
    }
   },
   "outputs": [
    {
     "data": {
      "text/plain": [
       "{'previousClose': {'raw': 8.21, 'fmt': '8.21'},\n",
       " 'regularMarketOpen': {'raw': 8.23, 'fmt': '8.23'},\n",
       " 'twoHundredDayAverage': {'raw': 6.6803546, 'fmt': '6.68'},\n",
       " 'trailingAnnualDividendYield': {'raw': 0.036540806, 'fmt': '3.65%'},\n",
       " 'payoutRatio': {},\n",
       " 'volume24Hr': {},\n",
       " 'regularMarketDayHigh': {'raw': 8.57, 'fmt': '8.57'},\n",
       " 'navPrice': {},\n",
       " 'averageDailyVolume10Day': {'raw': 76730700,\n",
       "  'fmt': '76.73M',\n",
       "  'longFmt': '76,730,700'},\n",
       " 'totalAssets': {},\n",
       " 'regularMarketPreviousClose': {'raw': 8.21, 'fmt': '8.21'},\n",
       " 'fiftyDayAverage': {'raw': 7.6033335, 'fmt': '7.60'},\n",
       " 'trailingAnnualDividendRate': {'raw': 0.3, 'fmt': '0.30'},\n",
       " 'open': {'raw': 8.23, 'fmt': '8.23'},\n",
       " 'toCurrency': None,\n",
       " 'averageVolume10days': {'raw': 76730700,\n",
       "  'fmt': '76.73M',\n",
       "  'longFmt': '76,730,700'},\n",
       " 'expireDate': {},\n",
       " 'yield': {},\n",
       " 'algorithm': None,\n",
       " 'dividendRate': {},\n",
       " 'exDividendDate': {'raw': 1580256000, 'fmt': '2020-01-29'},\n",
       " 'beta': {'raw': 1.232243, 'fmt': '1.23'},\n",
       " 'circulatingSupply': {},\n",
       " 'startDate': {},\n",
       " 'regularMarketDayLow': {'raw': 8.23, 'fmt': '8.23'},\n",
       " 'priceHint': {'raw': 2, 'fmt': '2', 'longFmt': '2'},\n",
       " 'currency': 'USD',\n",
       " 'regularMarketVolume': {'raw': 77614948,\n",
       "  'fmt': '77.61M',\n",
       "  'longFmt': '77,614,948'},\n",
       " 'lastMarket': None,\n",
       " 'maxSupply': {},\n",
       " 'openInterest': {},\n",
       " 'marketCap': {'raw': 33975791616,\n",
       "  'fmt': '33.98B',\n",
       "  'longFmt': '33,975,791,616'},\n",
       " 'volumeAllCurrencies': {},\n",
       " 'strikePrice': {},\n",
       " 'averageVolume': {'raw': 61808909, 'fmt': '61.81M', 'longFmt': '61,808,909'},\n",
       " 'priceToSalesTrailing12Months': {'raw': 0.25954145, 'fmt': '0.26'},\n",
       " 'dayLow': {'raw': 8.23, 'fmt': '8.23'},\n",
       " 'ask': {'raw': 8.52, 'fmt': '8.52'},\n",
       " 'ytdReturn': {},\n",
       " 'askSize': {'raw': 38500, 'fmt': '38.5k', 'longFmt': '38,500'},\n",
       " 'volume': {'raw': 77614948, 'fmt': '77.61M', 'longFmt': '77,614,948'},\n",
       " 'fiftyTwoWeekHigh': {'raw': 9.57, 'fmt': '9.57'},\n",
       " 'forwardPE': {'raw': 8.056604, 'fmt': '8.06'},\n",
       " 'maxAge': 1,\n",
       " 'fromCurrency': None,\n",
       " 'fiveYearAvgDividendYield': {'raw': 5.93, 'fmt': '5.93'},\n",
       " 'fiftyTwoWeekLow': {'raw': 3.96, 'fmt': '3.96'},\n",
       " 'bid': {'raw': 8.5, 'fmt': '8.50'},\n",
       " 'tradeable': False,\n",
       " 'dividendYield': {},\n",
       " 'bidSize': {'raw': 39400, 'fmt': '39.4k', 'longFmt': '39,400'},\n",
       " 'dayHigh': {'raw': 8.57, 'fmt': '8.57'}}"
      ]
     },
     "execution_count": 95,
     "metadata": {},
     "output_type": "execute_result"
    }
   ],
   "source": [
    "json_data['context']['dispatcher']['stores']['QuoteSummaryStore']['summaryDetail']"
   ]
  },
  {
   "cell_type": "markdown",
   "metadata": {},
   "source": [
    "# Statistics"
   ]
  },
  {
   "cell_type": "code",
   "execution_count": 158,
   "metadata": {
    "jupyter": {
     "source_hidden": true
    }
   },
   "outputs": [],
   "source": [
    "response=requests.get(url_status.format(stock,stock))\n",
    "soup= BeautifulSoup(response.text,'html.parser')\n",
    "pattern= re.compile(r'\\s--\\sData\\s--\\s')\n",
    "script_data=soup.find('script',text=pattern).contents[0]\n",
    "start =script_data.find(\"context\")-2\n",
    "json_data=json.loads(script_data[start:-12])"
   ]
  },
  {
   "cell_type": "code",
   "execution_count": 98,
   "metadata": {
    "collapsed": true,
    "jupyter": {
     "outputs_hidden": true,
     "source_hidden": true
    }
   },
   "outputs": [
    {
     "data": {
      "text/plain": [
       "dict_keys(['defaultKeyStatistics', 'financialsTemplate', 'price', 'financialData', 'quoteType', 'calendarEvents', 'summaryDetail', 'symbol', 'pageViews'])"
      ]
     },
     "execution_count": 98,
     "metadata": {},
     "output_type": "execute_result"
    }
   ],
   "source": [
    "json_data['context']['dispatcher']['stores']['QuoteSummaryStore'].keys()"
   ]
  },
  {
   "cell_type": "code",
   "execution_count": 160,
   "metadata": {
    "collapsed": true,
    "jupyter": {
     "outputs_hidden": true
    }
   },
   "outputs": [
    {
     "data": {
      "text/plain": [
       "{'annualHoldingsTurnover': {},\n",
       " 'enterpriseToRevenue': {'raw': 1.246, 'fmt': '1.25'},\n",
       " 'beta3Year': {},\n",
       " 'profitMargins': {'raw': -0.00124, 'fmt': '-0.12%'},\n",
       " 'enterpriseToEbitda': {'raw': 23.133, 'fmt': '23.13'},\n",
       " '52WeekChange': {'raw': -0.045810044, 'fmt': '-4.58%'},\n",
       " 'morningStarRiskRating': {},\n",
       " 'forwardEps': {'raw': 1.06, 'fmt': '1.06'},\n",
       " 'revenueQuarterlyGrowth': {},\n",
       " 'sharesOutstanding': {'raw': 3907579904,\n",
       "  'fmt': '3.91B',\n",
       "  'longFmt': '3,907,579,904'},\n",
       " 'fundInceptionDate': {},\n",
       " 'annualReportExpenseRatio': {},\n",
       " 'totalAssets': {},\n",
       " 'bookValue': {'raw': 8.326, 'fmt': '8.33'},\n",
       " 'sharesShort': {'raw': 89221619, 'fmt': '89.22M', 'longFmt': '89,221,619'},\n",
       " 'sharesPercentSharesOut': {'raw': 0.0224, 'fmt': '2.24%'},\n",
       " 'fundFamily': None,\n",
       " 'lastFiscalYearEnd': {'raw': 1577750400, 'fmt': '2019-12-31'},\n",
       " 'heldPercentInstitutions': {'raw': 0.51794, 'fmt': '51.79%'},\n",
       " 'netIncomeToCommon': {'raw': -163000000,\n",
       "  'fmt': '-163M',\n",
       "  'longFmt': '-163,000,000'},\n",
       " 'trailingEps': {'raw': -0.041, 'fmt': '-0.04'},\n",
       " 'lastDividendValue': {'raw': 0.15, 'fmt': '0.15'},\n",
       " 'SandP52WeekChange': {'raw': 0.14833939, 'fmt': '14.83%'},\n",
       " 'priceToBook': {'raw': 1.0257026, 'fmt': '1.03'},\n",
       " 'heldPercentInsiders': {'raw': 0.00204, 'fmt': '0.20%'},\n",
       " 'nextFiscalYearEnd': {'raw': 1640908800, 'fmt': '2021-12-31'},\n",
       " 'yield': {},\n",
       " 'mostRecentQuarter': {'raw': 1601424000, 'fmt': '2020-09-30'},\n",
       " 'shortRatio': {'raw': 1.39, 'fmt': '1.39'},\n",
       " 'sharesShortPreviousMonthDate': {'raw': 1601424000, 'fmt': '2020-09-30'},\n",
       " 'floatShares': {'raw': 3898023343, 'fmt': '3.9B', 'longFmt': '3,898,023,343'},\n",
       " 'beta': {'raw': 1.232243, 'fmt': '1.23'},\n",
       " 'enterpriseValue': {'raw': 163067772928,\n",
       "  'fmt': '163.07B',\n",
       "  'longFmt': '163,067,772,928'},\n",
       " 'priceHint': {'raw': 2, 'fmt': '2', 'longFmt': '2'},\n",
       " 'threeYearAverageReturn': {},\n",
       " 'lastSplitDate': {'raw': 965260800, 'fmt': '2000-08-03'},\n",
       " 'lastSplitFactor': '1748175:1000000',\n",
       " 'legalType': None,\n",
       " 'lastDividendDate': {'raw': 1580256000, 'fmt': '2020-01-29'},\n",
       " 'morningStarOverallRating': {},\n",
       " 'earningsQuarterlyGrowth': {'raw': 4.612, 'fmt': '461.20%'},\n",
       " 'priceToSalesTrailing12Months': {},\n",
       " 'dateShortInterest': {'raw': 1604016000, 'fmt': '2020-10-30'},\n",
       " 'pegRatio': {'raw': -23.51, 'fmt': '-23.51'},\n",
       " 'ytdReturn': {},\n",
       " 'forwardPE': {'raw': 8.056604, 'fmt': '8.06'},\n",
       " 'maxAge': 1,\n",
       " 'lastCapGain': {},\n",
       " 'shortPercentOfFloat': {'raw': 0.0252, 'fmt': '2.52%'},\n",
       " 'sharesShortPriorMonth': {'raw': 96138569,\n",
       "  'fmt': '96.14M',\n",
       "  'longFmt': '96,138,569'},\n",
       " 'category': None,\n",
       " 'fiveYearAverageReturn': {}}"
      ]
     },
     "execution_count": 160,
     "metadata": {},
     "output_type": "execute_result"
    }
   ],
   "source": [
    "json_data['context']['dispatcher']['stores']['QuoteSummaryStore']['defaultKeyStatistics']"
   ]
  },
  {
   "cell_type": "markdown",
   "metadata": {},
   "source": [
    "# History of stock data"
   ]
  },
  {
   "cell_type": "code",
   "execution_count": 161,
   "metadata": {},
   "outputs": [],
   "source": [
    "stock_url='https://query1.finance.yahoo.com/v7/finance/download/F?period1=1573759145&period2=1605381545&interval=1d&events=history&includeAdjustedClose=true'"
   ]
  },
  {
   "cell_type": "code",
   "execution_count": 162,
   "metadata": {},
   "outputs": [],
   "source": [
    "response=requests.get(stock_url)"
   ]
  },
  {
   "cell_type": "code",
   "execution_count": 163,
   "metadata": {
    "collapsed": true,
    "jupyter": {
     "outputs_hidden": true
    }
   },
   "outputs": [
    {
     "data": {
      "text/plain": [
       "'Date,Open,High,Low,Close,Adj Close,Volume\\n2019-11-14,8.850000,8.910000,8.780000,8.790000,8.643010,26527800\\n2019-11-15,8.850000,8.960000,8.850000,8.950000,8.800335,26416300\\n2019-11-18,9.050000,9.050000,8.890000,8.950000,8.800335,38291400\\n2019-11-19,8.990000,9.000000,8.870000,8.900000,8.751170,31168900\\n2019-11-20,8.880000,8.890000,8.680000,8.730000,8.584013,38271500\\n2019-11-21,8.770000,8.790000,8.670000,8.710000,8.564348,33161400\\n2019-11-22,8.800000,8.900000,8.770000,8.890000,8.741339,34966700\\n2019-11-25,8.900000,9.010000,8.870000,9.000000,8.849499,30580900\\n2019-11-26,8.980000,9.020000,8.910000,9.010000,8.859331,30093800\\n2019-11-27,9.030000,9.150000,9.020000,9.100000,8.947826,37396100\\n2019-11-29,9.040000,9.100000,9.030000,9.060000,8.908496,13096200\\n2019-12-02,9.080000,9.140000,9.000000,9.010000,8.859331,37232700\\n2019-12-03,8.950000,8.950000,8.800000,8.890000,8.741339,40653100\\n2019-12-04,8.950000,9.030000,8.940000,8.950000,8.800335,29982900\\n2019-12-05,8.970000,9.000000,8.880000,8.930000,8.780669,25768600\\n2019-12-06,8.960000,9.070000,8.950000,9.020000,8.869164,31086900\\n2019-12-09,8.970000,9.070000,8.960000,9.010000,8.859331,21772900\\n2019-12-10,9.020000,9.100000,8.960000,9.070000,8.918327,34217700\\n2019-12-11,9.060000,9.140000,9.060000,9.110000,8.957659,33204200\\n2019-12-12,9.110000,9.360000,9.110000,9.320000,9.164147,48390900\\n2019-12-13,9.320000,9.390000,9.190000,9.230000,9.075652,35334500\\n2019-12-16,9.240000,9.390000,9.220000,9.390000,9.232977,42337600\\n2019-12-17,9.380000,9.410000,9.310000,9.390000,9.232977,35503900\\n2019-12-18,9.390000,9.570000,9.360000,9.540000,9.380468,45905300\\n2019-12-19,9.550000,9.570000,9.380000,9.410000,9.252643,42236000\\n2019-12-20,9.500000,9.540000,9.440000,9.480000,9.321471,50191200\\n2019-12-23,9.500000,9.570000,9.400000,9.440000,9.282141,54784400\\n2019-12-24,9.440000,9.490000,9.430000,9.470000,9.311640,11881600\\n2019-12-26,9.470000,9.490000,9.430000,9.450000,9.291973,28961300\\n2019-12-27,9.450000,9.460000,9.350000,9.360000,9.203478,28272800\\n2019-12-30,9.340000,9.350000,9.230000,9.250000,9.095318,36074900\\n2019-12-31,9.250000,9.330000,9.250000,9.300000,9.144482,32342100\\n2020-01-02,9.290000,9.420000,9.190000,9.420000,9.262475,43425700\\n2020-01-03,9.310000,9.370000,9.150000,9.210000,9.055987,45040800\\n2020-01-06,9.100000,9.170000,9.060000,9.160000,9.006823,43372300\\n2020-01-07,9.200000,9.250000,9.120000,9.250000,9.095318,44984100\\n2020-01-08,9.230000,9.300000,9.170000,9.250000,9.095318,45994900\\n2020-01-09,9.300000,9.310000,9.180000,9.260000,9.105151,51817400\\n2020-01-10,9.270000,9.360000,9.250000,9.250000,9.095318,39796300\\n2020-01-13,9.250000,9.260000,9.110000,9.240000,9.085485,48553700\\n2020-01-14,9.220000,9.330000,9.210000,9.290000,9.134649,42935600\\n2020-01-15,9.270000,9.300000,9.180000,9.190000,9.036321,55923900\\n2020-01-16,9.230000,9.280000,9.150000,9.170000,9.016656,44310400\\n2020-01-17,9.190000,9.230000,9.130000,9.160000,9.006823,41644900\\n2020-01-21,9.150000,9.220000,9.100000,9.210000,9.055987,49556400\\n2020-01-22,9.220000,9.250000,9.150000,9.160000,9.006823,39914800\\n2020-01-23,9.140000,9.160000,8.930000,9.140000,8.987158,75848700\\n2020-01-24,9.110000,9.120000,8.960000,9.000000,8.849499,68100900\\n2020-01-27,8.880000,8.960000,8.780000,8.890000,8.741339,60769300\\n2020-01-28,8.940000,9.000000,8.860000,8.970000,8.820001,85163400\\n2020-01-29,8.850000,8.960000,8.840000,8.860000,8.860000,59057400\\n2020-01-30,8.810000,8.840000,8.730000,8.840000,8.840000,42827800\\n2020-01-31,8.780000,8.840000,8.740000,8.820000,8.820000,59813700\\n2020-02-03,8.850000,9.140000,8.850000,8.980000,8.980000,71432700\\n2020-02-04,9.080000,9.240000,9.070000,9.180000,9.180000,86196400\\n2020-02-05,8.410000,8.480000,8.260000,8.310000,8.310000,145792500\\n2020-02-06,8.370000,8.380000,8.250000,8.250000,8.250000,68823400\\n2020-02-07,8.210000,8.210000,8.020000,8.110000,8.110000,98256500\\n2020-02-10,8.150000,8.150000,8.050000,8.060000,8.060000,71834900\\n2020-02-11,8.100000,8.150000,8.080000,8.100000,8.100000,80164500\\n2020-02-12,8.140000,8.330000,8.130000,8.240000,8.240000,111536800\\n2020-02-13,8.210000,8.360000,8.210000,8.250000,8.250000,67648800\\n2020-02-14,8.270000,8.270000,8.080000,8.100000,8.100000,46359700\\n2020-02-18,8.120000,8.150000,8.020000,8.060000,8.060000,65094800\\n2020-02-19,8.060000,8.100000,8.000000,8.000000,8.000000,69668200\\n2020-02-20,8.000000,8.070000,7.990000,8.030000,8.030000,52318200\\n2020-02-21,8.020000,8.030000,7.890000,7.890000,7.890000,58326300\\n2020-02-24,7.700000,7.720000,7.550000,7.570000,7.570000,110048200\\n2020-02-25,7.680000,7.680000,7.220000,7.230000,7.230000,108888300\\n2020-02-26,7.300000,7.460000,7.210000,7.210000,7.210000,92469500\\n2020-02-27,7.130000,7.280000,6.920000,6.970000,6.970000,118642400\\n2020-02-28,6.840000,6.960000,6.670000,6.960000,6.960000,116546700\\n2020-03-02,7.110000,7.230000,6.880000,7.200000,7.200000,96766000\\n2020-03-03,7.290000,7.340000,6.890000,6.970000,6.970000,97457800\\n2020-03-04,7.090000,7.090000,6.920000,7.080000,7.080000,70588100\\n2020-03-05,6.960000,6.970000,6.710000,6.740000,6.740000,78070900\\n2020-03-06,6.600000,6.680000,6.400000,6.490000,6.490000,109932200\\n2020-03-09,5.970000,6.140000,5.870000,5.900000,5.900000,103901700\\n2020-03-10,6.260000,6.290000,5.800000,6.260000,6.260000,101873600\\n2020-03-11,6.060000,6.110000,5.880000,5.900000,5.900000,98587100\\n2020-03-12,5.380000,5.690000,5.200000,5.350000,5.350000,89453100\\n2020-03-13,5.870000,5.900000,5.120000,5.630000,5.630000,125375300\\n2020-03-16,5.040000,5.220000,5.000000,5.010000,5.010000,110310900\\n2020-03-17,5.080000,5.140000,4.700000,5.010000,5.010000,104233500\\n2020-03-18,4.750000,4.840000,4.100000,4.500000,4.500000,125954700\\n2020-03-19,4.330000,4.580000,4.100000,4.470000,4.470000,126603800\\n2020-03-20,4.540000,4.750000,4.250000,4.330000,4.330000,129378600\\n2020-03-23,4.270000,4.520000,3.960000,4.010000,4.010000,134925000\\n2020-03-24,4.470000,4.990000,4.260000,4.950000,4.950000,146192100\\n2020-03-25,5.770000,5.870000,5.120000,5.390000,5.390000,198999400\\n2020-03-26,5.360000,5.650000,5.160000,5.250000,5.250000,138227600\\n2020-03-27,5.070000,5.300000,4.910000,5.190000,5.190000,106324000\\n2020-03-30,5.110000,5.120000,4.930000,5.030000,5.030000,97879700\\n2020-03-31,5.030000,5.190000,4.750000,4.830000,4.830000,231800800\\n2020-04-01,4.630000,4.770000,4.360000,4.400000,4.400000,119174500\\n2020-04-02,4.390000,4.570000,4.250000,4.360000,4.360000,90891700\\n2020-04-03,4.400000,4.420000,4.170000,4.240000,4.240000,85659900\\n2020-04-06,4.540000,4.670000,4.410000,4.530000,4.530000,102205300\\n2020-04-07,4.850000,5.030000,4.630000,4.710000,4.710000,115150400\\n2020-04-08,4.860000,5.090000,4.800000,5.030000,5.030000,117022200\\n2020-04-09,5.510000,5.750000,5.240000,5.370000,5.370000,175833700\\n2020-04-13,5.430000,5.430000,5.020000,5.160000,5.160000,99320000\\n2020-04-14,5.270000,5.440000,5.160000,5.290000,5.290000,74877000\\n2020-04-15,5.060000,5.140000,4.950000,5.030000,5.030000,74727700\\n2020-04-16,5.060000,5.070000,4.890000,4.940000,4.940000,58951200\\n2020-04-17,5.170000,5.280000,5.030000,5.120000,5.120000,91989300\\n2020-04-20,5.010000,5.090000,4.910000,4.980000,4.980000,71079400\\n2020-04-21,4.890000,4.920000,4.720000,4.770000,4.770000,82400200\\n2020-04-22,4.870000,4.890000,4.750000,4.770000,4.770000,62398600\\n2020-04-23,4.800000,4.980000,4.770000,4.890000,4.890000,61959800\\n2020-04-24,4.930000,4.960000,4.800000,4.870000,4.870000,54352500\\n2020-04-27,4.910000,5.190000,4.880000,5.170000,5.170000,91082800\\n2020-04-28,5.490000,5.540000,5.220000,5.380000,5.380000,106222800\\n2020-04-29,5.330000,5.500000,5.210000,5.260000,5.260000,126393000\\n2020-04-30,5.160000,5.240000,5.060000,5.090000,5.090000,93437900\\n2020-05-01,5.020000,5.050000,4.900000,4.920000,4.920000,82660100\\n2020-05-04,4.880000,4.970000,4.770000,4.860000,4.860000,84214700\\n2020-05-05,4.990000,5.090000,4.940000,4.970000,4.970000,96301300\\n2020-05-06,5.050000,5.090000,4.820000,4.870000,4.870000,89390400\\n2020-05-07,4.900000,4.980000,4.850000,4.870000,4.870000,67222900\\n2020-05-08,4.960000,5.250000,4.950000,5.240000,5.240000,101333800\\n2020-05-11,5.180000,5.190000,5.050000,5.120000,5.120000,75734000\\n2020-05-12,5.150000,5.220000,4.970000,4.980000,4.980000,70965200\\n2020-05-13,5.000000,5.010000,4.660000,4.720000,4.720000,100192300\\n2020-05-14,4.640000,4.920000,4.520000,4.890000,4.890000,107931900\\n2020-05-15,4.800000,4.940000,4.750000,4.900000,4.900000,80544700\\n2020-05-18,5.120000,5.330000,5.120000,5.310000,5.310000,136241400\\n2020-05-19,5.270000,5.450000,5.150000,5.300000,5.300000,94836300\\n2020-05-20,5.380000,5.540000,5.370000,5.490000,5.490000,87685400\\n2020-05-21,5.450000,5.690000,5.440000,5.630000,5.630000,87098200\\n2020-05-22,5.680000,5.730000,5.500000,5.650000,5.650000,76656500\\n2020-05-26,5.920000,5.990000,5.820000,5.840000,5.840000,86046300\\n2020-05-27,6.010000,6.090000,5.840000,6.030000,6.030000,110413900\\n2020-05-28,6.050000,6.070000,5.810000,5.850000,5.850000,76930200\\n2020-05-29,5.750000,5.800000,5.570000,5.710000,5.710000,93039200\\n2020-06-01,5.730000,5.880000,5.670000,5.870000,5.870000,61879700\\n2020-06-02,5.960000,6.000000,5.830000,5.900000,5.900000,80046000\\n2020-06-03,5.990000,6.270000,5.920000,6.190000,6.190000,98876600\\n2020-06-04,6.200000,6.580000,6.120000,6.570000,6.570000,115798600\\n2020-06-05,7.240000,7.500000,7.020000,7.340000,7.340000,208648200\\n2020-06-08,7.530000,7.740000,7.370000,7.530000,7.530000,113169300\\n2020-06-09,7.220000,7.440000,7.050000,7.240000,7.240000,115749600\\n2020-06-10,7.330000,7.340000,6.770000,6.810000,6.810000,147327100\\n2020-06-11,6.070000,6.460000,6.040000,6.130000,6.130000,116184700\\n2020-06-12,6.560000,6.630000,6.300000,6.460000,6.460000,88719000\\n2020-06-15,6.180000,6.580000,6.110000,6.500000,6.500000,104742600\\n2020-06-16,6.870000,6.870000,6.440000,6.550000,6.550000,109535200\\n2020-06-17,6.560000,6.560000,6.310000,6.330000,6.330000,67732200\\n2020-06-18,6.260000,6.450000,6.190000,6.330000,6.330000,61301800\\n2020-06-19,6.640000,6.690000,6.230000,6.230000,6.230000,126127800\\n2020-06-22,6.270000,6.280000,6.130000,6.280000,6.280000,71724300\\n2020-06-23,6.330000,6.380000,6.140000,6.150000,6.150000,86672800\\n2020-06-24,6.060000,6.120000,5.860000,5.950000,5.950000,75536300\\n2020-06-25,5.860000,6.050000,5.800000,6.030000,6.030000,73612700\\n2020-06-26,6.040000,6.070000,5.810000,5.910000,5.910000,118435400\\n2020-06-29,5.910000,6.070000,5.810000,6.010000,6.010000,58208400\\n2020-06-30,5.980000,6.100000,5.900000,6.080000,6.080000,61909300\\n2020-07-01,6.100000,6.180000,5.950000,5.980000,5.980000,62454700\\n2020-07-02,6.100000,6.170000,6.000000,6.050000,6.050000,67270500\\n2020-07-06,6.140000,6.200000,6.110000,6.190000,6.190000,63921800\\n2020-07-07,6.140000,6.200000,6.090000,6.120000,6.120000,56652000\\n2020-07-08,6.130000,6.180000,6.050000,6.090000,6.090000,60928600\\n2020-07-09,6.090000,6.100000,5.820000,5.840000,5.840000,82693000\\n2020-07-10,5.800000,6.100000,5.740000,6.100000,6.100000,73710700\\n2020-07-13,6.150000,6.220000,6.050000,6.060000,6.060000,80190700\\n2020-07-14,6.180000,6.390000,6.080000,6.360000,6.360000,106131800\\n2020-07-15,6.540000,6.780000,6.520000,6.740000,6.740000,101648700\\n2020-07-16,6.660000,6.900000,6.630000,6.860000,6.860000,93498500\\n2020-07-17,6.900000,6.910000,6.730000,6.800000,6.800000,80769000\\n2020-07-20,6.800000,6.850000,6.580000,6.660000,6.660000,71361700\\n2020-07-21,6.710000,6.810000,6.640000,6.680000,6.680000,63343900\\n2020-07-22,6.640000,6.880000,6.610000,6.840000,6.840000,75629600\\n2020-07-23,6.870000,7.060000,6.800000,6.980000,6.980000,88652600\\n2020-07-24,6.900000,7.010000,6.860000,6.880000,6.880000,62292000\\n2020-07-27,6.920000,6.940000,6.770000,6.930000,6.930000,60370200\\n2020-07-28,6.900000,7.050000,6.900000,7.010000,7.010000,56312500\\n2020-07-29,7.050000,7.060000,6.830000,6.920000,6.920000,59437200\\n2020-07-30,6.740000,6.830000,6.670000,6.740000,6.740000,58991000\\n2020-07-31,6.890000,6.900000,6.520000,6.610000,6.610000,115394100\\n2020-08-03,6.650000,6.720000,6.530000,6.690000,6.690000,53845900\\n2020-08-04,6.910000,6.910000,6.730000,6.860000,6.860000,69377600\\n2020-08-05,6.860000,7.030000,6.860000,6.960000,6.960000,82716400\\n2020-08-06,6.930000,7.000000,6.890000,6.930000,6.930000,48668500\\n2020-08-07,6.870000,6.920000,6.790000,6.860000,6.860000,47455200\\n2020-08-10,6.910000,7.130000,6.910000,7.090000,7.090000,57229000\\n2020-08-11,7.210000,7.380000,7.190000,7.230000,7.230000,74016400\\n2020-08-12,7.330000,7.370000,7.060000,7.110000,7.110000,59194100\\n2020-08-13,7.030000,7.180000,7.000000,7.030000,7.030000,50066800\\n2020-08-14,6.970000,7.110000,6.930000,7.040000,7.040000,43517700\\n2020-08-17,7.050000,7.060000,6.870000,6.980000,6.980000,64555200\\n2020-08-18,6.980000,7.010000,6.890000,6.890000,6.890000,40444200\\n2020-08-19,6.890000,7.020000,6.860000,6.870000,6.870000,44158100\\n2020-08-20,6.770000,6.890000,6.730000,6.840000,6.840000,41824500\\n2020-08-21,6.780000,6.850000,6.650000,6.660000,6.660000,39158900\\n2020-08-24,6.730000,7.000000,6.690000,6.980000,6.980000,64974700\\n2020-08-25,7.010000,7.100000,6.860000,6.940000,6.940000,49550000\\n2020-08-26,6.940000,6.970000,6.770000,6.820000,6.820000,48600100\\n2020-08-27,6.830000,6.980000,6.830000,6.910000,6.910000,45740900\\n2020-08-28,6.930000,6.950000,6.860000,6.940000,6.940000,39936900\\n2020-08-31,6.900000,6.930000,6.790000,6.820000,6.820000,50089500\\n2020-09-01,6.770000,6.870000,6.720000,6.830000,6.830000,48214200\\n2020-09-02,6.810000,6.970000,6.770000,6.950000,6.950000,59008900\\n2020-09-03,6.920000,7.090000,6.760000,6.820000,6.820000,78130900\\n2020-09-04,6.860000,6.950000,6.750000,6.900000,6.900000,70017500\\n2020-09-08,6.830000,7.170000,6.810000,7.030000,7.030000,84749300\\n2020-09-09,7.070000,7.100000,6.930000,6.970000,6.970000,56501400\\n2020-09-10,6.990000,7.040000,6.870000,6.910000,6.910000,69228600\\n2020-09-11,6.940000,7.000000,6.850000,7.000000,7.000000,55080600\\n2020-09-14,7.010000,7.180000,6.980000,7.120000,7.120000,58704300\\n2020-09-15,7.160000,7.180000,7.000000,7.040000,7.040000,65198500\\n2020-09-16,7.050000,7.120000,6.990000,7.020000,7.020000,46245800\\n2020-09-17,7.040000,7.340000,6.980000,7.280000,7.280000,84850100\\n2020-09-18,7.310000,7.400000,7.220000,7.230000,7.230000,71929400\\n2020-09-21,7.090000,7.090000,6.810000,6.870000,6.870000,72850300\\n2020-09-22,6.890000,6.990000,6.770000,6.780000,6.780000,55865500\\n2020-09-23,6.810000,6.930000,6.630000,6.640000,6.640000,52588600\\n2020-09-24,6.600000,6.760000,6.410000,6.660000,6.660000,59822900\\n2020-09-25,6.610000,6.710000,6.500000,6.510000,6.510000,53761800\\n2020-09-28,6.590000,6.770000,6.580000,6.690000,6.690000,47582600\\n2020-09-29,6.690000,6.700000,6.540000,6.600000,6.600000,38987300\\n2020-09-30,6.610000,6.750000,6.590000,6.660000,6.660000,55809500\\n2020-10-01,6.710000,6.770000,6.630000,6.750000,6.750000,58340600\\n2020-10-02,6.620000,6.930000,6.600000,6.890000,6.890000,60798400\\n2020-10-05,6.950000,7.050000,6.950000,7.020000,7.020000,42359400\\n2020-10-06,7.060000,7.250000,6.960000,6.980000,6.980000,78203800\\n2020-10-07,7.110000,7.250000,7.060000,7.230000,7.230000,50664100\\n2020-10-08,7.290000,7.350000,7.200000,7.350000,7.350000,54513300\\n2020-10-09,7.360000,7.440000,7.230000,7.250000,7.250000,50977900\\n2020-10-12,7.360000,7.870000,7.330000,7.670000,7.670000,97692900\\n2020-10-13,7.820000,7.880000,7.630000,7.760000,7.760000,74562600\\n2020-10-14,7.730000,7.750000,7.550000,7.570000,7.570000,57808900\\n2020-10-15,7.420000,7.620000,7.370000,7.620000,7.620000,49336200\\n2020-10-16,7.710000,7.750000,7.610000,7.670000,7.670000,47509400\\n2020-10-19,7.680000,7.720000,7.570000,7.590000,7.590000,38960700\\n2020-10-20,7.620000,7.850000,7.580000,7.740000,7.740000,63447000\\n2020-10-21,7.770000,7.880000,7.730000,7.850000,7.850000,51981100\\n2020-10-22,7.930000,8.220000,7.890000,8.210000,8.210000,74008500\\n2020-10-23,8.300000,8.350000,8.090000,8.160000,8.160000,62249000\\n2020-10-26,8.040000,8.070000,7.940000,8.030000,8.030000,62131000\\n2020-10-27,8.010000,8.090000,7.900000,7.920000,7.920000,64154500\\n2020-10-28,7.680000,7.880000,7.630000,7.700000,7.700000,82938300\\n2020-10-29,8.170000,8.240000,7.850000,7.900000,7.900000,118999900\\n2020-10-30,7.850000,7.910000,7.610000,7.730000,7.730000,79345600\\n2020-11-02,7.830000,7.860000,7.680000,7.710000,7.710000,59962900\\n2020-11-03,7.760000,7.930000,7.730000,7.880000,7.880000,65108800\\n2020-11-04,7.860000,7.870000,7.630000,7.640000,7.640000,67326800\\n2020-11-05,7.760000,7.990000,7.710000,7.990000,7.990000,61442600\\n2020-11-06,8.010000,8.020000,7.750000,7.790000,7.790000,50912100\\n2020-11-09,8.110000,8.380000,8.080000,8.200000,8.200000,110511300\\n2020-11-10,8.230000,8.590000,8.180000,8.380000,8.380000,87468400\\n2020-11-11,8.600000,8.600000,8.290000,8.330000,8.330000,75644400\\n2020-11-12,8.260000,8.290000,8.100000,8.210000,8.210000,81064900\\n2020-11-13,8.230000,8.570000,8.230000,8.540000,8.540000,79475100'"
      ]
     },
     "execution_count": 163,
     "metadata": {},
     "output_type": "execute_result"
    }
   ],
   "source": [
    "response.text"
   ]
  },
  {
   "cell_type": "code",
   "execution_count": 193,
   "metadata": {},
   "outputs": [],
   "source": [
    "stock_url='https://query1.finance.yahoo.com/v7/finance/download/F?'\n",
    "params={\n",
    "    'period1':'1573759145',\n",
    "    'period2':'1605381545',\n",
    "    'interval':'1d',\n",
    "    'events':'history'\n",
    "}"
   ]
  },
  {
   "cell_type": "code",
   "execution_count": 194,
   "metadata": {},
   "outputs": [],
   "source": [
    "reponse=requests.get(stock_url.format(stock),params=params)"
   ]
  },
  {
   "cell_type": "code",
   "execution_count": 195,
   "metadata": {
    "collapsed": true,
    "jupyter": {
     "outputs_hidden": true
    }
   },
   "outputs": [
    {
     "data": {
      "text/plain": [
       "'Date,Open,High,Low,Close,Adj Close,Volume\\n2019-11-14,8.850000,8.910000,8.780000,8.790000,8.643010,26527800\\n2019-11-15,8.850000,8.960000,8.850000,8.950000,8.800335,26416300\\n2019-11-18,9.050000,9.050000,8.890000,8.950000,8.800335,38291400\\n2019-11-19,8.990000,9.000000,8.870000,8.900000,8.751170,31168900\\n2019-11-20,8.880000,8.890000,8.680000,8.730000,8.584013,38271500\\n2019-11-21,8.770000,8.790000,8.670000,8.710000,8.564348,33161400\\n2019-11-22,8.800000,8.900000,8.770000,8.890000,8.741339,34966700\\n2019-11-25,8.900000,9.010000,8.870000,9.000000,8.849499,30580900\\n2019-11-26,8.980000,9.020000,8.910000,9.010000,8.859331,30093800\\n2019-11-27,9.030000,9.150000,9.020000,9.100000,8.947826,37396100\\n2019-11-29,9.040000,9.100000,9.030000,9.060000,8.908496,13096200\\n2019-12-02,9.080000,9.140000,9.000000,9.010000,8.859331,37232700\\n2019-12-03,8.950000,8.950000,8.800000,8.890000,8.741339,40653100\\n2019-12-04,8.950000,9.030000,8.940000,8.950000,8.800335,29982900\\n2019-12-05,8.970000,9.000000,8.880000,8.930000,8.780669,25768600\\n2019-12-06,8.960000,9.070000,8.950000,9.020000,8.869164,31086900\\n2019-12-09,8.970000,9.070000,8.960000,9.010000,8.859331,21772900\\n2019-12-10,9.020000,9.100000,8.960000,9.070000,8.918327,34217700\\n2019-12-11,9.060000,9.140000,9.060000,9.110000,8.957659,33204200\\n2019-12-12,9.110000,9.360000,9.110000,9.320000,9.164147,48390900\\n2019-12-13,9.320000,9.390000,9.190000,9.230000,9.075652,35334500\\n2019-12-16,9.240000,9.390000,9.220000,9.390000,9.232977,42337600\\n2019-12-17,9.380000,9.410000,9.310000,9.390000,9.232977,35503900\\n2019-12-18,9.390000,9.570000,9.360000,9.540000,9.380468,45905300\\n2019-12-19,9.550000,9.570000,9.380000,9.410000,9.252643,42236000\\n2019-12-20,9.500000,9.540000,9.440000,9.480000,9.321471,50191200\\n2019-12-23,9.500000,9.570000,9.400000,9.440000,9.282141,54784400\\n2019-12-24,9.440000,9.490000,9.430000,9.470000,9.311640,11881600\\n2019-12-26,9.470000,9.490000,9.430000,9.450000,9.291973,28961300\\n2019-12-27,9.450000,9.460000,9.350000,9.360000,9.203478,28272800\\n2019-12-30,9.340000,9.350000,9.230000,9.250000,9.095318,36074900\\n2019-12-31,9.250000,9.330000,9.250000,9.300000,9.144482,32342100\\n2020-01-02,9.290000,9.420000,9.190000,9.420000,9.262475,43425700\\n2020-01-03,9.310000,9.370000,9.150000,9.210000,9.055987,45040800\\n2020-01-06,9.100000,9.170000,9.060000,9.160000,9.006823,43372300\\n2020-01-07,9.200000,9.250000,9.120000,9.250000,9.095318,44984100\\n2020-01-08,9.230000,9.300000,9.170000,9.250000,9.095318,45994900\\n2020-01-09,9.300000,9.310000,9.180000,9.260000,9.105151,51817400\\n2020-01-10,9.270000,9.360000,9.250000,9.250000,9.095318,39796300\\n2020-01-13,9.250000,9.260000,9.110000,9.240000,9.085485,48553700\\n2020-01-14,9.220000,9.330000,9.210000,9.290000,9.134649,42935600\\n2020-01-15,9.270000,9.300000,9.180000,9.190000,9.036321,55923900\\n2020-01-16,9.230000,9.280000,9.150000,9.170000,9.016656,44310400\\n2020-01-17,9.190000,9.230000,9.130000,9.160000,9.006823,41644900\\n2020-01-21,9.150000,9.220000,9.100000,9.210000,9.055987,49556400\\n2020-01-22,9.220000,9.250000,9.150000,9.160000,9.006823,39914800\\n2020-01-23,9.140000,9.160000,8.930000,9.140000,8.987158,75848700\\n2020-01-24,9.110000,9.120000,8.960000,9.000000,8.849499,68100900\\n2020-01-27,8.880000,8.960000,8.780000,8.890000,8.741339,60769300\\n2020-01-28,8.940000,9.000000,8.860000,8.970000,8.820001,85163400\\n2020-01-29,8.850000,8.960000,8.840000,8.860000,8.860000,59057400\\n2020-01-30,8.810000,8.840000,8.730000,8.840000,8.840000,42827800\\n2020-01-31,8.780000,8.840000,8.740000,8.820000,8.820000,59813700\\n2020-02-03,8.850000,9.140000,8.850000,8.980000,8.980000,71432700\\n2020-02-04,9.080000,9.240000,9.070000,9.180000,9.180000,86196400\\n2020-02-05,8.410000,8.480000,8.260000,8.310000,8.310000,145792500\\n2020-02-06,8.370000,8.380000,8.250000,8.250000,8.250000,68823400\\n2020-02-07,8.210000,8.210000,8.020000,8.110000,8.110000,98256500\\n2020-02-10,8.150000,8.150000,8.050000,8.060000,8.060000,71834900\\n2020-02-11,8.100000,8.150000,8.080000,8.100000,8.100000,80164500\\n2020-02-12,8.140000,8.330000,8.130000,8.240000,8.240000,111536800\\n2020-02-13,8.210000,8.360000,8.210000,8.250000,8.250000,67648800\\n2020-02-14,8.270000,8.270000,8.080000,8.100000,8.100000,46359700\\n2020-02-18,8.120000,8.150000,8.020000,8.060000,8.060000,65094800\\n2020-02-19,8.060000,8.100000,8.000000,8.000000,8.000000,69668200\\n2020-02-20,8.000000,8.070000,7.990000,8.030000,8.030000,52318200\\n2020-02-21,8.020000,8.030000,7.890000,7.890000,7.890000,58326300\\n2020-02-24,7.700000,7.720000,7.550000,7.570000,7.570000,110048200\\n2020-02-25,7.680000,7.680000,7.220000,7.230000,7.230000,108888300\\n2020-02-26,7.300000,7.460000,7.210000,7.210000,7.210000,92469500\\n2020-02-27,7.130000,7.280000,6.920000,6.970000,6.970000,118642400\\n2020-02-28,6.840000,6.960000,6.670000,6.960000,6.960000,116546700\\n2020-03-02,7.110000,7.230000,6.880000,7.200000,7.200000,96766000\\n2020-03-03,7.290000,7.340000,6.890000,6.970000,6.970000,97457800\\n2020-03-04,7.090000,7.090000,6.920000,7.080000,7.080000,70588100\\n2020-03-05,6.960000,6.970000,6.710000,6.740000,6.740000,78070900\\n2020-03-06,6.600000,6.680000,6.400000,6.490000,6.490000,109932200\\n2020-03-09,5.970000,6.140000,5.870000,5.900000,5.900000,103901700\\n2020-03-10,6.260000,6.290000,5.800000,6.260000,6.260000,101873600\\n2020-03-11,6.060000,6.110000,5.880000,5.900000,5.900000,98587100\\n2020-03-12,5.380000,5.690000,5.200000,5.350000,5.350000,89453100\\n2020-03-13,5.870000,5.900000,5.120000,5.630000,5.630000,125375300\\n2020-03-16,5.040000,5.220000,5.000000,5.010000,5.010000,110310900\\n2020-03-17,5.080000,5.140000,4.700000,5.010000,5.010000,104233500\\n2020-03-18,4.750000,4.840000,4.100000,4.500000,4.500000,125954700\\n2020-03-19,4.330000,4.580000,4.100000,4.470000,4.470000,126603800\\n2020-03-20,4.540000,4.750000,4.250000,4.330000,4.330000,129378600\\n2020-03-23,4.270000,4.520000,3.960000,4.010000,4.010000,134925000\\n2020-03-24,4.470000,4.990000,4.260000,4.950000,4.950000,146192100\\n2020-03-25,5.770000,5.870000,5.120000,5.390000,5.390000,198999400\\n2020-03-26,5.360000,5.650000,5.160000,5.250000,5.250000,138227600\\n2020-03-27,5.070000,5.300000,4.910000,5.190000,5.190000,106324000\\n2020-03-30,5.110000,5.120000,4.930000,5.030000,5.030000,97879700\\n2020-03-31,5.030000,5.190000,4.750000,4.830000,4.830000,231800800\\n2020-04-01,4.630000,4.770000,4.360000,4.400000,4.400000,119174500\\n2020-04-02,4.390000,4.570000,4.250000,4.360000,4.360000,90891700\\n2020-04-03,4.400000,4.420000,4.170000,4.240000,4.240000,85659900\\n2020-04-06,4.540000,4.670000,4.410000,4.530000,4.530000,102205300\\n2020-04-07,4.850000,5.030000,4.630000,4.710000,4.710000,115150400\\n2020-04-08,4.860000,5.090000,4.800000,5.030000,5.030000,117022200\\n2020-04-09,5.510000,5.750000,5.240000,5.370000,5.370000,175833700\\n2020-04-13,5.430000,5.430000,5.020000,5.160000,5.160000,99320000\\n2020-04-14,5.270000,5.440000,5.160000,5.290000,5.290000,74877000\\n2020-04-15,5.060000,5.140000,4.950000,5.030000,5.030000,74727700\\n2020-04-16,5.060000,5.070000,4.890000,4.940000,4.940000,58951200\\n2020-04-17,5.170000,5.280000,5.030000,5.120000,5.120000,91989300\\n2020-04-20,5.010000,5.090000,4.910000,4.980000,4.980000,71079400\\n2020-04-21,4.890000,4.920000,4.720000,4.770000,4.770000,82400200\\n2020-04-22,4.870000,4.890000,4.750000,4.770000,4.770000,62398600\\n2020-04-23,4.800000,4.980000,4.770000,4.890000,4.890000,61959800\\n2020-04-24,4.930000,4.960000,4.800000,4.870000,4.870000,54352500\\n2020-04-27,4.910000,5.190000,4.880000,5.170000,5.170000,91082800\\n2020-04-28,5.490000,5.540000,5.220000,5.380000,5.380000,106222800\\n2020-04-29,5.330000,5.500000,5.210000,5.260000,5.260000,126393000\\n2020-04-30,5.160000,5.240000,5.060000,5.090000,5.090000,93437900\\n2020-05-01,5.020000,5.050000,4.900000,4.920000,4.920000,82660100\\n2020-05-04,4.880000,4.970000,4.770000,4.860000,4.860000,84214700\\n2020-05-05,4.990000,5.090000,4.940000,4.970000,4.970000,96301300\\n2020-05-06,5.050000,5.090000,4.820000,4.870000,4.870000,89390400\\n2020-05-07,4.900000,4.980000,4.850000,4.870000,4.870000,67222900\\n2020-05-08,4.960000,5.250000,4.950000,5.240000,5.240000,101333800\\n2020-05-11,5.180000,5.190000,5.050000,5.120000,5.120000,75734000\\n2020-05-12,5.150000,5.220000,4.970000,4.980000,4.980000,70965200\\n2020-05-13,5.000000,5.010000,4.660000,4.720000,4.720000,100192300\\n2020-05-14,4.640000,4.920000,4.520000,4.890000,4.890000,107931900\\n2020-05-15,4.800000,4.940000,4.750000,4.900000,4.900000,80544700\\n2020-05-18,5.120000,5.330000,5.120000,5.310000,5.310000,136241400\\n2020-05-19,5.270000,5.450000,5.150000,5.300000,5.300000,94836300\\n2020-05-20,5.380000,5.540000,5.370000,5.490000,5.490000,87685400\\n2020-05-21,5.450000,5.690000,5.440000,5.630000,5.630000,87098200\\n2020-05-22,5.680000,5.730000,5.500000,5.650000,5.650000,76656500\\n2020-05-26,5.920000,5.990000,5.820000,5.840000,5.840000,86046300\\n2020-05-27,6.010000,6.090000,5.840000,6.030000,6.030000,110413900\\n2020-05-28,6.050000,6.070000,5.810000,5.850000,5.850000,76930200\\n2020-05-29,5.750000,5.800000,5.570000,5.710000,5.710000,93039200\\n2020-06-01,5.730000,5.880000,5.670000,5.870000,5.870000,61879700\\n2020-06-02,5.960000,6.000000,5.830000,5.900000,5.900000,80046000\\n2020-06-03,5.990000,6.270000,5.920000,6.190000,6.190000,98876600\\n2020-06-04,6.200000,6.580000,6.120000,6.570000,6.570000,115798600\\n2020-06-05,7.240000,7.500000,7.020000,7.340000,7.340000,208648200\\n2020-06-08,7.530000,7.740000,7.370000,7.530000,7.530000,113169300\\n2020-06-09,7.220000,7.440000,7.050000,7.240000,7.240000,115749600\\n2020-06-10,7.330000,7.340000,6.770000,6.810000,6.810000,147327100\\n2020-06-11,6.070000,6.460000,6.040000,6.130000,6.130000,116184700\\n2020-06-12,6.560000,6.630000,6.300000,6.460000,6.460000,88719000\\n2020-06-15,6.180000,6.580000,6.110000,6.500000,6.500000,104742600\\n2020-06-16,6.870000,6.870000,6.440000,6.550000,6.550000,109535200\\n2020-06-17,6.560000,6.560000,6.310000,6.330000,6.330000,67732200\\n2020-06-18,6.260000,6.450000,6.190000,6.330000,6.330000,61301800\\n2020-06-19,6.640000,6.690000,6.230000,6.230000,6.230000,126127800\\n2020-06-22,6.270000,6.280000,6.130000,6.280000,6.280000,71724300\\n2020-06-23,6.330000,6.380000,6.140000,6.150000,6.150000,86672800\\n2020-06-24,6.060000,6.120000,5.860000,5.950000,5.950000,75536300\\n2020-06-25,5.860000,6.050000,5.800000,6.030000,6.030000,73612700\\n2020-06-26,6.040000,6.070000,5.810000,5.910000,5.910000,118435400\\n2020-06-29,5.910000,6.070000,5.810000,6.010000,6.010000,58208400\\n2020-06-30,5.980000,6.100000,5.900000,6.080000,6.080000,61909300\\n2020-07-01,6.100000,6.180000,5.950000,5.980000,5.980000,62454700\\n2020-07-02,6.100000,6.170000,6.000000,6.050000,6.050000,67270500\\n2020-07-06,6.140000,6.200000,6.110000,6.190000,6.190000,63921800\\n2020-07-07,6.140000,6.200000,6.090000,6.120000,6.120000,56652000\\n2020-07-08,6.130000,6.180000,6.050000,6.090000,6.090000,60928600\\n2020-07-09,6.090000,6.100000,5.820000,5.840000,5.840000,82693000\\n2020-07-10,5.800000,6.100000,5.740000,6.100000,6.100000,73710700\\n2020-07-13,6.150000,6.220000,6.050000,6.060000,6.060000,80190700\\n2020-07-14,6.180000,6.390000,6.080000,6.360000,6.360000,106131800\\n2020-07-15,6.540000,6.780000,6.520000,6.740000,6.740000,101648700\\n2020-07-16,6.660000,6.900000,6.630000,6.860000,6.860000,93498500\\n2020-07-17,6.900000,6.910000,6.730000,6.800000,6.800000,80769000\\n2020-07-20,6.800000,6.850000,6.580000,6.660000,6.660000,71361700\\n2020-07-21,6.710000,6.810000,6.640000,6.680000,6.680000,63343900\\n2020-07-22,6.640000,6.880000,6.610000,6.840000,6.840000,75629600\\n2020-07-23,6.870000,7.060000,6.800000,6.980000,6.980000,88652600\\n2020-07-24,6.900000,7.010000,6.860000,6.880000,6.880000,62292000\\n2020-07-27,6.920000,6.940000,6.770000,6.930000,6.930000,60370200\\n2020-07-28,6.900000,7.050000,6.900000,7.010000,7.010000,56312500\\n2020-07-29,7.050000,7.060000,6.830000,6.920000,6.920000,59437200\\n2020-07-30,6.740000,6.830000,6.670000,6.740000,6.740000,58991000\\n2020-07-31,6.890000,6.900000,6.520000,6.610000,6.610000,115394100\\n2020-08-03,6.650000,6.720000,6.530000,6.690000,6.690000,53845900\\n2020-08-04,6.910000,6.910000,6.730000,6.860000,6.860000,69377600\\n2020-08-05,6.860000,7.030000,6.860000,6.960000,6.960000,82716400\\n2020-08-06,6.930000,7.000000,6.890000,6.930000,6.930000,48668500\\n2020-08-07,6.870000,6.920000,6.790000,6.860000,6.860000,47455200\\n2020-08-10,6.910000,7.130000,6.910000,7.090000,7.090000,57229000\\n2020-08-11,7.210000,7.380000,7.190000,7.230000,7.230000,74016400\\n2020-08-12,7.330000,7.370000,7.060000,7.110000,7.110000,59194100\\n2020-08-13,7.030000,7.180000,7.000000,7.030000,7.030000,50066800\\n2020-08-14,6.970000,7.110000,6.930000,7.040000,7.040000,43517700\\n2020-08-17,7.050000,7.060000,6.870000,6.980000,6.980000,64555200\\n2020-08-18,6.980000,7.010000,6.890000,6.890000,6.890000,40444200\\n2020-08-19,6.890000,7.020000,6.860000,6.870000,6.870000,44158100\\n2020-08-20,6.770000,6.890000,6.730000,6.840000,6.840000,41824500\\n2020-08-21,6.780000,6.850000,6.650000,6.660000,6.660000,39158900\\n2020-08-24,6.730000,7.000000,6.690000,6.980000,6.980000,64974700\\n2020-08-25,7.010000,7.100000,6.860000,6.940000,6.940000,49550000\\n2020-08-26,6.940000,6.970000,6.770000,6.820000,6.820000,48600100\\n2020-08-27,6.830000,6.980000,6.830000,6.910000,6.910000,45740900\\n2020-08-28,6.930000,6.950000,6.860000,6.940000,6.940000,39936900\\n2020-08-31,6.900000,6.930000,6.790000,6.820000,6.820000,50089500\\n2020-09-01,6.770000,6.870000,6.720000,6.830000,6.830000,48214200\\n2020-09-02,6.810000,6.970000,6.770000,6.950000,6.950000,59008900\\n2020-09-03,6.920000,7.090000,6.760000,6.820000,6.820000,78130900\\n2020-09-04,6.860000,6.950000,6.750000,6.900000,6.900000,70017500\\n2020-09-08,6.830000,7.170000,6.810000,7.030000,7.030000,84749300\\n2020-09-09,7.070000,7.100000,6.930000,6.970000,6.970000,56501400\\n2020-09-10,6.990000,7.040000,6.870000,6.910000,6.910000,69228600\\n2020-09-11,6.940000,7.000000,6.850000,7.000000,7.000000,55080600\\n2020-09-14,7.010000,7.180000,6.980000,7.120000,7.120000,58704300\\n2020-09-15,7.160000,7.180000,7.000000,7.040000,7.040000,65198500\\n2020-09-16,7.050000,7.120000,6.990000,7.020000,7.020000,46245800\\n2020-09-17,7.040000,7.340000,6.980000,7.280000,7.280000,84850100\\n2020-09-18,7.310000,7.400000,7.220000,7.230000,7.230000,71929400\\n2020-09-21,7.090000,7.090000,6.810000,6.870000,6.870000,72850300\\n2020-09-22,6.890000,6.990000,6.770000,6.780000,6.780000,55865500\\n2020-09-23,6.810000,6.930000,6.630000,6.640000,6.640000,52588600\\n2020-09-24,6.600000,6.760000,6.410000,6.660000,6.660000,59822900\\n2020-09-25,6.610000,6.710000,6.500000,6.510000,6.510000,53761800\\n2020-09-28,6.590000,6.770000,6.580000,6.690000,6.690000,47582600\\n2020-09-29,6.690000,6.700000,6.540000,6.600000,6.600000,38987300\\n2020-09-30,6.610000,6.750000,6.590000,6.660000,6.660000,55809500\\n2020-10-01,6.710000,6.770000,6.630000,6.750000,6.750000,58340600\\n2020-10-02,6.620000,6.930000,6.600000,6.890000,6.890000,60798400\\n2020-10-05,6.950000,7.050000,6.950000,7.020000,7.020000,42359400\\n2020-10-06,7.060000,7.250000,6.960000,6.980000,6.980000,78203800\\n2020-10-07,7.110000,7.250000,7.060000,7.230000,7.230000,50664100\\n2020-10-08,7.290000,7.350000,7.200000,7.350000,7.350000,54513300\\n2020-10-09,7.360000,7.440000,7.230000,7.250000,7.250000,50977900\\n2020-10-12,7.360000,7.870000,7.330000,7.670000,7.670000,97692900\\n2020-10-13,7.820000,7.880000,7.630000,7.760000,7.760000,74562600\\n2020-10-14,7.730000,7.750000,7.550000,7.570000,7.570000,57808900\\n2020-10-15,7.420000,7.620000,7.370000,7.620000,7.620000,49336200\\n2020-10-16,7.710000,7.750000,7.610000,7.670000,7.670000,47509400\\n2020-10-19,7.680000,7.720000,7.570000,7.590000,7.590000,38960700\\n2020-10-20,7.620000,7.850000,7.580000,7.740000,7.740000,63447000\\n2020-10-21,7.770000,7.880000,7.730000,7.850000,7.850000,51981100\\n2020-10-22,7.930000,8.220000,7.890000,8.210000,8.210000,74008500\\n2020-10-23,8.300000,8.350000,8.090000,8.160000,8.160000,62249000\\n2020-10-26,8.040000,8.070000,7.940000,8.030000,8.030000,62131000\\n2020-10-27,8.010000,8.090000,7.900000,7.920000,7.920000,64154500\\n2020-10-28,7.680000,7.880000,7.630000,7.700000,7.700000,82938300\\n2020-10-29,8.170000,8.240000,7.850000,7.900000,7.900000,118999900\\n2020-10-30,7.850000,7.910000,7.610000,7.730000,7.730000,79345600\\n2020-11-02,7.830000,7.860000,7.680000,7.710000,7.710000,59962900\\n2020-11-03,7.760000,7.930000,7.730000,7.880000,7.880000,65108800\\n2020-11-04,7.860000,7.870000,7.630000,7.640000,7.640000,67326800\\n2020-11-05,7.760000,7.990000,7.710000,7.990000,7.990000,61442600\\n2020-11-06,8.010000,8.020000,7.750000,7.790000,7.790000,50912100\\n2020-11-09,8.110000,8.380000,8.080000,8.200000,8.200000,110511300\\n2020-11-10,8.230000,8.590000,8.180000,8.380000,8.380000,87468400\\n2020-11-11,8.600000,8.600000,8.290000,8.330000,8.330000,75644400\\n2020-11-12,8.260000,8.290000,8.100000,8.210000,8.210000,81064900\\n2020-11-13,8.230000,8.570000,8.230000,8.540000,8.540000,79475100'"
      ]
     },
     "execution_count": 195,
     "metadata": {},
     "output_type": "execute_result"
    }
   ],
   "source": [
    "reponse.text"
   ]
  },
  {
   "cell_type": "code",
   "execution_count": 196,
   "metadata": {},
   "outputs": [
    {
     "name": "stdout",
     "output_type": "stream",
     "text": [
      "['Date', 'Open', 'High', 'Low', 'Close', 'Adj Close', 'Volume']\n",
      "['2019-11-14', '8.850000', '8.910000', '8.780000', '8.790000', '8.643010', '26527800']\n",
      "['2019-11-15', '8.850000', '8.960000', '8.850000', '8.950000', '8.800335', '26416300']\n",
      "['2019-11-18', '9.050000', '9.050000', '8.890000', '8.950000', '8.800335', '38291400']\n",
      "['2019-11-19', '8.990000', '9.000000', '8.870000', '8.900000', '8.751170', '31168900']\n"
     ]
    }
   ],
   "source": [
    "file=StringIO(response.text)\n",
    "reader =csv.reader(file)\n",
    "data =list(reader)\n",
    "for row in data[:5]:\n",
    "    print(row)"
   ]
  },
  {
   "cell_type": "code",
   "execution_count": 197,
   "metadata": {},
   "outputs": [
    {
     "name": "stdout",
     "output_type": "stream",
     "text": [
      "['Date', 'Open', 'High', 'Low', 'Close', 'Adj Close', 'Volume']\n",
      "['2019-11-14', '8.850000', '8.910000', '8.780000', '8.790000', '8.643010', '26527800']\n",
      "['2019-11-15', '8.850000', '8.960000', '8.850000', '8.950000', '8.800335', '26416300']\n",
      "['2019-11-18', '9.050000', '9.050000', '8.890000', '8.950000', '8.800335', '38291400']\n",
      "['2019-11-19', '8.990000', '9.000000', '8.870000', '8.900000', '8.751170', '31168900']\n"
     ]
    }
   ],
   "source": [
    "file=StringIO(response.text)\n",
    "reader =csv.reader(file)\n",
    "data =list(reader)\n",
    "for row in data[:5]:\n",
    "    print(row)"
   ]
  },
  {
   "cell_type": "code",
   "execution_count": 198,
   "metadata": {},
   "outputs": [],
   "source": [
    "import pandas as pd\n"
   ]
  },
  {
   "cell_type": "code",
   "execution_count": 201,
   "metadata": {},
   "outputs": [],
   "source": [
    "df = pd.DataFrame(data)\n"
   ]
  },
  {
   "cell_type": "code",
   "execution_count": 202,
   "metadata": {},
   "outputs": [
    {
     "data": {
      "text/html": [
       "<div>\n",
       "<style scoped>\n",
       "    .dataframe tbody tr th:only-of-type {\n",
       "        vertical-align: middle;\n",
       "    }\n",
       "\n",
       "    .dataframe tbody tr th {\n",
       "        vertical-align: top;\n",
       "    }\n",
       "\n",
       "    .dataframe thead th {\n",
       "        text-align: right;\n",
       "    }\n",
       "</style>\n",
       "<table border=\"1\" class=\"dataframe\">\n",
       "  <thead>\n",
       "    <tr style=\"text-align: right;\">\n",
       "      <th></th>\n",
       "      <th>0</th>\n",
       "      <th>1</th>\n",
       "      <th>2</th>\n",
       "      <th>3</th>\n",
       "      <th>4</th>\n",
       "      <th>5</th>\n",
       "      <th>6</th>\n",
       "    </tr>\n",
       "  </thead>\n",
       "  <tbody>\n",
       "    <tr>\n",
       "      <th>0</th>\n",
       "      <td>Date</td>\n",
       "      <td>Open</td>\n",
       "      <td>High</td>\n",
       "      <td>Low</td>\n",
       "      <td>Close</td>\n",
       "      <td>Adj Close</td>\n",
       "      <td>Volume</td>\n",
       "    </tr>\n",
       "    <tr>\n",
       "      <th>1</th>\n",
       "      <td>2019-11-14</td>\n",
       "      <td>8.850000</td>\n",
       "      <td>8.910000</td>\n",
       "      <td>8.780000</td>\n",
       "      <td>8.790000</td>\n",
       "      <td>8.643010</td>\n",
       "      <td>26527800</td>\n",
       "    </tr>\n",
       "    <tr>\n",
       "      <th>2</th>\n",
       "      <td>2019-11-15</td>\n",
       "      <td>8.850000</td>\n",
       "      <td>8.960000</td>\n",
       "      <td>8.850000</td>\n",
       "      <td>8.950000</td>\n",
       "      <td>8.800335</td>\n",
       "      <td>26416300</td>\n",
       "    </tr>\n",
       "    <tr>\n",
       "      <th>3</th>\n",
       "      <td>2019-11-18</td>\n",
       "      <td>9.050000</td>\n",
       "      <td>9.050000</td>\n",
       "      <td>8.890000</td>\n",
       "      <td>8.950000</td>\n",
       "      <td>8.800335</td>\n",
       "      <td>38291400</td>\n",
       "    </tr>\n",
       "    <tr>\n",
       "      <th>4</th>\n",
       "      <td>2019-11-19</td>\n",
       "      <td>8.990000</td>\n",
       "      <td>9.000000</td>\n",
       "      <td>8.870000</td>\n",
       "      <td>8.900000</td>\n",
       "      <td>8.751170</td>\n",
       "      <td>31168900</td>\n",
       "    </tr>\n",
       "    <tr>\n",
       "      <th>5</th>\n",
       "      <td>2019-11-20</td>\n",
       "      <td>8.880000</td>\n",
       "      <td>8.890000</td>\n",
       "      <td>8.680000</td>\n",
       "      <td>8.730000</td>\n",
       "      <td>8.584013</td>\n",
       "      <td>38271500</td>\n",
       "    </tr>\n",
       "    <tr>\n",
       "      <th>6</th>\n",
       "      <td>2019-11-21</td>\n",
       "      <td>8.770000</td>\n",
       "      <td>8.790000</td>\n",
       "      <td>8.670000</td>\n",
       "      <td>8.710000</td>\n",
       "      <td>8.564348</td>\n",
       "      <td>33161400</td>\n",
       "    </tr>\n",
       "    <tr>\n",
       "      <th>7</th>\n",
       "      <td>2019-11-22</td>\n",
       "      <td>8.800000</td>\n",
       "      <td>8.900000</td>\n",
       "      <td>8.770000</td>\n",
       "      <td>8.890000</td>\n",
       "      <td>8.741339</td>\n",
       "      <td>34966700</td>\n",
       "    </tr>\n",
       "    <tr>\n",
       "      <th>8</th>\n",
       "      <td>2019-11-25</td>\n",
       "      <td>8.900000</td>\n",
       "      <td>9.010000</td>\n",
       "      <td>8.870000</td>\n",
       "      <td>9.000000</td>\n",
       "      <td>8.849499</td>\n",
       "      <td>30580900</td>\n",
       "    </tr>\n",
       "    <tr>\n",
       "      <th>9</th>\n",
       "      <td>2019-11-26</td>\n",
       "      <td>8.980000</td>\n",
       "      <td>9.020000</td>\n",
       "      <td>8.910000</td>\n",
       "      <td>9.010000</td>\n",
       "      <td>8.859331</td>\n",
       "      <td>30093800</td>\n",
       "    </tr>\n",
       "    <tr>\n",
       "      <th>10</th>\n",
       "      <td>2019-11-27</td>\n",
       "      <td>9.030000</td>\n",
       "      <td>9.150000</td>\n",
       "      <td>9.020000</td>\n",
       "      <td>9.100000</td>\n",
       "      <td>8.947826</td>\n",
       "      <td>37396100</td>\n",
       "    </tr>\n",
       "    <tr>\n",
       "      <th>11</th>\n",
       "      <td>2019-11-29</td>\n",
       "      <td>9.040000</td>\n",
       "      <td>9.100000</td>\n",
       "      <td>9.030000</td>\n",
       "      <td>9.060000</td>\n",
       "      <td>8.908496</td>\n",
       "      <td>13096200</td>\n",
       "    </tr>\n",
       "    <tr>\n",
       "      <th>12</th>\n",
       "      <td>2019-12-02</td>\n",
       "      <td>9.080000</td>\n",
       "      <td>9.140000</td>\n",
       "      <td>9.000000</td>\n",
       "      <td>9.010000</td>\n",
       "      <td>8.859331</td>\n",
       "      <td>37232700</td>\n",
       "    </tr>\n",
       "    <tr>\n",
       "      <th>13</th>\n",
       "      <td>2019-12-03</td>\n",
       "      <td>8.950000</td>\n",
       "      <td>8.950000</td>\n",
       "      <td>8.800000</td>\n",
       "      <td>8.890000</td>\n",
       "      <td>8.741339</td>\n",
       "      <td>40653100</td>\n",
       "    </tr>\n",
       "    <tr>\n",
       "      <th>14</th>\n",
       "      <td>2019-12-04</td>\n",
       "      <td>8.950000</td>\n",
       "      <td>9.030000</td>\n",
       "      <td>8.940000</td>\n",
       "      <td>8.950000</td>\n",
       "      <td>8.800335</td>\n",
       "      <td>29982900</td>\n",
       "    </tr>\n",
       "    <tr>\n",
       "      <th>15</th>\n",
       "      <td>2019-12-05</td>\n",
       "      <td>8.970000</td>\n",
       "      <td>9.000000</td>\n",
       "      <td>8.880000</td>\n",
       "      <td>8.930000</td>\n",
       "      <td>8.780669</td>\n",
       "      <td>25768600</td>\n",
       "    </tr>\n",
       "    <tr>\n",
       "      <th>16</th>\n",
       "      <td>2019-12-06</td>\n",
       "      <td>8.960000</td>\n",
       "      <td>9.070000</td>\n",
       "      <td>8.950000</td>\n",
       "      <td>9.020000</td>\n",
       "      <td>8.869164</td>\n",
       "      <td>31086900</td>\n",
       "    </tr>\n",
       "    <tr>\n",
       "      <th>17</th>\n",
       "      <td>2019-12-09</td>\n",
       "      <td>8.970000</td>\n",
       "      <td>9.070000</td>\n",
       "      <td>8.960000</td>\n",
       "      <td>9.010000</td>\n",
       "      <td>8.859331</td>\n",
       "      <td>21772900</td>\n",
       "    </tr>\n",
       "    <tr>\n",
       "      <th>18</th>\n",
       "      <td>2019-12-10</td>\n",
       "      <td>9.020000</td>\n",
       "      <td>9.100000</td>\n",
       "      <td>8.960000</td>\n",
       "      <td>9.070000</td>\n",
       "      <td>8.918327</td>\n",
       "      <td>34217700</td>\n",
       "    </tr>\n",
       "    <tr>\n",
       "      <th>19</th>\n",
       "      <td>2019-12-11</td>\n",
       "      <td>9.060000</td>\n",
       "      <td>9.140000</td>\n",
       "      <td>9.060000</td>\n",
       "      <td>9.110000</td>\n",
       "      <td>8.957659</td>\n",
       "      <td>33204200</td>\n",
       "    </tr>\n",
       "  </tbody>\n",
       "</table>\n",
       "</div>"
      ],
      "text/plain": [
       "             0         1         2         3         4          5         6\n",
       "0         Date      Open      High       Low     Close  Adj Close    Volume\n",
       "1   2019-11-14  8.850000  8.910000  8.780000  8.790000   8.643010  26527800\n",
       "2   2019-11-15  8.850000  8.960000  8.850000  8.950000   8.800335  26416300\n",
       "3   2019-11-18  9.050000  9.050000  8.890000  8.950000   8.800335  38291400\n",
       "4   2019-11-19  8.990000  9.000000  8.870000  8.900000   8.751170  31168900\n",
       "5   2019-11-20  8.880000  8.890000  8.680000  8.730000   8.584013  38271500\n",
       "6   2019-11-21  8.770000  8.790000  8.670000  8.710000   8.564348  33161400\n",
       "7   2019-11-22  8.800000  8.900000  8.770000  8.890000   8.741339  34966700\n",
       "8   2019-11-25  8.900000  9.010000  8.870000  9.000000   8.849499  30580900\n",
       "9   2019-11-26  8.980000  9.020000  8.910000  9.010000   8.859331  30093800\n",
       "10  2019-11-27  9.030000  9.150000  9.020000  9.100000   8.947826  37396100\n",
       "11  2019-11-29  9.040000  9.100000  9.030000  9.060000   8.908496  13096200\n",
       "12  2019-12-02  9.080000  9.140000  9.000000  9.010000   8.859331  37232700\n",
       "13  2019-12-03  8.950000  8.950000  8.800000  8.890000   8.741339  40653100\n",
       "14  2019-12-04  8.950000  9.030000  8.940000  8.950000   8.800335  29982900\n",
       "15  2019-12-05  8.970000  9.000000  8.880000  8.930000   8.780669  25768600\n",
       "16  2019-12-06  8.960000  9.070000  8.950000  9.020000   8.869164  31086900\n",
       "17  2019-12-09  8.970000  9.070000  8.960000  9.010000   8.859331  21772900\n",
       "18  2019-12-10  9.020000  9.100000  8.960000  9.070000   8.918327  34217700\n",
       "19  2019-12-11  9.060000  9.140000  9.060000  9.110000   8.957659  33204200"
      ]
     },
     "execution_count": 202,
     "metadata": {},
     "output_type": "execute_result"
    }
   ],
   "source": [
    "df.head(20)"
   ]
  },
  {
   "cell_type": "code",
   "execution_count": null,
   "metadata": {},
   "outputs": [],
   "source": []
  }
 ],
 "metadata": {
  "kernelspec": {
   "display_name": "Python 3",
   "language": "python",
   "name": "python3"
  },
  "language_info": {
   "codemirror_mode": {
    "name": "ipython",
    "version": 3
   },
   "file_extension": ".py",
   "mimetype": "text/x-python",
   "name": "python",
   "nbconvert_exporter": "python",
   "pygments_lexer": "ipython3",
   "version": "3.8.3"
  }
 },
 "nbformat": 4,
 "nbformat_minor": 4
}
