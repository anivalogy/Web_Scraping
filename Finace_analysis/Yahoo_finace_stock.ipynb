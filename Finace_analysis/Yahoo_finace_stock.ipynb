{
 "cells": [
  {
   "cell_type": "markdown",
   "metadata": {},
   "source": [
    "# Yhaoo! Finace Scrapper"
   ]
  },
  {
   "cell_type": "code",
   "execution_count": 131,
   "metadata": {},
   "outputs": [],
   "source": [
    "import re\n",
    "import json\n",
    "import csv\n",
    "from io import StringIO\n",
    "from bs4 import BeautifulSoup\n",
    "from selenium import webdriver\n",
    "import requests\n"
   ]
  },
  {
   "cell_type": "code",
   "execution_count": 132,
   "metadata": {},
   "outputs": [],
   "source": [
    "driver=webdriver.Chrome(executable_path=\"F:\\Web_Scraping\\chromedriver.exe\")"
   ]
  },
  {
   "cell_type": "code",
   "execution_count": 133,
   "metadata": {},
   "outputs": [],
   "source": [
    "url_status='https://in.finance.yahoo.com/quote/{}/key-statistics?p={}'\n",
    "url_profile='https://in.finance.yahoo.com/quote/{}/profile?p={}'\n",
    "url_finacials='https://in.finance.yahoo.com/quote/{}/financials?p={}'"
   ]
  },
  {
   "cell_type": "code",
   "execution_count": 134,
   "metadata": {},
   "outputs": [],
   "source": [
    "stock='F'"
   ]
  },
  {
   "cell_type": "code",
   "execution_count": 135,
   "metadata": {},
   "outputs": [],
   "source": [
    "response= requests.get(url_finacials.format(stock,stock))"
   ]
  },
  {
   "cell_type": "code",
   "execution_count": 136,
   "metadata": {},
   "outputs": [],
   "source": [
    "soup= BeautifulSoup(response.text,'html.parser')"
   ]
  },
  {
   "cell_type": "code",
   "execution_count": 137,
   "metadata": {},
   "outputs": [],
   "source": [
    "pattern= re.compile(r'\\s--\\sData\\s--\\s')\n",
    "script_data=soup.find('script',text=pattern).contents[0]"
   ]
  },
  {
   "cell_type": "code",
   "execution_count": 138,
   "metadata": {},
   "outputs": [
    {
     "name": "stdout",
     "output_type": "stream",
     "text": [
      "\n",
      "(function (root) {\n",
      "/* -- Data -- */\n",
      "root.App || (root.App = {});\n",
      "root.App.now = 1605382436289;\n",
      "root.App.main = {\"context\":{\"dispatcher\":{\"stores\":{\"PageStore\":{\"currentPageName\":\"quote\",\"currentEvent\":{\"eventName\":\"NEW_PAGE_SUCCESS\"},\"currentRenderTargetId\":\"default\",\"pagesConfigRaw\":{\"base\":{\"quote\":{\"layout\":{\"bundleName\":\"yahoodotcom-layout.TwoColumnLayout\",\"name\":\"TwoColumnLayout\",\"config\":{\"enableHeaderCollapse\":true,\"additionalBodyWrapperClasses\":\"Bgc($layoutBgColor)!\",\"contentWrapperClas\n",
      "end lideshow\":{\"strings\":1},\"tdv2-applet-sponsored-moments\":{\"strings\":1},\"tdv2-wafer-utils\":{\"strings\":1},\"tdv2-applet-stream\":{\"strings\":1},\"tdv2-applet-stream-hero\":{\"strings\":1},\"tdv2-applet-swisschamp\":{\"strings\":1},\"tdv2-applet-uh\":{\"strings\":1},\"tdv2-applet-userintent\":{\"strings\":1},\"tdv2-applet-video-lightbox\":{\"strings\":1},\"tdv2-applet-video-modal\":{\"strings\":1},\"tdv2-wafer-header\":{\"strings\":1},\"yahoodotcom-layout\":{\"strings\":1}}},\"options\":{\"defaultBundle\":\"td-app-finance\"}}}};\n",
      "}(this));\n",
      "\n"
     ]
    }
   ],
   "source": [
    "print(script_data[:500])\n",
    "print('end',script_data[-500:])"
   ]
  },
  {
   "cell_type": "code",
   "execution_count": 139,
   "metadata": {},
   "outputs": [],
   "source": [
    "start =script_data.find(\"context\")-2"
   ]
  },
  {
   "cell_type": "code",
   "execution_count": 140,
   "metadata": {},
   "outputs": [
    {
     "data": {
      "text/plain": [
       "112"
      ]
     },
     "execution_count": 140,
     "metadata": {},
     "output_type": "execute_result"
    }
   ],
   "source": [
    "start"
   ]
  },
  {
   "cell_type": "code",
   "execution_count": 141,
   "metadata": {},
   "outputs": [],
   "source": [
    "json_data=json.loads(script_data[start:-12])"
   ]
  },
  {
   "cell_type": "code",
   "execution_count": 142,
   "metadata": {},
   "outputs": [
    {
     "data": {
      "text/plain": [
       "dict_keys(['dispatcher', 'options', 'plugins'])"
      ]
     },
     "execution_count": 142,
     "metadata": {},
     "output_type": "execute_result"
    }
   ],
   "source": [
    "json_data['context'].keys()"
   ]
  },
  {
   "cell_type": "code",
   "execution_count": 143,
   "metadata": {},
   "outputs": [
    {
     "data": {
      "text/plain": [
       "dict_keys(['financialsTemplate', 'cashflowStatementHistory', 'balanceSheetHistoryQuarterly', 'earnings', 'price', 'incomeStatementHistoryQuarterly', 'incomeStatementHistory', 'balanceSheetHistory', 'cashflowStatementHistoryQuarterly', 'quoteType', 'summaryDetail', 'symbol', 'pageViews'])"
      ]
     },
     "execution_count": 143,
     "metadata": {},
     "output_type": "execute_result"
    }
   ],
   "source": [
    "json_data['context']['dispatcher']['stores']['QuoteSummaryStore'].keys()"
   ]
  },
  {
   "cell_type": "code",
   "execution_count": 144,
   "metadata": {},
   "outputs": [],
   "source": [
    "annual_is=json_data['context']['dispatcher']['stores']['QuoteSummaryStore']['incomeStatementHistory']['incomeStatementHistory']\n",
    "quertly_is=json_data['context']['dispatcher']['stores']['QuoteSummaryStore']['incomeStatementHistoryQuarterly']['incomeStatementHistory']\n",
    "\n",
    "anunual_cf=json_data['context']['dispatcher']['stores']['QuoteSummaryStore']['cashflowStatementHistory']['cashflowStatements']\n",
    "quertly_cf=json_data['context']['dispatcher']['stores']['QuoteSummaryStore']['cashflowStatementHistoryQuarterly']['cashflowStatements']\n",
    "\n",
    "annual_bs=json_data['context']['dispatcher']['stores']['QuoteSummaryStore']['balanceSheetHistory']['balanceSheetStatements']\n",
    "quertly_bs=json_data['context']['dispatcher']['stores']['QuoteSummaryStore']['balanceSheetHistoryQuarterly']['balanceSheetStatements']"
   ]
  },
  {
   "cell_type": "code",
   "execution_count": 145,
   "metadata": {},
   "outputs": [
    {
     "name": "stdout",
     "output_type": "stream",
     "text": [
      "{'researchDevelopment': {}, 'effectOfAccountingCharges': {}, 'incomeBeforeTax': {'raw': -640000000, 'fmt': '-640M', 'longFmt': '-640,000,000'}, 'minorityInterest': {'raw': 45000000, 'fmt': '45M', 'longFmt': '45,000,000'}, 'netIncome': {'raw': 47000000, 'fmt': '47M', 'longFmt': '47,000,000'}, 'sellingGeneralAdministrative': {'raw': 10218000000, 'fmt': '10.22B', 'longFmt': '10,218,000,000'}, 'grossProfit': {'raw': 12876000000, 'fmt': '12.88B', 'longFmt': '12,876,000,000'}, 'ebit': {'raw': 2658000000, 'fmt': '2.66B', 'longFmt': '2,658,000,000'}, 'endDate': {'raw': 1577750400, 'fmt': '2019-12-31'}, 'operatingIncome': {'raw': 2658000000, 'fmt': '2.66B', 'longFmt': '2,658,000,000'}, 'otherOperatingExpenses': {}, 'interestExpense': {'raw': -1049000000, 'fmt': '-1.05B', 'longFmt': '-1,049,000,000'}, 'extraordinaryItems': {}, 'nonRecurring': {}, 'otherItems': {}, 'incomeTaxExpense': {'raw': -724000000, 'fmt': '-724M', 'longFmt': '-724,000,000'}, 'totalRevenue': {'raw': 155900000000, 'fmt': '155.9B', 'longFmt': '155,900,000,000'}, 'totalOperatingExpenses': {'raw': 153242000000, 'fmt': '153.24B', 'longFmt': '153,242,000,000'}, 'costOfRevenue': {'raw': 143024000000, 'fmt': '143.02B', 'longFmt': '143,024,000,000'}, 'totalOtherIncomeExpenseNet': {'raw': -3298000000, 'fmt': '-3.3B', 'longFmt': '-3,298,000,000'}, 'maxAge': 1, 'discontinuedOperations': {}, 'netIncomeFromContinuingOps': {'raw': 84000000, 'fmt': '84M', 'longFmt': '84,000,000'}, 'netIncomeApplicableToCommonShares': {'raw': 47000000, 'fmt': '47M', 'longFmt': '47,000,000'}}\n"
     ]
    }
   ],
   "source": [
    "print(annual_is[0])"
   ]
  },
  {
   "cell_type": "code",
   "execution_count": 146,
   "metadata": {},
   "outputs": [
    {
     "data": {
      "text/plain": [
       "{'raw': 2658000000, 'fmt': '2.66B', 'longFmt': '2,658,000,000'}"
      ]
     },
     "execution_count": 146,
     "metadata": {},
     "output_type": "execute_result"
    }
   ],
   "source": [
    "annual_is[0]['operatingIncome']"
   ]
  },
  {
   "cell_type": "code",
   "execution_count": 147,
   "metadata": {},
   "outputs": [],
   "source": [
    "annual_is_stmts=[]\n",
    "qutarly_is_stmts=[]\n",
    "# consolidate annual\n",
    "\n",
    "for s in annual_is:\n",
    "    statement={}\n",
    "    for key,val in s.items():\n",
    "        try:\n",
    "            statement[key]=val['raw']\n",
    "        except TypeError:\n",
    "            continue\n",
    "        except KeyError:\n",
    "            continue\n",
    "    annual_is_stmts.append(statement)\n",
    "    \n",
    "\n",
    "# consolidate quertly\n",
    "\n",
    "for s in quertly_is:\n",
    "    statement={}\n",
    "    for key,val in s.items():\n",
    "        try:\n",
    "            statement[key]=val['raw']\n",
    "        except TypeError:\n",
    "            continue\n",
    "        except KeyError:\n",
    "            continue\n",
    "    qutarly_is_stmts.append(statement)"
   ]
  },
  {
   "cell_type": "code",
   "execution_count": 148,
   "metadata": {},
   "outputs": [
    {
     "data": {
      "text/plain": [
       "{'incomeBeforeTax': -640000000,\n",
       " 'minorityInterest': 45000000,\n",
       " 'netIncome': 47000000,\n",
       " 'sellingGeneralAdministrative': 10218000000,\n",
       " 'grossProfit': 12876000000,\n",
       " 'ebit': 2658000000,\n",
       " 'endDate': 1577750400,\n",
       " 'operatingIncome': 2658000000,\n",
       " 'interestExpense': -1049000000,\n",
       " 'incomeTaxExpense': -724000000,\n",
       " 'totalRevenue': 155900000000,\n",
       " 'totalOperatingExpenses': 153242000000,\n",
       " 'costOfRevenue': 143024000000,\n",
       " 'totalOtherIncomeExpenseNet': -3298000000,\n",
       " 'netIncomeFromContinuingOps': 84000000,\n",
       " 'netIncomeApplicableToCommonShares': 47000000}"
      ]
     },
     "execution_count": 148,
     "metadata": {},
     "output_type": "execute_result"
    }
   ],
   "source": [
    "annual_is_stmts[0]"
   ]
  },
  {
   "cell_type": "markdown",
   "metadata": {},
   "source": [
    "# Profile Data !!"
   ]
  },
  {
   "cell_type": "code",
   "execution_count": 149,
   "metadata": {},
   "outputs": [],
   "source": [
    "response=requests.get(url_profile.format(stock,stock))\n",
    "soup= BeautifulSoup(response.text,'html.parser')\n",
    "pattern= re.compile(r'\\s--\\sData\\s--\\s')\n",
    "script_data=soup.find('script',text=pattern).contents[0]\n",
    "start =script_data.find(\"context\")-2\n",
    "json_data=json.loads(script_data[start:-12])"
   ]
  },
  {
   "cell_type": "code",
   "execution_count": 150,
   "metadata": {},
   "outputs": [
    {
     "data": {
      "text/plain": [
       "dict_keys(['financialsTemplate', 'price', 'secFilings', 'quoteType', 'calendarEvents', 'summaryDetail', 'symbol', 'assetProfile', 'pageViews'])"
      ]
     },
     "execution_count": 150,
     "metadata": {},
     "output_type": "execute_result"
    }
   ],
   "source": [
    "json_data['context']['dispatcher']['stores']['QuoteSummaryStore'].keys()"
   ]
  },
  {
   "cell_type": "code",
   "execution_count": 151,
   "metadata": {},
   "outputs": [
    {
     "data": {
      "text/plain": [
       "dict_keys(['zip', 'sector', 'fullTimeEmployees', 'compensationRisk', 'auditRisk', 'longBusinessSummary', 'city', 'phone', 'state', 'shareHolderRightsRisk', 'compensationAsOfEpochDate', 'governanceEpochDate', 'boardRisk', 'country', 'companyOfficers', 'website', 'maxAge', 'overallRisk', 'address1', 'industry'])"
      ]
     },
     "execution_count": 151,
     "metadata": {},
     "output_type": "execute_result"
    }
   ],
   "source": [
    "json_data['context']['dispatcher']['stores']['QuoteSummaryStore']['assetProfile'].keys()\n"
   ]
  },
  {
   "cell_type": "code",
   "execution_count": 152,
   "metadata": {},
   "outputs": [
    {
     "data": {
      "text/plain": [
       "[{'totalPay': {'raw': 3661316, 'fmt': '3.66M', 'longFmt': '3,661,316'},\n",
       "  'exercisedValue': {'raw': 0, 'fmt': None, 'longFmt': '0'},\n",
       "  'yearBorn': 1957,\n",
       "  'name': 'Mr. William Clay Ford Jr.',\n",
       "  'title': 'Exec. Chairman',\n",
       "  'maxAge': 1,\n",
       "  'fiscalYear': 2019,\n",
       "  'unexercisedValue': {'raw': 0, 'fmt': None, 'longFmt': '0'},\n",
       "  'age': 62},\n",
       " {'totalPay': {'raw': 2274993, 'fmt': '2.27M', 'longFmt': '2,274,993'},\n",
       "  'exercisedValue': {'raw': 0, 'fmt': None, 'longFmt': '0'},\n",
       "  'yearBorn': 1962,\n",
       "  'name': 'Mr. James D. Farley Jr.',\n",
       "  'title': 'Pres, CEO & Director',\n",
       "  'maxAge': 1,\n",
       "  'fiscalYear': 2019,\n",
       "  'unexercisedValue': {'raw': 0, 'fmt': None, 'longFmt': '0'},\n",
       "  'age': 57},\n",
       " {'totalPay': {'raw': 4167237, 'fmt': '4.17M', 'longFmt': '4,167,237'},\n",
       "  'exercisedValue': {'raw': 0, 'fmt': None, 'longFmt': '0'},\n",
       "  'yearBorn': 1955,\n",
       "  'name': 'Mr. James Patrick Hackett',\n",
       "  'title': 'Advisor',\n",
       "  'maxAge': 1,\n",
       "  'fiscalYear': 2019,\n",
       "  'unexercisedValue': {'raw': 0, 'fmt': None, 'longFmt': '0'},\n",
       "  'age': 64},\n",
       " {'totalPay': {'raw': 785183, 'fmt': '785.18k', 'longFmt': '785,183'},\n",
       "  'exercisedValue': {'raw': 0, 'fmt': None, 'longFmt': '0'},\n",
       "  'yearBorn': 1949,\n",
       "  'name': 'Mr. Edsel B. Ford II',\n",
       "  'title': 'Consultant & Director',\n",
       "  'maxAge': 1,\n",
       "  'fiscalYear': 2019,\n",
       "  'unexercisedValue': {'raw': 0, 'fmt': None, 'longFmt': '0'},\n",
       "  'age': 70},\n",
       " {'maxAge': 1,\n",
       "  'name': 'Mr. John T. Lawler',\n",
       "  'age': 53,\n",
       "  'title': 'Chief Financial Officer',\n",
       "  'yearBorn': 1966,\n",
       "  'exercisedValue': {'raw': 0, 'fmt': None, 'longFmt': '0'},\n",
       "  'unexercisedValue': {'raw': 0, 'fmt': None, 'longFmt': '0'}},\n",
       " {'maxAge': 1,\n",
       "  'name': 'Mr. Thai-Tang  Hau',\n",
       "  'age': 52,\n",
       "  'title': 'Chief Product Platform & Operations Officer',\n",
       "  'yearBorn': 1967,\n",
       "  'exercisedValue': {'raw': 0, 'fmt': None, 'longFmt': '0'},\n",
       "  'unexercisedValue': {'raw': 0, 'fmt': None, 'longFmt': '0'}},\n",
       " {'maxAge': 1,\n",
       "  'name': 'Dr. Kenneth E. Washington Ph.D.',\n",
       "  'age': 59,\n",
       "  'title': 'Chief Technology Officer',\n",
       "  'yearBorn': 1960,\n",
       "  'exercisedValue': {'raw': 0, 'fmt': None, 'longFmt': '0'},\n",
       "  'unexercisedValue': {'raw': 0, 'fmt': None, 'longFmt': '0'}},\n",
       " {'maxAge': 1,\n",
       "  'name': 'Mr. Jeff  Lemmer',\n",
       "  'age': 53,\n",
       "  'title': 'VP & Chief Information Officer',\n",
       "  'yearBorn': 1966,\n",
       "  'exercisedValue': {'raw': 0, 'fmt': None, 'longFmt': '0'},\n",
       "  'unexercisedValue': {'raw': 0, 'fmt': None, 'longFmt': '0'}},\n",
       " {'maxAge': 1,\n",
       "  'name': 'Ms. Lynn Antipas Tyson',\n",
       "  'title': 'Exec. Director of Investor Relations',\n",
       "  'exercisedValue': {'raw': 0, 'fmt': None, 'longFmt': '0'},\n",
       "  'unexercisedValue': {'raw': 0, 'fmt': None, 'longFmt': '0'}},\n",
       " {'maxAge': 1,\n",
       "  'name': 'Ms. Cynthia  Williams',\n",
       "  'title': 'Director of Sustainability, Homologation & Compliance',\n",
       "  'exercisedValue': {'raw': 0, 'fmt': None, 'longFmt': '0'},\n",
       "  'unexercisedValue': {'raw': 0, 'fmt': None, 'longFmt': '0'}}]"
      ]
     },
     "execution_count": 152,
     "metadata": {},
     "output_type": "execute_result"
    }
   ],
   "source": [
    "json_data['context']['dispatcher']['stores']['QuoteSummaryStore']['assetProfile']['companyOfficers']"
   ]
  },
  {
   "cell_type": "code",
   "execution_count": 153,
   "metadata": {
    "collapsed": true,
    "jupyter": {
     "outputs_hidden": true
    }
   },
   "outputs": [
    {
     "data": {
      "text/plain": [
       "'Ford Motor Company designs, manufactures, markets, and services a range of Ford cars, trucks, sport utility vehicles, electrified vehicles, and Lincoln luxury vehicles worldwide. It operates through three segments: Automotive, Mobility, and Ford Credit. The Automotive segment sells Ford and Lincoln vehicles, service parts, and accessories through distributors and dealers, as well as through dealerships to commercial fleet customers, daily rental car companies, and governments. The Mobility segment designs and builds mobility services; and provides self-driving systems development and vehicle integration, autonomous vehicle research and engineering, and autonomous vehicle transportation-as-a-service network development services. The Ford Credit segment primarily engages in vehicle-related financing and leasing activities to and through automotive dealers. It provides retail installment sale contracts for new and used vehicles; and direct financing leases for new vehicles to retail and commercial customers, such as leasing companies, government entities, daily rental companies, and fleet customers. This segment also offers wholesale loans to dealers to finance the purchase of vehicle inventory; and loans to dealers to finance working capital and enhance dealership facilities, purchase dealership real estate, and other dealer vehicle programs. The company was founded in 1903 and is based in Dearborn, Michigan.'"
      ]
     },
     "execution_count": 153,
     "metadata": {},
     "output_type": "execute_result"
    }
   ],
   "source": [
    "json_data['context']['dispatcher']['stores']['QuoteSummaryStore']['assetProfile']['longBusinessSummary']"
   ]
  },
  {
   "cell_type": "code",
   "execution_count": 154,
   "metadata": {},
   "outputs": [
    {
     "data": {
      "text/plain": [
       "dict_keys(['filings', 'maxAge'])"
      ]
     },
     "execution_count": 154,
     "metadata": {},
     "output_type": "execute_result"
    }
   ],
   "source": [
    "json_data['context']['dispatcher']['stores']['QuoteSummaryStore']['secFilings'].keys()"
   ]
  },
  {
   "cell_type": "code",
   "execution_count": 155,
   "metadata": {},
   "outputs": [
    {
     "data": {
      "text/plain": [
       "[{'date': '2020-10-29',\n",
       "  'epochDate': 1603969511,\n",
       "  'type': '10-Q',\n",
       "  'title': 'Quarterly Report',\n",
       "  'edgarUrl': 'https://yahoo.brand.edgar-online.com/DisplayFiling.aspx?TabIndex=2&dcn=0000037996-20-000071&nav=1&src=Yahoo',\n",
       "  'maxAge': 1},\n",
       " {'date': '2020-10-28',\n",
       "  'epochDate': 1603919714,\n",
       "  'type': '8-K',\n",
       "  'title': 'Results of Operations and Financial Condition, Financial Statements and Exhibits',\n",
       "  'edgarUrl': 'https://yahoo.brand.edgar-online.com/DisplayFiling.aspx?TabIndex=2&dcn=0000037996-20-000070&nav=1&src=Yahoo',\n",
       "  'maxAge': 1},\n",
       " {'date': '2020-10-15',\n",
       "  'epochDate': 1602769209,\n",
       "  'type': '8-K',\n",
       "  'title': 'Change in Directors or Principal Officers, Financial Statements and Exhibits',\n",
       "  'edgarUrl': 'https://yahoo.brand.edgar-online.com/DisplayFiling.aspx?TabIndex=2&dcn=0000037996-20-000066&nav=1&src=Yahoo',\n",
       "  'maxAge': 1},\n",
       " {'date': '2020-10-02',\n",
       "  'epochDate': 1601667709,\n",
       "  'type': '8-K',\n",
       "  'title': 'Other Events, Financial Statements and Exhibits',\n",
       "  'edgarUrl': 'https://yahoo.brand.edgar-online.com/DisplayFiling.aspx?TabIndex=2&dcn=0000037996-20-000064&nav=1&src=Yahoo',\n",
       "  'maxAge': 1},\n",
       " {'date': '2020-10-01',\n",
       "  'epochDate': 1601557393,\n",
       "  'type': '8-K',\n",
       "  'title': 'Change in Directors or Principal Officers, Regulation FD Disclosure, Financial Statements and Exhibits',\n",
       "  'edgarUrl': 'https://yahoo.brand.edgar-online.com/DisplayFiling.aspx?TabIndex=2&dcn=0000037996-20-000062&nav=1&src=Yahoo',\n",
       "  'maxAge': 1},\n",
       " {'date': '2020-08-04',\n",
       "  'epochDate': 1596549938,\n",
       "  'type': '8-K',\n",
       "  'title': 'Change in Directors or Principal Officers, Financial Statements and Exhibits',\n",
       "  'edgarUrl': 'https://yahoo.brand.edgar-online.com/DisplayFiling.aspx?TabIndex=2&dcn=0000037996-20-000059&nav=1&src=Yahoo',\n",
       "  'maxAge': 1},\n",
       " {'date': '2020-07-31',\n",
       "  'epochDate': 1596194245,\n",
       "  'type': '10-Q',\n",
       "  'title': 'Quarterly Report',\n",
       "  'edgarUrl': 'https://yahoo.brand.edgar-online.com/DisplayFiling.aspx?TabIndex=2&dcn=0000037996-20-000057&nav=1&src=Yahoo',\n",
       "  'maxAge': 1},\n",
       " {'date': '2020-07-31',\n",
       "  'epochDate': 1596193825,\n",
       "  'type': '8-K',\n",
       "  'title': 'Results of Operations and Financial Condition, Creation of a Direct Financial Obligation or an Obligation under an Off-Balance Sheet Arrangement of a Registrant, Financial Statements and Exhibits',\n",
       "  'edgarUrl': 'https://yahoo.brand.edgar-online.com/DisplayFiling.aspx?TabIndex=2&dcn=0000037996-20-000056&nav=1&src=Yahoo',\n",
       "  'maxAge': 1},\n",
       " {'date': '2020-07-02',\n",
       "  'epochDate': 1593722382,\n",
       "  'type': '8-K',\n",
       "  'title': 'Other Events, Financial Statements and Exhibits',\n",
       "  'edgarUrl': 'https://yahoo.brand.edgar-online.com/DisplayFiling.aspx?TabIndex=2&dcn=0000037996-20-000050&nav=1&src=Yahoo',\n",
       "  'maxAge': 1},\n",
       " {'date': '2020-06-02',\n",
       "  'epochDate': 1591092476,\n",
       "  'type': '8-K',\n",
       "  'title': 'Disclosing Regulation FD Disclosure',\n",
       "  'edgarUrl': 'https://yahoo.brand.edgar-online.com/DisplayFiling.aspx?TabIndex=2&dcn=0000037996-20-000048&nav=1&src=Yahoo',\n",
       "  'maxAge': 1},\n",
       " {'date': '2020-05-19',\n",
       "  'epochDate': 1589919293,\n",
       "  'type': '8-K',\n",
       "  'title': 'Disclosing Submission of Matters to a Vote of Security Holders',\n",
       "  'edgarUrl': 'https://yahoo.brand.edgar-online.com/DisplayFiling.aspx?TabIndex=2&dcn=0000037996-20-000043&nav=1&src=Yahoo',\n",
       "  'maxAge': 1},\n",
       " {'date': '2020-04-29',\n",
       "  'epochDate': 1588154623,\n",
       "  'type': '10-Q',\n",
       "  'title': 'Quarterly Report',\n",
       "  'edgarUrl': 'https://yahoo.brand.edgar-online.com/DisplayFiling.aspx?TabIndex=2&dcn=0000037996-20-000041&nav=1&src=Yahoo',\n",
       "  'maxAge': 1},\n",
       " {'date': '2020-04-28',\n",
       "  'epochDate': 1588104863,\n",
       "  'type': '8-K',\n",
       "  'title': 'Disclosing Results of Operations and Financial Condition, Financial Statements and Exhibits',\n",
       "  'edgarUrl': 'https://yahoo.brand.edgar-online.com/DisplayFiling.aspx?TabIndex=2&dcn=0000037996-20-000039&nav=1&src=Yahoo',\n",
       "  'maxAge': 1},\n",
       " {'date': '2020-04-22',\n",
       "  'epochDate': 1587581926,\n",
       "  'type': '8-K',\n",
       "  'title': 'Disclosing Other Events, Financial Statements and Exhibits',\n",
       "  'edgarUrl': 'https://yahoo.brand.edgar-online.com/DisplayFiling.aspx?TabIndex=2&dcn=0000037996-20-000036&nav=1&src=Yahoo',\n",
       "  'maxAge': 1},\n",
       " {'date': '2020-04-17',\n",
       "  'epochDate': 1587127790,\n",
       "  'type': '8-K/A',\n",
       "  'title': 'FORD MOTOR CO FILES (8-K/A) Disclosing Regulation FD Disclosure',\n",
       "  'edgarUrl': 'https://yahoo.brand.edgar-online.com/DisplayFiling.aspx?TabIndex=2&dcn=0000037996-20-000034&nav=1&src=Yahoo',\n",
       "  'maxAge': 1},\n",
       " {'date': '2020-04-13',\n",
       "  'epochDate': 1586788296,\n",
       "  'type': '8-K',\n",
       "  'title': 'Disclosing Regulation FD Disclosure, Other Events, Financial Statements and Exhibits',\n",
       "  'edgarUrl': 'https://yahoo.brand.edgar-online.com/DisplayFiling.aspx?TabIndex=2&dcn=0000037996-20-000031&nav=1&src=Yahoo',\n",
       "  'maxAge': 1},\n",
       " {'date': '2020-04-02',\n",
       "  'epochDate': 1585860040,\n",
       "  'type': '8-K',\n",
       "  'title': 'Disclosing Other Events, Financial Statements and Exhibits',\n",
       "  'edgarUrl': 'https://yahoo.brand.edgar-online.com/DisplayFiling.aspx?TabIndex=2&dcn=0000037996-20-000029&nav=1&src=Yahoo',\n",
       "  'maxAge': 1},\n",
       " {'date': '2020-03-26',\n",
       "  'epochDate': 1585225887,\n",
       "  'type': '8-K',\n",
       "  'title': 'Disclosing Change in Directors or Principal Officers, Regulation FD Disclosure, Financial Stat',\n",
       "  'edgarUrl': 'https://yahoo.brand.edgar-online.com/DisplayFiling.aspx?TabIndex=2&dcn=0000037996-20-000026&nav=1&src=Yahoo',\n",
       "  'maxAge': 1},\n",
       " {'date': '2020-03-19',\n",
       "  'epochDate': 1584652655,\n",
       "  'type': '8-K',\n",
       "  'title': 'Disclosing Entry into a Material Definitive Agreement, Financial Statements and Exhibits',\n",
       "  'edgarUrl': 'https://yahoo.brand.edgar-online.com/DisplayFiling.aspx?TabIndex=2&dcn=0000037996-20-000022&nav=1&src=Yahoo',\n",
       "  'maxAge': 1},\n",
       " {'date': '2020-02-07',\n",
       "  'epochDate': 1581084402,\n",
       "  'type': '8-K',\n",
       "  'title': 'Disclosing Change in Directors or Principal Officers, Financial Statements and Exhibits',\n",
       "  'edgarUrl': 'https://yahoo.brand.edgar-online.com/DisplayFiling.aspx?TabIndex=2&dcn=0000037996-20-000012&nav=1&src=Yahoo',\n",
       "  'maxAge': 1},\n",
       " {'date': '2020-02-05',\n",
       "  'epochDate': 1580922249,\n",
       "  'type': '10-K',\n",
       "  'title': 'Annual Report',\n",
       "  'edgarUrl': 'https://yahoo.brand.edgar-online.com/DisplayFiling.aspx?TabIndex=2&dcn=0000037996-20-000010&nav=1&src=Yahoo',\n",
       "  'maxAge': 1},\n",
       " {'date': '2020-02-04',\n",
       "  'epochDate': 1580850934,\n",
       "  'type': '8-K',\n",
       "  'title': 'Disclosing Results of Operations and Financial Condition, Financial Statements and Exhibits',\n",
       "  'edgarUrl': 'https://yahoo.brand.edgar-online.com/DisplayFiling.aspx?TabIndex=2&dcn=0000037996-20-000008&nav=1&src=Yahoo',\n",
       "  'maxAge': 1},\n",
       " {'date': '2020-01-06',\n",
       "  'epochDate': 1578338496,\n",
       "  'type': '8-K',\n",
       "  'title': 'Disclosing Other Events, Financial Statements and Exhibits',\n",
       "  'edgarUrl': 'https://yahoo.brand.edgar-online.com/DisplayFiling.aspx?TabIndex=2&dcn=0000037996-20-000003&nav=1&src=Yahoo',\n",
       "  'maxAge': 1},\n",
       " {'date': '2019-12-11',\n",
       "  'epochDate': 1576080645,\n",
       "  'type': '8-K',\n",
       "  'title': 'Disclosing Other Events, Financial Statements and Exhibits',\n",
       "  'edgarUrl': 'https://yahoo.brand.edgar-online.com/DisplayFiling.aspx?TabIndex=2&dcn=0000037996-19-000086&nav=1&src=Yahoo',\n",
       "  'maxAge': 1},\n",
       " {'date': '2019-10-24',\n",
       "  'epochDate': 1571911326,\n",
       "  'type': '10-Q',\n",
       "  'title': 'Quarterly Report',\n",
       "  'edgarUrl': 'https://yahoo.brand.edgar-online.com/DisplayFiling.aspx?TabIndex=2&dcn=0000037996-19-000078&nav=1&src=Yahoo',\n",
       "  'maxAge': 1},\n",
       " {'date': '2019-10-23',\n",
       "  'epochDate': 1571861564,\n",
       "  'type': '8-K',\n",
       "  'title': 'Disclosing Results of Operations and Financial Condition, Regulation FD Disclosure, Financial ',\n",
       "  'edgarUrl': 'https://yahoo.brand.edgar-online.com/DisplayFiling.aspx?TabIndex=2&dcn=0000037996-19-000076&nav=1&src=Yahoo',\n",
       "  'maxAge': 1},\n",
       " {'date': '2019-10-02',\n",
       "  'epochDate': 1570049328,\n",
       "  'type': '8-K',\n",
       "  'title': 'Disclosing Other Events, Financial Statements and Exhibits',\n",
       "  'edgarUrl': 'https://yahoo.brand.edgar-online.com/DisplayFiling.aspx?TabIndex=2&dcn=0000037996-19-000074&nav=1&src=Yahoo',\n",
       "  'maxAge': 1},\n",
       " {'date': '2019-10-01',\n",
       "  'epochDate': 1569927952,\n",
       "  'type': '8-K',\n",
       "  'title': 'Disclosing Material Impairments, Regulation FD Disclosure, Financial Statements and Exhibits',\n",
       "  'edgarUrl': 'https://yahoo.brand.edgar-online.com/DisplayFiling.aspx?TabIndex=2&dcn=0000037996-19-000071&nav=1&src=Yahoo',\n",
       "  'maxAge': 1},\n",
       " {'date': '2019-07-25',\n",
       "  'epochDate': 1564049096,\n",
       "  'type': '10-Q',\n",
       "  'title': 'Quarterly Report',\n",
       "  'edgarUrl': 'https://yahoo.brand.edgar-online.com/DisplayFiling.aspx?TabIndex=2&dcn=0000037996-19-000067&nav=1&src=Yahoo',\n",
       "  'maxAge': 1},\n",
       " {'date': '2019-07-24',\n",
       "  'epochDate': 1563999789,\n",
       "  'type': '8-K',\n",
       "  'title': 'Disclosing Results of Operations and Financial Condition, Regulation FD Disclosure, Financial ',\n",
       "  'edgarUrl': 'https://yahoo.brand.edgar-online.com/DisplayFiling.aspx?TabIndex=2&dcn=0000037996-19-000065&nav=1&src=Yahoo',\n",
       "  'maxAge': 1},\n",
       " {'date': '2019-07-12',\n",
       "  'epochDate': 1562934583,\n",
       "  'type': '8-K',\n",
       "  'title': 'Disclosing Other Events, Financial Statements and Exhibits',\n",
       "  'edgarUrl': 'https://yahoo.brand.edgar-online.com/DisplayFiling.aspx?TabIndex=2&dcn=0000037996-19-000062&nav=1&src=Yahoo',\n",
       "  'maxAge': 1},\n",
       " {'date': '2019-07-10',\n",
       "  'epochDate': 1562786581,\n",
       "  'type': '8-K',\n",
       "  'title': 'Disclosing Change in Directors or Principal Officers, Financial Statements and Exhibits',\n",
       "  'edgarUrl': 'https://yahoo.brand.edgar-online.com/DisplayFiling.aspx?TabIndex=2&dcn=0000037996-19-000059&nav=1&src=Yahoo',\n",
       "  'maxAge': 1},\n",
       " {'date': '2019-07-03',\n",
       "  'epochDate': 1562177801,\n",
       "  'type': '8-K',\n",
       "  'title': 'Disclosing Other Events, Financial Statements and Exhibits',\n",
       "  'edgarUrl': 'https://yahoo.brand.edgar-online.com/DisplayFiling.aspx?TabIndex=2&dcn=0000037996-19-000057&nav=1&src=Yahoo',\n",
       "  'maxAge': 1},\n",
       " {'date': '2019-06-12',\n",
       "  'epochDate': 1560342846,\n",
       "  'type': '8-K',\n",
       "  'title': 'Disclosing Regulation FD Disclosure',\n",
       "  'edgarUrl': 'https://yahoo.brand.edgar-online.com/DisplayFiling.aspx?TabIndex=2&dcn=0000037996-19-000052&nav=1&src=Yahoo',\n",
       "  'maxAge': 1},\n",
       " {'date': '2019-06-06',\n",
       "  'epochDate': 1559821574,\n",
       "  'type': '8-K',\n",
       "  'title': 'Disclosing Costs Associated with Exit or Disposal Activities',\n",
       "  'edgarUrl': 'https://yahoo.brand.edgar-online.com/DisplayFiling.aspx?TabIndex=2&dcn=0000037996-19-000049&nav=1&src=Yahoo',\n",
       "  'maxAge': 1},\n",
       " {'date': '2019-06-04',\n",
       "  'epochDate': 1559680353,\n",
       "  'type': '8-K',\n",
       "  'title': 'Disclosing Change in Directors or Principal Officers, Financial Statements and Exhibits',\n",
       "  'edgarUrl': 'https://yahoo.brand.edgar-online.com/DisplayFiling.aspx?TabIndex=2&dcn=0000037996-19-000046&nav=1&src=Yahoo',\n",
       "  'maxAge': 1}]"
      ]
     },
     "execution_count": 155,
     "metadata": {},
     "output_type": "execute_result"
    }
   ],
   "source": [
    "json_data['context']['dispatcher']['stores']['QuoteSummaryStore']['secFilings']['filings']"
   ]
  },
  {
   "cell_type": "code",
   "execution_count": 95,
   "metadata": {},
   "outputs": [
    {
     "data": {
      "text/plain": [
       "{'previousClose': {'raw': 8.21, 'fmt': '8.21'},\n",
       " 'regularMarketOpen': {'raw': 8.23, 'fmt': '8.23'},\n",
       " 'twoHundredDayAverage': {'raw': 6.6803546, 'fmt': '6.68'},\n",
       " 'trailingAnnualDividendYield': {'raw': 0.036540806, 'fmt': '3.65%'},\n",
       " 'payoutRatio': {},\n",
       " 'volume24Hr': {},\n",
       " 'regularMarketDayHigh': {'raw': 8.57, 'fmt': '8.57'},\n",
       " 'navPrice': {},\n",
       " 'averageDailyVolume10Day': {'raw': 76730700,\n",
       "  'fmt': '76.73M',\n",
       "  'longFmt': '76,730,700'},\n",
       " 'totalAssets': {},\n",
       " 'regularMarketPreviousClose': {'raw': 8.21, 'fmt': '8.21'},\n",
       " 'fiftyDayAverage': {'raw': 7.6033335, 'fmt': '7.60'},\n",
       " 'trailingAnnualDividendRate': {'raw': 0.3, 'fmt': '0.30'},\n",
       " 'open': {'raw': 8.23, 'fmt': '8.23'},\n",
       " 'toCurrency': None,\n",
       " 'averageVolume10days': {'raw': 76730700,\n",
       "  'fmt': '76.73M',\n",
       "  'longFmt': '76,730,700'},\n",
       " 'expireDate': {},\n",
       " 'yield': {},\n",
       " 'algorithm': None,\n",
       " 'dividendRate': {},\n",
       " 'exDividendDate': {'raw': 1580256000, 'fmt': '2020-01-29'},\n",
       " 'beta': {'raw': 1.232243, 'fmt': '1.23'},\n",
       " 'circulatingSupply': {},\n",
       " 'startDate': {},\n",
       " 'regularMarketDayLow': {'raw': 8.23, 'fmt': '8.23'},\n",
       " 'priceHint': {'raw': 2, 'fmt': '2', 'longFmt': '2'},\n",
       " 'currency': 'USD',\n",
       " 'regularMarketVolume': {'raw': 77614948,\n",
       "  'fmt': '77.61M',\n",
       "  'longFmt': '77,614,948'},\n",
       " 'lastMarket': None,\n",
       " 'maxSupply': {},\n",
       " 'openInterest': {},\n",
       " 'marketCap': {'raw': 33975791616,\n",
       "  'fmt': '33.98B',\n",
       "  'longFmt': '33,975,791,616'},\n",
       " 'volumeAllCurrencies': {},\n",
       " 'strikePrice': {},\n",
       " 'averageVolume': {'raw': 61808909, 'fmt': '61.81M', 'longFmt': '61,808,909'},\n",
       " 'priceToSalesTrailing12Months': {'raw': 0.25954145, 'fmt': '0.26'},\n",
       " 'dayLow': {'raw': 8.23, 'fmt': '8.23'},\n",
       " 'ask': {'raw': 8.52, 'fmt': '8.52'},\n",
       " 'ytdReturn': {},\n",
       " 'askSize': {'raw': 38500, 'fmt': '38.5k', 'longFmt': '38,500'},\n",
       " 'volume': {'raw': 77614948, 'fmt': '77.61M', 'longFmt': '77,614,948'},\n",
       " 'fiftyTwoWeekHigh': {'raw': 9.57, 'fmt': '9.57'},\n",
       " 'forwardPE': {'raw': 8.056604, 'fmt': '8.06'},\n",
       " 'maxAge': 1,\n",
       " 'fromCurrency': None,\n",
       " 'fiveYearAvgDividendYield': {'raw': 5.93, 'fmt': '5.93'},\n",
       " 'fiftyTwoWeekLow': {'raw': 3.96, 'fmt': '3.96'},\n",
       " 'bid': {'raw': 8.5, 'fmt': '8.50'},\n",
       " 'tradeable': False,\n",
       " 'dividendYield': {},\n",
       " 'bidSize': {'raw': 39400, 'fmt': '39.4k', 'longFmt': '39,400'},\n",
       " 'dayHigh': {'raw': 8.57, 'fmt': '8.57'}}"
      ]
     },
     "execution_count": 95,
     "metadata": {},
     "output_type": "execute_result"
    }
   ],
   "source": [
    "json_data['context']['dispatcher']['stores']['QuoteSummaryStore']['summaryDetail']"
   ]
  },
  {
   "cell_type": "markdown",
   "metadata": {},
   "source": [
    "# Statistics"
   ]
  },
  {
   "cell_type": "code",
   "execution_count": 158,
   "metadata": {
    "jupyter": {
     "source_hidden": true
    }
   },
   "outputs": [],
   "source": [
    "response=requests.get(url_status.format(stock,stock))\n",
    "soup= BeautifulSoup(response.text,'html.parser')\n",
    "pattern= re.compile(r'\\s--\\sData\\s--\\s')\n",
    "script_data=soup.find('script',text=pattern).contents[0]\n",
    "start =script_data.find(\"context\")-2\n",
    "json_data=json.loads(script_data[start:-12])"
   ]
  },
  {
   "cell_type": "code",
   "execution_count": 98,
   "metadata": {
    "collapsed": true,
    "jupyter": {
     "outputs_hidden": true,
     "source_hidden": true
    }
   },
   "outputs": [
    {
     "data": {
      "text/plain": [
       "dict_keys(['defaultKeyStatistics', 'financialsTemplate', 'price', 'financialData', 'quoteType', 'calendarEvents', 'summaryDetail', 'symbol', 'pageViews'])"
      ]
     },
     "execution_count": 98,
     "metadata": {},
     "output_type": "execute_result"
    }
   ],
   "source": [
    "json_data['context']['dispatcher']['stores']['QuoteSummaryStore'].keys()"
   ]
  },
  {
   "cell_type": "code",
   "execution_count": 160,
   "metadata": {},
   "outputs": [
    {
     "data": {
      "text/plain": [
       "{'annualHoldingsTurnover': {},\n",
       " 'enterpriseToRevenue': {'raw': 1.246, 'fmt': '1.25'},\n",
       " 'beta3Year': {},\n",
       " 'profitMargins': {'raw': -0.00124, 'fmt': '-0.12%'},\n",
       " 'enterpriseToEbitda': {'raw': 23.133, 'fmt': '23.13'},\n",
       " '52WeekChange': {'raw': -0.045810044, 'fmt': '-4.58%'},\n",
       " 'morningStarRiskRating': {},\n",
       " 'forwardEps': {'raw': 1.06, 'fmt': '1.06'},\n",
       " 'revenueQuarterlyGrowth': {},\n",
       " 'sharesOutstanding': {'raw': 3907579904,\n",
       "  'fmt': '3.91B',\n",
       "  'longFmt': '3,907,579,904'},\n",
       " 'fundInceptionDate': {},\n",
       " 'annualReportExpenseRatio': {},\n",
       " 'totalAssets': {},\n",
       " 'bookValue': {'raw': 8.326, 'fmt': '8.33'},\n",
       " 'sharesShort': {'raw': 89221619, 'fmt': '89.22M', 'longFmt': '89,221,619'},\n",
       " 'sharesPercentSharesOut': {'raw': 0.0224, 'fmt': '2.24%'},\n",
       " 'fundFamily': None,\n",
       " 'lastFiscalYearEnd': {'raw': 1577750400, 'fmt': '2019-12-31'},\n",
       " 'heldPercentInstitutions': {'raw': 0.51794, 'fmt': '51.79%'},\n",
       " 'netIncomeToCommon': {'raw': -163000000,\n",
       "  'fmt': '-163M',\n",
       "  'longFmt': '-163,000,000'},\n",
       " 'trailingEps': {'raw': -0.041, 'fmt': '-0.04'},\n",
       " 'lastDividendValue': {'raw': 0.15, 'fmt': '0.15'},\n",
       " 'SandP52WeekChange': {'raw': 0.14833939, 'fmt': '14.83%'},\n",
       " 'priceToBook': {'raw': 1.0257026, 'fmt': '1.03'},\n",
       " 'heldPercentInsiders': {'raw': 0.00204, 'fmt': '0.20%'},\n",
       " 'nextFiscalYearEnd': {'raw': 1640908800, 'fmt': '2021-12-31'},\n",
       " 'yield': {},\n",
       " 'mostRecentQuarter': {'raw': 1601424000, 'fmt': '2020-09-30'},\n",
       " 'shortRatio': {'raw': 1.39, 'fmt': '1.39'},\n",
       " 'sharesShortPreviousMonthDate': {'raw': 1601424000, 'fmt': '2020-09-30'},\n",
       " 'floatShares': {'raw': 3898023343, 'fmt': '3.9B', 'longFmt': '3,898,023,343'},\n",
       " 'beta': {'raw': 1.232243, 'fmt': '1.23'},\n",
       " 'enterpriseValue': {'raw': 163067772928,\n",
       "  'fmt': '163.07B',\n",
       "  'longFmt': '163,067,772,928'},\n",
       " 'priceHint': {'raw': 2, 'fmt': '2', 'longFmt': '2'},\n",
       " 'threeYearAverageReturn': {},\n",
       " 'lastSplitDate': {'raw': 965260800, 'fmt': '2000-08-03'},\n",
       " 'lastSplitFactor': '1748175:1000000',\n",
       " 'legalType': None,\n",
       " 'lastDividendDate': {'raw': 1580256000, 'fmt': '2020-01-29'},\n",
       " 'morningStarOverallRating': {},\n",
       " 'earningsQuarterlyGrowth': {'raw': 4.612, 'fmt': '461.20%'},\n",
       " 'priceToSalesTrailing12Months': {},\n",
       " 'dateShortInterest': {'raw': 1604016000, 'fmt': '2020-10-30'},\n",
       " 'pegRatio': {'raw': -23.51, 'fmt': '-23.51'},\n",
       " 'ytdReturn': {},\n",
       " 'forwardPE': {'raw': 8.056604, 'fmt': '8.06'},\n",
       " 'maxAge': 1,\n",
       " 'lastCapGain': {},\n",
       " 'shortPercentOfFloat': {'raw': 0.0252, 'fmt': '2.52%'},\n",
       " 'sharesShortPriorMonth': {'raw': 96138569,\n",
       "  'fmt': '96.14M',\n",
       "  'longFmt': '96,138,569'},\n",
       " 'category': None,\n",
       " 'fiveYearAverageReturn': {}}"
      ]
     },
     "execution_count": 160,
     "metadata": {},
     "output_type": "execute_result"
    }
   ],
   "source": [
    "json_data['context']['dispatcher']['stores']['QuoteSummaryStore']['defaultKeyStatistics']"
   ]
  },
  {
   "cell_type": "markdown",
   "metadata": {},
   "source": [
    "# History of stock data"
   ]
  },
  {
   "cell_type": "code",
   "execution_count": 161,
   "metadata": {},
   "outputs": [],
   "source": [
    "stock_url='https://query1.finance.yahoo.com/v7/finance/download/F?period1=1573759145&period2=1605381545&interval=1d&events=history&includeAdjustedClose=true'"
   ]
  },
  {
   "cell_type": "code",
   "execution_count": 162,
   "metadata": {},
   "outputs": [],
   "source": [
    "response=requests.get(stock_url)"
   ]
  },
  {
   "cell_type": "code",
   "execution_count": 163,
   "metadata": {},
   "outputs": [
    {
     "data": {
      "text/plain": [
       "'Date,Open,High,Low,Close,Adj Close,Volume\\n2019-11-14,8.850000,8.910000,8.780000,8.790000,8.643010,26527800\\n2019-11-15,8.850000,8.960000,8.850000,8.950000,8.800335,26416300\\n2019-11-18,9.050000,9.050000,8.890000,8.950000,8.800335,38291400\\n2019-11-19,8.990000,9.000000,8.870000,8.900000,8.751170,31168900\\n2019-11-20,8.880000,8.890000,8.680000,8.730000,8.584013,38271500\\n2019-11-21,8.770000,8.790000,8.670000,8.710000,8.564348,33161400\\n2019-11-22,8.800000,8.900000,8.770000,8.890000,8.741339,34966700\\n2019-11-25,8.900000,9.010000,8.870000,9.000000,8.849499,30580900\\n2019-11-26,8.980000,9.020000,8.910000,9.010000,8.859331,30093800\\n2019-11-27,9.030000,9.150000,9.020000,9.100000,8.947826,37396100\\n2019-11-29,9.040000,9.100000,9.030000,9.060000,8.908496,13096200\\n2019-12-02,9.080000,9.140000,9.000000,9.010000,8.859331,37232700\\n2019-12-03,8.950000,8.950000,8.800000,8.890000,8.741339,40653100\\n2019-12-04,8.950000,9.030000,8.940000,8.950000,8.800335,29982900\\n2019-12-05,8.970000,9.000000,8.880000,8.930000,8.780669,25768600\\n2019-12-06,8.960000,9.070000,8.950000,9.020000,8.869164,31086900\\n2019-12-09,8.970000,9.070000,8.960000,9.010000,8.859331,21772900\\n2019-12-10,9.020000,9.100000,8.960000,9.070000,8.918327,34217700\\n2019-12-11,9.060000,9.140000,9.060000,9.110000,8.957659,33204200\\n2019-12-12,9.110000,9.360000,9.110000,9.320000,9.164147,48390900\\n2019-12-13,9.320000,9.390000,9.190000,9.230000,9.075652,35334500\\n2019-12-16,9.240000,9.390000,9.220000,9.390000,9.232977,42337600\\n2019-12-17,9.380000,9.410000,9.310000,9.390000,9.232977,35503900\\n2019-12-18,9.390000,9.570000,9.360000,9.540000,9.380468,45905300\\n2019-12-19,9.550000,9.570000,9.380000,9.410000,9.252643,42236000\\n2019-12-20,9.500000,9.540000,9.440000,9.480000,9.321471,50191200\\n2019-12-23,9.500000,9.570000,9.400000,9.440000,9.282141,54784400\\n2019-12-24,9.440000,9.490000,9.430000,9.470000,9.311640,11881600\\n2019-12-26,9.470000,9.490000,9.430000,9.450000,9.291973,28961300\\n2019-12-27,9.450000,9.460000,9.350000,9.360000,9.203478,28272800\\n2019-12-30,9.340000,9.350000,9.230000,9.250000,9.095318,36074900\\n2019-12-31,9.250000,9.330000,9.250000,9.300000,9.144482,32342100\\n2020-01-02,9.290000,9.420000,9.190000,9.420000,9.262475,43425700\\n2020-01-03,9.310000,9.370000,9.150000,9.210000,9.055987,45040800\\n2020-01-06,9.100000,9.170000,9.060000,9.160000,9.006823,43372300\\n2020-01-07,9.200000,9.250000,9.120000,9.250000,9.095318,44984100\\n2020-01-08,9.230000,9.300000,9.170000,9.250000,9.095318,45994900\\n2020-01-09,9.300000,9.310000,9.180000,9.260000,9.105151,51817400\\n2020-01-10,9.270000,9.360000,9.250000,9.250000,9.095318,39796300\\n2020-01-13,9.250000,9.260000,9.110000,9.240000,9.085485,48553700\\n2020-01-14,9.220000,9.330000,9.210000,9.290000,9.134649,42935600\\n2020-01-15,9.270000,9.300000,9.180000,9.190000,9.036321,55923900\\n2020-01-16,9.230000,9.280000,9.150000,9.170000,9.016656,44310400\\n2020-01-17,9.190000,9.230000,9.130000,9.160000,9.006823,41644900\\n2020-01-21,9.150000,9.220000,9.100000,9.210000,9.055987,49556400\\n2020-01-22,9.220000,9.250000,9.150000,9.160000,9.006823,39914800\\n2020-01-23,9.140000,9.160000,8.930000,9.140000,8.987158,75848700\\n2020-01-24,9.110000,9.120000,8.960000,9.000000,8.849499,68100900\\n2020-01-27,8.880000,8.960000,8.780000,8.890000,8.741339,60769300\\n2020-01-28,8.940000,9.000000,8.860000,8.970000,8.820001,85163400\\n2020-01-29,8.850000,8.960000,8.840000,8.860000,8.860000,59057400\\n2020-01-30,8.810000,8.840000,8.730000,8.840000,8.840000,42827800\\n2020-01-31,8.780000,8.840000,8.740000,8.820000,8.820000,59813700\\n2020-02-03,8.850000,9.140000,8.850000,8.980000,8.980000,71432700\\n2020-02-04,9.080000,9.240000,9.070000,9.180000,9.180000,86196400\\n2020-02-05,8.410000,8.480000,8.260000,8.310000,8.310000,145792500\\n2020-02-06,8.370000,8.380000,8.250000,8.250000,8.250000,68823400\\n2020-02-07,8.210000,8.210000,8.020000,8.110000,8.110000,98256500\\n2020-02-10,8.150000,8.150000,8.050000,8.060000,8.060000,71834900\\n2020-02-11,8.100000,8.150000,8.080000,8.100000,8.100000,80164500\\n2020-02-12,8.140000,8.330000,8.130000,8.240000,8.240000,111536800\\n2020-02-13,8.210000,8.360000,8.210000,8.250000,8.250000,67648800\\n2020-02-14,8.270000,8.270000,8.080000,8.100000,8.100000,46359700\\n2020-02-18,8.120000,8.150000,8.020000,8.060000,8.060000,65094800\\n2020-02-19,8.060000,8.100000,8.000000,8.000000,8.000000,69668200\\n2020-02-20,8.000000,8.070000,7.990000,8.030000,8.030000,52318200\\n2020-02-21,8.020000,8.030000,7.890000,7.890000,7.890000,58326300\\n2020-02-24,7.700000,7.720000,7.550000,7.570000,7.570000,110048200\\n2020-02-25,7.680000,7.680000,7.220000,7.230000,7.230000,108888300\\n2020-02-26,7.300000,7.460000,7.210000,7.210000,7.210000,92469500\\n2020-02-27,7.130000,7.280000,6.920000,6.970000,6.970000,118642400\\n2020-02-28,6.840000,6.960000,6.670000,6.960000,6.960000,116546700\\n2020-03-02,7.110000,7.230000,6.880000,7.200000,7.200000,96766000\\n2020-03-03,7.290000,7.340000,6.890000,6.970000,6.970000,97457800\\n2020-03-04,7.090000,7.090000,6.920000,7.080000,7.080000,70588100\\n2020-03-05,6.960000,6.970000,6.710000,6.740000,6.740000,78070900\\n2020-03-06,6.600000,6.680000,6.400000,6.490000,6.490000,109932200\\n2020-03-09,5.970000,6.140000,5.870000,5.900000,5.900000,103901700\\n2020-03-10,6.260000,6.290000,5.800000,6.260000,6.260000,101873600\\n2020-03-11,6.060000,6.110000,5.880000,5.900000,5.900000,98587100\\n2020-03-12,5.380000,5.690000,5.200000,5.350000,5.350000,89453100\\n2020-03-13,5.870000,5.900000,5.120000,5.630000,5.630000,125375300\\n2020-03-16,5.040000,5.220000,5.000000,5.010000,5.010000,110310900\\n2020-03-17,5.080000,5.140000,4.700000,5.010000,5.010000,104233500\\n2020-03-18,4.750000,4.840000,4.100000,4.500000,4.500000,125954700\\n2020-03-19,4.330000,4.580000,4.100000,4.470000,4.470000,126603800\\n2020-03-20,4.540000,4.750000,4.250000,4.330000,4.330000,129378600\\n2020-03-23,4.270000,4.520000,3.960000,4.010000,4.010000,134925000\\n2020-03-24,4.470000,4.990000,4.260000,4.950000,4.950000,146192100\\n2020-03-25,5.770000,5.870000,5.120000,5.390000,5.390000,198999400\\n2020-03-26,5.360000,5.650000,5.160000,5.250000,5.250000,138227600\\n2020-03-27,5.070000,5.300000,4.910000,5.190000,5.190000,106324000\\n2020-03-30,5.110000,5.120000,4.930000,5.030000,5.030000,97879700\\n2020-03-31,5.030000,5.190000,4.750000,4.830000,4.830000,231800800\\n2020-04-01,4.630000,4.770000,4.360000,4.400000,4.400000,119174500\\n2020-04-02,4.390000,4.570000,4.250000,4.360000,4.360000,90891700\\n2020-04-03,4.400000,4.420000,4.170000,4.240000,4.240000,85659900\\n2020-04-06,4.540000,4.670000,4.410000,4.530000,4.530000,102205300\\n2020-04-07,4.850000,5.030000,4.630000,4.710000,4.710000,115150400\\n2020-04-08,4.860000,5.090000,4.800000,5.030000,5.030000,117022200\\n2020-04-09,5.510000,5.750000,5.240000,5.370000,5.370000,175833700\\n2020-04-13,5.430000,5.430000,5.020000,5.160000,5.160000,99320000\\n2020-04-14,5.270000,5.440000,5.160000,5.290000,5.290000,74877000\\n2020-04-15,5.060000,5.140000,4.950000,5.030000,5.030000,74727700\\n2020-04-16,5.060000,5.070000,4.890000,4.940000,4.940000,58951200\\n2020-04-17,5.170000,5.280000,5.030000,5.120000,5.120000,91989300\\n2020-04-20,5.010000,5.090000,4.910000,4.980000,4.980000,71079400\\n2020-04-21,4.890000,4.920000,4.720000,4.770000,4.770000,82400200\\n2020-04-22,4.870000,4.890000,4.750000,4.770000,4.770000,62398600\\n2020-04-23,4.800000,4.980000,4.770000,4.890000,4.890000,61959800\\n2020-04-24,4.930000,4.960000,4.800000,4.870000,4.870000,54352500\\n2020-04-27,4.910000,5.190000,4.880000,5.170000,5.170000,91082800\\n2020-04-28,5.490000,5.540000,5.220000,5.380000,5.380000,106222800\\n2020-04-29,5.330000,5.500000,5.210000,5.260000,5.260000,126393000\\n2020-04-30,5.160000,5.240000,5.060000,5.090000,5.090000,93437900\\n2020-05-01,5.020000,5.050000,4.900000,4.920000,4.920000,82660100\\n2020-05-04,4.880000,4.970000,4.770000,4.860000,4.860000,84214700\\n2020-05-05,4.990000,5.090000,4.940000,4.970000,4.970000,96301300\\n2020-05-06,5.050000,5.090000,4.820000,4.870000,4.870000,89390400\\n2020-05-07,4.900000,4.980000,4.850000,4.870000,4.870000,67222900\\n2020-05-08,4.960000,5.250000,4.950000,5.240000,5.240000,101333800\\n2020-05-11,5.180000,5.190000,5.050000,5.120000,5.120000,75734000\\n2020-05-12,5.150000,5.220000,4.970000,4.980000,4.980000,70965200\\n2020-05-13,5.000000,5.010000,4.660000,4.720000,4.720000,100192300\\n2020-05-14,4.640000,4.920000,4.520000,4.890000,4.890000,107931900\\n2020-05-15,4.800000,4.940000,4.750000,4.900000,4.900000,80544700\\n2020-05-18,5.120000,5.330000,5.120000,5.310000,5.310000,136241400\\n2020-05-19,5.270000,5.450000,5.150000,5.300000,5.300000,94836300\\n2020-05-20,5.380000,5.540000,5.370000,5.490000,5.490000,87685400\\n2020-05-21,5.450000,5.690000,5.440000,5.630000,5.630000,87098200\\n2020-05-22,5.680000,5.730000,5.500000,5.650000,5.650000,76656500\\n2020-05-26,5.920000,5.990000,5.820000,5.840000,5.840000,86046300\\n2020-05-27,6.010000,6.090000,5.840000,6.030000,6.030000,110413900\\n2020-05-28,6.050000,6.070000,5.810000,5.850000,5.850000,76930200\\n2020-05-29,5.750000,5.800000,5.570000,5.710000,5.710000,93039200\\n2020-06-01,5.730000,5.880000,5.670000,5.870000,5.870000,61879700\\n2020-06-02,5.960000,6.000000,5.830000,5.900000,5.900000,80046000\\n2020-06-03,5.990000,6.270000,5.920000,6.190000,6.190000,98876600\\n2020-06-04,6.200000,6.580000,6.120000,6.570000,6.570000,115798600\\n2020-06-05,7.240000,7.500000,7.020000,7.340000,7.340000,208648200\\n2020-06-08,7.530000,7.740000,7.370000,7.530000,7.530000,113169300\\n2020-06-09,7.220000,7.440000,7.050000,7.240000,7.240000,115749600\\n2020-06-10,7.330000,7.340000,6.770000,6.810000,6.810000,147327100\\n2020-06-11,6.070000,6.460000,6.040000,6.130000,6.130000,116184700\\n2020-06-12,6.560000,6.630000,6.300000,6.460000,6.460000,88719000\\n2020-06-15,6.180000,6.580000,6.110000,6.500000,6.500000,104742600\\n2020-06-16,6.870000,6.870000,6.440000,6.550000,6.550000,109535200\\n2020-06-17,6.560000,6.560000,6.310000,6.330000,6.330000,67732200\\n2020-06-18,6.260000,6.450000,6.190000,6.330000,6.330000,61301800\\n2020-06-19,6.640000,6.690000,6.230000,6.230000,6.230000,126127800\\n2020-06-22,6.270000,6.280000,6.130000,6.280000,6.280000,71724300\\n2020-06-23,6.330000,6.380000,6.140000,6.150000,6.150000,86672800\\n2020-06-24,6.060000,6.120000,5.860000,5.950000,5.950000,75536300\\n2020-06-25,5.860000,6.050000,5.800000,6.030000,6.030000,73612700\\n2020-06-26,6.040000,6.070000,5.810000,5.910000,5.910000,118435400\\n2020-06-29,5.910000,6.070000,5.810000,6.010000,6.010000,58208400\\n2020-06-30,5.980000,6.100000,5.900000,6.080000,6.080000,61909300\\n2020-07-01,6.100000,6.180000,5.950000,5.980000,5.980000,62454700\\n2020-07-02,6.100000,6.170000,6.000000,6.050000,6.050000,67270500\\n2020-07-06,6.140000,6.200000,6.110000,6.190000,6.190000,63921800\\n2020-07-07,6.140000,6.200000,6.090000,6.120000,6.120000,56652000\\n2020-07-08,6.130000,6.180000,6.050000,6.090000,6.090000,60928600\\n2020-07-09,6.090000,6.100000,5.820000,5.840000,5.840000,82693000\\n2020-07-10,5.800000,6.100000,5.740000,6.100000,6.100000,73710700\\n2020-07-13,6.150000,6.220000,6.050000,6.060000,6.060000,80190700\\n2020-07-14,6.180000,6.390000,6.080000,6.360000,6.360000,106131800\\n2020-07-15,6.540000,6.780000,6.520000,6.740000,6.740000,101648700\\n2020-07-16,6.660000,6.900000,6.630000,6.860000,6.860000,93498500\\n2020-07-17,6.900000,6.910000,6.730000,6.800000,6.800000,80769000\\n2020-07-20,6.800000,6.850000,6.580000,6.660000,6.660000,71361700\\n2020-07-21,6.710000,6.810000,6.640000,6.680000,6.680000,63343900\\n2020-07-22,6.640000,6.880000,6.610000,6.840000,6.840000,75629600\\n2020-07-23,6.870000,7.060000,6.800000,6.980000,6.980000,88652600\\n2020-07-24,6.900000,7.010000,6.860000,6.880000,6.880000,62292000\\n2020-07-27,6.920000,6.940000,6.770000,6.930000,6.930000,60370200\\n2020-07-28,6.900000,7.050000,6.900000,7.010000,7.010000,56312500\\n2020-07-29,7.050000,7.060000,6.830000,6.920000,6.920000,59437200\\n2020-07-30,6.740000,6.830000,6.670000,6.740000,6.740000,58991000\\n2020-07-31,6.890000,6.900000,6.520000,6.610000,6.610000,115394100\\n2020-08-03,6.650000,6.720000,6.530000,6.690000,6.690000,53845900\\n2020-08-04,6.910000,6.910000,6.730000,6.860000,6.860000,69377600\\n2020-08-05,6.860000,7.030000,6.860000,6.960000,6.960000,82716400\\n2020-08-06,6.930000,7.000000,6.890000,6.930000,6.930000,48668500\\n2020-08-07,6.870000,6.920000,6.790000,6.860000,6.860000,47455200\\n2020-08-10,6.910000,7.130000,6.910000,7.090000,7.090000,57229000\\n2020-08-11,7.210000,7.380000,7.190000,7.230000,7.230000,74016400\\n2020-08-12,7.330000,7.370000,7.060000,7.110000,7.110000,59194100\\n2020-08-13,7.030000,7.180000,7.000000,7.030000,7.030000,50066800\\n2020-08-14,6.970000,7.110000,6.930000,7.040000,7.040000,43517700\\n2020-08-17,7.050000,7.060000,6.870000,6.980000,6.980000,64555200\\n2020-08-18,6.980000,7.010000,6.890000,6.890000,6.890000,40444200\\n2020-08-19,6.890000,7.020000,6.860000,6.870000,6.870000,44158100\\n2020-08-20,6.770000,6.890000,6.730000,6.840000,6.840000,41824500\\n2020-08-21,6.780000,6.850000,6.650000,6.660000,6.660000,39158900\\n2020-08-24,6.730000,7.000000,6.690000,6.980000,6.980000,64974700\\n2020-08-25,7.010000,7.100000,6.860000,6.940000,6.940000,49550000\\n2020-08-26,6.940000,6.970000,6.770000,6.820000,6.820000,48600100\\n2020-08-27,6.830000,6.980000,6.830000,6.910000,6.910000,45740900\\n2020-08-28,6.930000,6.950000,6.860000,6.940000,6.940000,39936900\\n2020-08-31,6.900000,6.930000,6.790000,6.820000,6.820000,50089500\\n2020-09-01,6.770000,6.870000,6.720000,6.830000,6.830000,48214200\\n2020-09-02,6.810000,6.970000,6.770000,6.950000,6.950000,59008900\\n2020-09-03,6.920000,7.090000,6.760000,6.820000,6.820000,78130900\\n2020-09-04,6.860000,6.950000,6.750000,6.900000,6.900000,70017500\\n2020-09-08,6.830000,7.170000,6.810000,7.030000,7.030000,84749300\\n2020-09-09,7.070000,7.100000,6.930000,6.970000,6.970000,56501400\\n2020-09-10,6.990000,7.040000,6.870000,6.910000,6.910000,69228600\\n2020-09-11,6.940000,7.000000,6.850000,7.000000,7.000000,55080600\\n2020-09-14,7.010000,7.180000,6.980000,7.120000,7.120000,58704300\\n2020-09-15,7.160000,7.180000,7.000000,7.040000,7.040000,65198500\\n2020-09-16,7.050000,7.120000,6.990000,7.020000,7.020000,46245800\\n2020-09-17,7.040000,7.340000,6.980000,7.280000,7.280000,84850100\\n2020-09-18,7.310000,7.400000,7.220000,7.230000,7.230000,71929400\\n2020-09-21,7.090000,7.090000,6.810000,6.870000,6.870000,72850300\\n2020-09-22,6.890000,6.990000,6.770000,6.780000,6.780000,55865500\\n2020-09-23,6.810000,6.930000,6.630000,6.640000,6.640000,52588600\\n2020-09-24,6.600000,6.760000,6.410000,6.660000,6.660000,59822900\\n2020-09-25,6.610000,6.710000,6.500000,6.510000,6.510000,53761800\\n2020-09-28,6.590000,6.770000,6.580000,6.690000,6.690000,47582600\\n2020-09-29,6.690000,6.700000,6.540000,6.600000,6.600000,38987300\\n2020-09-30,6.610000,6.750000,6.590000,6.660000,6.660000,55809500\\n2020-10-01,6.710000,6.770000,6.630000,6.750000,6.750000,58340600\\n2020-10-02,6.620000,6.930000,6.600000,6.890000,6.890000,60798400\\n2020-10-05,6.950000,7.050000,6.950000,7.020000,7.020000,42359400\\n2020-10-06,7.060000,7.250000,6.960000,6.980000,6.980000,78203800\\n2020-10-07,7.110000,7.250000,7.060000,7.230000,7.230000,50664100\\n2020-10-08,7.290000,7.350000,7.200000,7.350000,7.350000,54513300\\n2020-10-09,7.360000,7.440000,7.230000,7.250000,7.250000,50977900\\n2020-10-12,7.360000,7.870000,7.330000,7.670000,7.670000,97692900\\n2020-10-13,7.820000,7.880000,7.630000,7.760000,7.760000,74562600\\n2020-10-14,7.730000,7.750000,7.550000,7.570000,7.570000,57808900\\n2020-10-15,7.420000,7.620000,7.370000,7.620000,7.620000,49336200\\n2020-10-16,7.710000,7.750000,7.610000,7.670000,7.670000,47509400\\n2020-10-19,7.680000,7.720000,7.570000,7.590000,7.590000,38960700\\n2020-10-20,7.620000,7.850000,7.580000,7.740000,7.740000,63447000\\n2020-10-21,7.770000,7.880000,7.730000,7.850000,7.850000,51981100\\n2020-10-22,7.930000,8.220000,7.890000,8.210000,8.210000,74008500\\n2020-10-23,8.300000,8.350000,8.090000,8.160000,8.160000,62249000\\n2020-10-26,8.040000,8.070000,7.940000,8.030000,8.030000,62131000\\n2020-10-27,8.010000,8.090000,7.900000,7.920000,7.920000,64154500\\n2020-10-28,7.680000,7.880000,7.630000,7.700000,7.700000,82938300\\n2020-10-29,8.170000,8.240000,7.850000,7.900000,7.900000,118999900\\n2020-10-30,7.850000,7.910000,7.610000,7.730000,7.730000,79345600\\n2020-11-02,7.830000,7.860000,7.680000,7.710000,7.710000,59962900\\n2020-11-03,7.760000,7.930000,7.730000,7.880000,7.880000,65108800\\n2020-11-04,7.860000,7.870000,7.630000,7.640000,7.640000,67326800\\n2020-11-05,7.760000,7.990000,7.710000,7.990000,7.990000,61442600\\n2020-11-06,8.010000,8.020000,7.750000,7.790000,7.790000,50912100\\n2020-11-09,8.110000,8.380000,8.080000,8.200000,8.200000,110511300\\n2020-11-10,8.230000,8.590000,8.180000,8.380000,8.380000,87468400\\n2020-11-11,8.600000,8.600000,8.290000,8.330000,8.330000,75644400\\n2020-11-12,8.260000,8.290000,8.100000,8.210000,8.210000,81064900\\n2020-11-13,8.230000,8.570000,8.230000,8.540000,8.540000,79475100'"
      ]
     },
     "execution_count": 163,
     "metadata": {},
     "output_type": "execute_result"
    }
   ],
   "source": [
    "response.text"
   ]
  },
  {
   "cell_type": "code",
   "execution_count": 164,
   "metadata": {},
   "outputs": [],
   "source": [
    "stock_url='https://query1.finance.yahoo.com/v7/finance/download/F?'\n",
    "params={\n",
    "    'period1':'1573759145',\n",
    "    'period2':'1605381545',\n",
    "    'interval':'1d',\n",
    "    'events':'history'\n",
    "}"
   ]
  },
  {
   "cell_type": "code",
   "execution_count": 165,
   "metadata": {},
   "outputs": [],
   "source": [
    "params={\n",
    "    'range':'5y',\n",
    "    'interval':'1d',\n",
    "    'events':'history'\n",
    "}"
   ]
  },
  {
   "cell_type": "code",
   "execution_count": 166,
   "metadata": {},
   "outputs": [],
   "source": [
    "reponse=requests.get(stock_url.format(stock),params=params)"
   ]
  },
  {
   "cell_type": "code",
   "execution_count": 167,
   "metadata": {},
   "outputs": [
    {
     "data": {
      "text/plain": [
       "'Date,Open,High,Low,Close,Adj Close,Volume\\n2015-11-16,13.850000,14.080000,13.850000,14.040000,10.643991,22636000\\n2015-11-17,14.020000,14.370000,14.010000,14.150000,10.727381,25188600\\n2015-11-18,14.230000,14.500000,14.180000,14.460000,10.962399,26250400\\n2015-11-19,14.450000,14.630000,14.420000,14.570000,11.045791,23593800\\n2015-11-20,14.620000,14.760000,14.540000,14.600000,11.068534,18906200\\n2015-11-23,14.600000,14.730000,14.510000,14.550000,11.030630,18273900\\n2015-11-24,14.410000,14.630000,14.320000,14.550000,11.030630,21251800\\n2015-11-25,14.540000,14.680000,14.520000,14.550000,11.030630,12627000\\n2015-11-27,14.540000,14.590000,14.500000,14.530000,11.015468,7760600\\n2015-11-30,14.540000,14.550000,14.290000,14.330000,10.863843,27860300\\n2015-12-01,14.320000,14.560000,14.290000,14.560000,11.038213,29142200\\n2015-12-02,14.600000,14.620000,14.240000,14.260000,10.810778,21398100\\n2015-12-03,14.310000,14.340000,13.930000,13.980000,10.598502,29847300\\n2015-12-04,14.080000,14.260000,14.000000,14.200000,10.765289,28354100\\n2015-12-07,14.190000,14.200000,14.020000,14.120000,10.704640,14530600\\n2015-12-08,14.030000,14.100000,13.880000,13.970000,10.590919,30356900\\n2015-12-09,13.910000,14.140000,13.800000,13.890000,10.530272,25196900\\n2015-12-10,13.910000,14.090000,13.890000,13.960000,10.583339,22039300\\n2015-12-11,13.840000,13.920000,13.580000,13.640000,10.340742,29576400\\n2015-12-14,13.660000,13.740000,13.400000,13.620000,10.325579,26825200\\n2015-12-15,13.740000,14.000000,13.720000,13.870000,10.515109,43728500\\n2015-12-16,14.000000,14.360000,13.990000,14.360000,10.886587,40683800\\n2015-12-17,14.370000,14.380000,13.950000,13.980000,10.598502,26179800\\n2015-12-18,13.880000,13.910000,13.720000,13.800000,10.462043,40453000\\n2015-12-21,13.890000,13.950000,13.670000,13.730000,10.408971,31598000\\n2015-12-22,13.930000,14.250000,13.900000,14.200000,10.765289,50646600\\n2015-12-23,14.270000,14.380000,14.260000,14.360000,10.886587,22172300\\n2015-12-24,14.350000,14.370000,14.250000,14.310000,10.848682,9000100\\n2015-12-28,14.280000,14.340000,14.160000,14.180000,10.750127,13697500\\n2015-12-29,14.280000,14.300000,14.150000,14.230000,10.788033,18867800\\n2015-12-30,14.230000,14.260000,14.120000,14.170000,10.742547,13800300\\n2015-12-31,14.140000,14.160000,14.040000,14.090000,10.681896,19881000\\n2016-01-04,13.870000,14.000000,13.750000,13.970000,10.590919,38618500\\n2016-01-05,13.970000,14.000000,13.510000,13.720000,10.401392,50267500\\n2016-01-06,13.560000,13.560000,13.050000,13.110000,9.938939,61285500\\n2016-01-07,12.900000,13.040000,12.600000,12.700000,9.628110,57846700\\n2016-01-08,13.050000,13.100000,12.500000,12.540000,9.506811,46199400\\n2016-01-11,12.800000,12.820000,12.550000,12.770000,9.681179,41269100\\n2016-01-12,13.030000,13.040000,12.580000,12.850000,9.741828,50983700\\n2016-01-13,12.730000,12.840000,12.060000,12.200000,9.249050,102174700\\n2016-01-14,12.190000,12.310000,11.820000,12.190000,9.241469,62938600\\n2016-01-15,11.810000,12.000000,11.580000,11.970000,9.074684,69030000\\n2016-01-19,12.150000,12.160000,11.820000,11.950000,9.059522,41142600\\n2016-01-20,11.790000,12.070000,11.470000,11.900000,9.021616,59879000\\n2016-01-21,12.010000,12.280000,11.860000,12.010000,9.105008,48841800\\n2016-01-22,12.260000,12.360000,12.030000,12.140000,9.203564,44537800\\n2016-01-25,12.300000,12.310000,11.930000,11.980000,9.082264,96738600\\n2016-01-26,12.140000,12.300000,12.040000,12.260000,9.294538,45969800\\n2016-01-27,12.050000,12.100000,11.730000,11.850000,9.286703,42064200\\n2016-01-28,12.030000,12.060000,11.200000,11.710000,9.176986,75699800\\n2016-01-29,11.830000,11.940000,11.650000,11.940000,9.357234,52137400\\n2016-02-01,11.920000,12.140000,11.730000,12.070000,9.459113,37301200\\n2016-02-02,11.950000,12.080000,11.450000,11.510000,9.020246,55649200\\n2016-02-03,11.670000,11.680000,11.020000,11.460000,8.981064,69454600\\n2016-02-04,11.370000,11.690000,11.260000,11.530000,9.035921,40223100\\n2016-02-05,11.520000,11.700000,11.420000,11.450000,8.973226,33322200\\n2016-02-08,11.390000,11.690000,11.250000,11.590000,9.082944,45274500\\n2016-02-09,11.470000,11.610000,11.220000,11.350000,8.894857,48956800\\n2016-02-10,11.460000,11.570000,11.330000,11.340000,8.887020,38160300\\n2016-02-11,11.170000,11.430000,11.100000,11.170000,8.753792,45801300\\n2016-02-12,11.250000,11.580000,11.180000,11.550000,9.051594,28085000\\n2016-02-16,11.750000,11.880000,11.530000,11.870000,9.302376,41072100\\n2016-02-17,11.990000,12.300000,11.980000,12.270000,9.615851,37766400\\n2016-02-18,12.400000,12.440000,12.120000,12.260000,9.608015,28784700\\n2016-02-19,12.190000,12.220000,12.010000,12.100000,9.482623,26479300\\n2016-02-22,12.100000,12.560000,12.100000,12.560000,9.843121,33549700\\n2016-02-23,12.530000,12.650000,12.420000,12.420000,9.733403,30136700\\n2016-02-24,12.110000,12.110000,11.600000,12.080000,9.466950,60608400\\n2016-02-25,12.110000,12.400000,12.050000,12.390000,9.709891,32024800\\n2016-02-26,12.520000,12.590000,12.400000,12.470000,9.772588,30228800\\n2016-02-29,12.420000,12.650000,12.390000,12.510000,9.803936,32999100\\n2016-03-01,13.010000,13.120000,12.720000,13.090000,10.258475,71523900\\n2016-03-02,13.060000,13.350000,13.040000,13.220000,10.360353,36598200\\n2016-03-03,13.250000,13.610000,13.240000,13.540000,10.611133,44524500\\n2016-03-04,13.560000,13.860000,13.430000,13.590000,10.650319,31818600\\n2016-03-07,13.460000,13.740000,13.450000,13.620000,10.673830,26131400\\n2016-03-08,13.510000,13.580000,13.150000,13.230000,10.368190,34770600\\n2016-03-09,13.250000,13.320000,13.010000,13.190000,10.336843,34146200\\n2016-03-10,13.250000,13.280000,12.920000,13.150000,10.305495,39076500\\n2016-03-11,13.260000,13.300000,13.200000,13.290000,10.415212,27583000\\n2016-03-14,13.280000,13.370000,13.180000,13.270000,10.399540,20609600\\n2016-03-15,13.120000,13.240000,13.050000,13.230000,10.368190,27729900\\n2016-03-16,13.210000,13.510000,13.180000,13.500000,10.579786,47035000\\n2016-03-17,13.470000,13.680000,13.390000,13.470000,10.556276,31521700\\n2016-03-18,13.540000,13.700000,13.490000,13.640000,10.689501,32182400\\n2016-03-21,13.640000,13.760000,13.560000,13.660000,10.705176,20905200\\n2016-03-22,13.650000,13.730000,13.510000,13.590000,10.650319,26148000\\n2016-03-23,13.570000,13.610000,13.190000,13.260000,10.391701,31535500\\n2016-03-24,13.110000,13.120000,12.780000,13.060000,10.234963,36203200\\n2016-03-28,13.130000,13.170000,13.070000,13.090000,10.258475,18684200\\n2016-03-29,13.050000,13.200000,12.970000,13.200000,10.344680,26077400\\n2016-03-30,13.280000,13.440000,13.250000,13.350000,10.462234,25322500\\n2016-03-31,13.340000,13.520000,13.340000,13.500000,10.579786,32943400\\n2016-04-01,13.280000,13.330000,13.050000,13.100000,10.266313,57914000\\n2016-04-04,13.110000,13.120000,12.760000,12.800000,10.031206,42406300\\n2016-04-05,12.730000,12.850000,12.520000,12.770000,10.007695,32425000\\n2016-04-06,12.750000,12.870000,12.650000,12.820000,10.046878,22597400\\n2016-04-07,12.770000,12.790000,12.390000,12.520000,9.811771,37688100\\n2016-04-08,12.620000,12.780000,12.510000,12.550000,9.835282,20015300\\n2016-04-11,12.610000,12.800000,12.580000,12.660000,9.921487,27744800\\n2016-04-12,12.720000,12.840000,12.660000,12.810000,10.039042,23417000\\n2016-04-13,12.870000,13.120000,12.850000,13.060000,10.234963,29331100\\n2016-04-14,13.090000,13.180000,13.020000,13.090000,10.258475,22453700\\n2016-04-15,13.100000,13.120000,12.850000,12.940000,10.140921,22986100\\n2016-04-18,12.980000,13.280000,12.950000,13.250000,10.383864,30137700\\n2016-04-19,13.350000,13.500000,13.280000,13.440000,10.532764,28808300\\n2016-04-20,13.420000,13.720000,13.400000,13.640000,10.689501,32199000\\n2016-04-21,13.810000,13.880000,13.560000,13.650000,10.697341,38126300\\n2016-04-22,13.630000,13.780000,13.510000,13.610000,10.665993,28846300\\n2016-04-25,13.590000,13.650000,13.470000,13.580000,10.642480,19494800\\n2016-04-26,13.660000,13.820000,13.630000,13.750000,10.775707,35214200\\n2016-04-27,13.640000,13.710000,13.590000,13.660000,10.823249,27151400\\n2016-04-28,13.790000,14.220000,13.710000,14.090000,11.163949,87588800\\n2016-04-29,13.930000,14.030000,13.530000,13.560000,10.744016,69695100\\n2016-05-02,13.670000,13.790000,13.600000,13.620000,10.791555,57955400\\n2016-05-03,13.500000,13.550000,13.150000,13.430000,10.641013,45594000\\n2016-05-04,13.290000,13.380000,13.140000,13.310000,10.545932,28895000\\n2016-05-05,13.350000,13.430000,13.220000,13.320000,10.553856,23838100\\n2016-05-06,13.260000,13.480000,13.240000,13.440000,10.648936,23284500\\n2016-05-09,13.420000,13.500000,13.280000,13.320000,10.553856,21602000\\n2016-05-10,13.380000,13.520000,13.380000,13.490000,10.688551,23583400\\n2016-05-11,13.440000,13.540000,13.300000,13.320000,10.553856,20229600\\n2016-05-12,13.400000,13.470000,13.170000,13.350000,10.577626,24784300\\n2016-05-13,13.340000,13.520000,13.170000,13.220000,10.474621,27481900\\n2016-05-16,13.220000,13.380000,13.210000,13.320000,10.553856,21262700\\n2016-05-17,13.140000,13.310000,13.070000,13.140000,10.411237,34165300\\n2016-05-18,13.120000,13.340000,13.050000,13.160000,10.427083,23509700\\n2016-05-19,13.100000,13.200000,13.020000,13.090000,10.371621,24117800\\n2016-05-20,13.150000,13.260000,13.130000,13.190000,10.450854,19465000\\n2016-05-23,13.140000,13.200000,13.110000,13.130000,10.403312,16234300\\n2016-05-24,13.160000,13.300000,13.160000,13.290000,10.530085,19721600\\n2016-05-25,13.330000,13.600000,13.330000,13.520000,10.712322,26188300\\n2016-05-26,13.590000,13.680000,13.370000,13.460000,10.664783,18369900\\n2016-05-27,13.480000,13.540000,13.400000,13.450000,10.656859,17263300\\n2016-05-31,13.490000,13.560000,13.400000,13.490000,10.688551,26096000\\n2016-06-01,13.430000,13.440000,12.970000,13.110000,10.387467,58219600\\n2016-06-02,13.090000,13.320000,13.050000,13.210000,10.466700,41614600\\n2016-06-03,13.140000,13.140000,12.900000,13.040000,10.332001,39850700\\n2016-06-06,13.080000,13.210000,13.040000,13.180000,10.442928,25588700\\n2016-06-07,13.230000,13.450000,13.180000,13.380000,10.601395,27656900\\n2016-06-08,13.450000,13.490000,13.350000,13.360000,10.585547,18084800\\n2016-06-09,13.260000,13.300000,13.140000,13.260000,10.506316,19873800\\n2016-06-10,13.170000,13.250000,13.050000,13.100000,10.379541,27382700\\n2016-06-13,13.070000,13.130000,12.960000,12.980000,10.284462,20745800\\n2016-06-14,12.990000,13.070000,12.760000,12.840000,10.173536,30546000\\n2016-06-15,12.910000,13.160000,12.880000,13.010000,10.308233,25829700\\n2016-06-16,12.930000,13.140000,12.850000,13.120000,10.395389,26581200\\n2016-06-17,13.160000,13.400000,13.150000,13.260000,10.506316,37364900\\n2016-06-20,13.390000,13.550000,13.390000,13.420000,10.633089,29666700\\n2016-06-21,13.440000,13.440000,13.180000,13.220000,10.474621,36721800\\n2016-06-22,13.230000,13.310000,13.150000,13.180000,10.442928,20666600\\n2016-06-23,13.290000,13.410000,13.280000,13.400000,10.617241,24579700\\n2016-06-24,12.790000,12.910000,12.450000,12.520000,9.919990,96887300\\n2016-06-27,12.430000,12.430000,12.000000,12.160000,9.634751,52731800\\n2016-06-28,12.420000,12.440000,12.210000,12.390000,9.816988,40640400\\n2016-06-29,12.490000,12.580000,12.360000,12.550000,9.943758,31937900\\n2016-06-30,12.560000,12.570000,12.260000,12.570000,9.959605,44983800\\n2016-07-01,12.880000,12.890000,12.690000,12.720000,10.078458,45067800\\n2016-07-05,12.570000,12.590000,12.310000,12.400000,9.824910,30243300\\n2016-07-06,12.320000,12.580000,12.210000,12.570000,9.959605,35091200\\n2016-07-07,12.570000,12.840000,12.570000,12.750000,10.102226,33473000\\n2016-07-08,12.890000,13.170000,12.890000,13.090000,10.371621,45945200\\n2016-07-11,13.170000,13.330000,13.130000,13.270000,10.514240,28626300\\n2016-07-12,13.380000,13.540000,13.380000,13.450000,10.656859,31320100\\n2016-07-13,13.490000,13.510000,13.310000,13.480000,10.680629,26779800\\n2016-07-14,13.570000,13.700000,13.550000,13.590000,10.767784,31803000\\n2016-07-15,13.630000,13.670000,13.530000,13.570000,10.751938,19546300\\n2016-07-18,13.560000,13.680000,13.420000,13.650000,10.815324,22545800\\n2016-07-19,13.560000,13.720000,13.500000,13.650000,10.815324,26183400\\n2016-07-20,13.610000,13.780000,13.560000,13.740000,10.886634,22588900\\n2016-07-21,13.870000,14.040000,13.860000,13.920000,11.029253,40574400\\n2016-07-22,13.920000,13.930000,13.710000,13.840000,10.965868,25134100\\n2016-07-25,13.860000,13.950000,13.760000,13.830000,10.957943,26248500\\n2016-07-26,13.730000,13.880000,13.690000,13.860000,11.102126,28467200\\n2016-07-27,13.860000,13.990000,13.750000,13.840000,11.086108,34625500\\n2016-07-28,12.780000,12.860000,12.450000,12.710000,10.180954,142168600\\n2016-07-29,12.610000,12.880000,12.600000,12.660000,10.140903,59754100\\n2016-08-01,12.610000,12.620000,12.400000,12.480000,9.996720,51963100\\n2016-08-02,12.350000,12.360000,11.900000,11.940000,9.564171,101624900\\n2016-08-03,12.020000,12.200000,11.940000,12.130000,9.716364,47323300\\n2016-08-04,12.120000,12.230000,12.050000,12.080000,9.676314,38443200\\n2016-08-05,12.160000,12.260000,12.160000,12.190000,9.764425,31219500\\n2016-08-08,12.220000,12.330000,12.150000,12.180000,9.756416,33310600\\n2016-08-09,12.160000,12.380000,12.150000,12.310000,9.860549,30097800\\n2016-08-10,12.300000,12.360000,12.230000,12.250000,9.812488,24555800\\n2016-08-11,12.310000,12.370000,12.260000,12.310000,9.860549,24987300\\n2016-08-12,12.290000,12.370000,12.250000,12.330000,9.876566,18816900\\n2016-08-15,12.370000,12.440000,12.360000,12.430000,9.956671,16371100\\n2016-08-16,12.350000,12.430000,12.330000,12.340000,9.884578,20450100\\n2016-08-17,12.330000,12.390000,12.230000,12.390000,9.924631,23434500\\n2016-08-18,12.330000,12.360000,12.270000,12.330000,9.876566,23629500\\n2016-08-19,12.300000,12.410000,12.250000,12.390000,9.924631,21891400\\n2016-08-22,12.350000,12.380000,12.290000,12.360000,9.900598,22458400\\n2016-08-23,12.400000,12.430000,12.330000,12.420000,9.948660,34634100\\n2016-08-24,12.410000,12.440000,12.280000,12.300000,9.852537,19999600\\n2016-08-25,12.300000,12.520000,12.210000,12.470000,9.988709,44713700\\n2016-08-26,12.470000,12.550000,12.340000,12.380000,9.916618,22645900\\n2016-08-29,12.380000,12.500000,12.380000,12.470000,9.988709,22243200\\n2016-08-30,12.470000,12.560000,12.430000,12.550000,10.052792,26040400\\n2016-08-31,12.480000,12.610000,12.480000,12.600000,10.092843,26030600\\n2016-09-01,12.660000,12.720000,12.350000,12.440000,9.964679,40510400\\n2016-09-02,12.530000,12.570000,12.460000,12.500000,10.012741,21079800\\n2016-09-06,12.490000,12.670000,12.430000,12.670000,10.148913,36098900\\n2016-09-07,12.620000,12.750000,12.620000,12.700000,10.172944,22879100\\n2016-09-08,12.500000,12.750000,12.500000,12.730000,10.196975,34017900\\n2016-09-09,12.610000,12.690000,12.380000,12.380000,9.916618,35733600\\n2016-09-12,12.320000,12.770000,12.280000,12.700000,10.172944,42690200\\n2016-09-13,12.530000,12.680000,12.330000,12.380000,9.916618,56549100\\n2016-09-14,12.180000,12.310000,12.110000,12.140000,9.724374,62450600\\n2016-09-15,12.140000,12.180000,12.060000,12.110000,9.700345,57334800\\n2016-09-16,12.050000,12.130000,12.010000,12.110000,9.700345,26271600\\n2016-09-19,12.120000,12.330000,12.060000,12.110000,9.700345,41175500\\n2016-09-20,12.090000,12.190000,11.960000,12.000000,9.612230,37820800\\n2016-09-21,12.080000,12.110000,12.010000,12.090000,9.684322,32934600\\n2016-09-22,12.170000,12.290000,12.160000,12.180000,9.756416,36136200\\n2016-09-23,12.120000,12.220000,12.120000,12.170000,9.748405,18993500\\n2016-09-26,12.120000,12.120000,12.000000,12.010000,9.620242,26758600\\n2016-09-27,12.020000,12.090000,11.930000,11.980000,9.596210,28965800\\n2016-09-28,12.020000,12.090000,11.960000,12.090000,9.684322,29341500\\n2016-09-29,12.030000,12.120000,11.950000,11.970000,9.588202,23397400\\n2016-09-30,12.000000,12.140000,11.990000,12.070000,9.668303,34903800\\n2016-10-03,12.060000,12.150000,12.020000,12.100000,9.692333,20683100\\n2016-10-04,12.110000,12.250000,12.090000,12.200000,9.772436,23948700\\n2016-10-05,12.220000,12.530000,12.220000,12.480000,9.996720,55529100\\n2016-10-06,12.430000,12.510000,12.330000,12.390000,9.924631,25880900\\n2016-10-07,12.390000,12.420000,12.200000,12.290000,9.844527,22093200\\n2016-10-10,12.350000,12.380000,12.100000,12.120000,9.708355,24951400\\n2016-10-11,12.170000,12.170000,11.910000,11.990000,9.604218,40053500\\n2016-10-12,12.000000,12.010000,11.940000,11.960000,9.580191,20627000\\n2016-10-13,11.910000,11.910000,11.690000,11.910000,9.540137,39904200\\n2016-10-14,11.960000,12.000000,11.890000,11.910000,9.540137,25775700\\n2016-10-17,11.910000,12.000000,11.880000,11.880000,9.516109,19875000\\n2016-10-18,11.920000,11.930000,11.710000,11.890000,9.524118,39911300\\n2016-10-19,11.890000,12.050000,11.880000,12.010000,9.620242,26094000\\n2016-10-20,12.020000,12.030000,11.900000,11.970000,9.588202,18116000\\n2016-10-21,11.930000,12.040000,11.850000,12.020000,9.628253,24364200\\n2016-10-24,12.060000,12.200000,12.060000,12.190000,9.764425,33733600\\n2016-10-25,12.050000,12.100000,11.760000,11.850000,9.610335,42486000\\n2016-10-26,11.800000,11.930000,11.760000,11.880000,9.634665,36219900\\n2016-10-27,11.810000,11.830000,11.600000,11.740000,9.521126,48402000\\n2016-10-28,11.740000,11.850000,11.630000,11.720000,9.504906,37142400\\n2016-10-31,11.750000,11.810000,11.690000,11.740000,9.521126,31898400\\n2016-11-01,11.780000,11.840000,11.500000,11.610000,9.415695,35613600\\n2016-11-02,11.510000,11.560000,11.360000,11.400000,9.245386,36229400\\n2016-11-03,11.390000,11.460000,11.270000,11.350000,9.204837,38651500\\n2016-11-04,11.310000,11.500000,11.300000,11.340000,9.196728,24752400\\n2016-11-07,11.520000,11.620000,11.390000,11.580000,9.391364,25120700\\n2016-11-08,11.500000,11.510000,11.350000,11.480000,9.310266,28497900\\n2016-11-09,11.150000,11.630000,11.070000,11.580000,9.391364,60625700\\n2016-11-10,11.580000,11.980000,11.580000,11.940000,9.683326,52756500\\n2016-11-11,11.880000,12.400000,11.840000,12.280000,9.959064,79259300\\n2016-11-14,12.270000,12.500000,12.020000,12.060000,9.780645,56109900\\n2016-11-15,12.060000,12.140000,11.950000,12.040000,9.764426,31498500\\n2016-11-16,12.000000,12.050000,11.920000,12.000000,9.731984,25195500\\n2016-11-17,11.900000,11.960000,11.780000,11.870000,9.626555,38502500\\n2016-11-18,11.870000,11.900000,11.730000,11.760000,9.537347,30662000\\n2016-11-21,11.770000,11.900000,11.770000,11.790000,9.561676,19508600\\n2016-11-22,11.760000,11.910000,11.730000,11.890000,9.642775,24274700\\n2016-11-23,11.900000,12.000000,11.850000,11.900000,9.650886,22414000\\n2016-11-25,11.950000,12.060000,11.930000,12.040000,9.764426,11439600\\n2016-11-28,12.020000,12.050000,11.890000,11.920000,9.667105,24407200\\n2016-11-29,11.930000,12.000000,11.870000,11.920000,9.667105,23690800\\n2016-11-30,11.970000,12.140000,11.920000,11.960000,9.699545,47646200\\n2016-12-01,12.230000,12.800000,12.180000,12.430000,10.080715,95143600\\n2016-12-02,12.580000,12.580000,12.150000,12.240000,9.926624,38689800\\n2016-12-05,12.310000,12.500000,12.290000,12.440000,10.088823,36220000\\n2016-12-06,12.400000,12.590000,12.370000,12.560000,10.186145,23923900\\n2016-12-07,12.590000,13.150000,12.540000,13.060000,10.591645,58600400\\n2016-12-08,13.070000,13.150000,12.970000,13.030000,10.567313,41459500\\n2016-12-09,13.000000,13.200000,12.910000,13.170000,10.680854,45256100\\n2016-12-12,13.080000,13.100000,12.810000,12.820000,10.397003,39596800\\n2016-12-13,12.840000,12.880000,12.750000,12.770000,10.356455,39570500\\n2016-12-14,12.650000,12.790000,12.500000,12.530000,10.161815,42820100\\n2016-12-15,12.540000,12.720000,12.520000,12.580000,10.202363,23774800\\n2016-12-16,12.660000,12.700000,12.560000,12.630000,10.242913,28354900\\n2016-12-19,12.590000,12.800000,12.590000,12.660000,10.267243,22830000\\n2016-12-20,12.700000,12.820000,12.680000,12.780000,10.364563,17834000\\n2016-12-21,12.730000,12.770000,12.640000,12.640000,10.251024,18117100\\n2016-12-22,12.630000,12.640000,12.400000,12.400000,10.056384,27821100\\n2016-12-23,12.430000,12.460000,12.360000,12.460000,10.105044,15621200\\n2016-12-27,12.430000,12.510000,12.360000,12.390000,10.048276,19467400\\n2016-12-28,12.370000,12.450000,12.220000,12.250000,9.934735,26875400\\n2016-12-29,12.250000,12.310000,12.220000,12.230000,9.918513,19819100\\n2016-12-30,12.240000,12.280000,12.080000,12.130000,9.837415,27405700\\n2017-01-03,12.200000,12.600000,12.130000,12.590000,10.210474,40510800\\n2017-01-04,12.770000,13.270000,12.740000,13.170000,10.680854,77638100\\n2017-01-05,13.210000,13.220000,12.630000,12.770000,10.356455,75628400\\n2017-01-06,12.800000,12.840000,12.640000,12.760000,10.348345,40315900\\n2017-01-09,12.790000,12.860000,12.630000,12.630000,10.242913,39438400\\n2017-01-10,12.700000,13.020000,12.660000,12.850000,10.421334,58703500\\n2017-01-11,12.710000,12.720000,12.510000,12.670000,10.275352,49718700\\n2017-01-12,12.660000,12.680000,12.350000,12.590000,10.210474,36493300\\n2017-01-13,12.620000,12.670000,12.500000,12.630000,10.242913,29197100\\n2017-01-17,12.650000,12.730000,12.540000,12.610000,10.226694,49069500\\n2017-01-18,12.430000,12.450000,12.300000,12.410000,10.226693,33830800\\n2017-01-19,12.400000,12.560000,12.340000,12.430000,10.243176,30135600\\n2017-01-20,12.450000,12.480000,12.310000,12.360000,10.185490,29270000\\n2017-01-23,12.350000,12.380000,12.220000,12.310000,10.144288,31670700\\n2017-01-24,12.350000,12.610000,12.340000,12.610000,10.391509,34625200\\n2017-01-25,12.710000,12.800000,12.640000,12.790000,10.539842,46747800\\n2017-01-26,12.650000,12.680000,12.350000,12.370000,10.193733,55672800\\n2017-01-27,12.480000,12.540000,12.380000,12.490000,10.292621,34613900\\n2017-01-30,12.460000,12.460000,12.280000,12.370000,10.193733,39254200\\n2017-01-31,12.310000,12.390000,12.190000,12.360000,10.185490,46974500\\n2017-02-01,12.450000,12.580000,12.220000,12.320000,10.152528,44396800\\n2017-02-02,12.300000,12.370000,12.230000,12.280000,10.119566,29035400\\n2017-02-03,12.420000,12.620000,12.390000,12.560000,10.350305,38245300\\n2017-02-06,12.550000,12.620000,12.460000,12.520000,10.317342,26916800\\n2017-02-07,12.500000,12.520000,12.310000,12.340000,10.169009,32914400\\n2017-02-08,12.340000,12.450000,12.270000,12.380000,10.201971,26411400\\n2017-02-09,12.380000,12.470000,12.350000,12.380000,10.201971,32924600\\n2017-02-10,12.440000,12.510000,12.370000,12.510000,10.309101,32996500\\n2017-02-13,12.540000,12.620000,12.480000,12.560000,10.350305,24474000\\n2017-02-14,12.640000,12.700000,12.590000,12.650000,10.424471,28355700\\n2017-02-15,12.620000,12.640000,12.550000,12.630000,10.407990,25114400\\n2017-02-16,12.610000,12.640000,12.480000,12.540000,10.333823,22896500\\n2017-02-17,12.500000,12.580000,12.420000,12.580000,10.366785,26407400\\n2017-02-21,12.610000,12.720000,12.610000,12.690000,10.457432,29156200\\n2017-02-22,12.660000,12.770000,12.650000,12.670000,10.440953,24787500\\n2017-02-23,12.700000,12.720000,12.550000,12.560000,10.350305,22520600\\n2017-02-24,12.510000,12.510000,12.380000,12.470000,10.276137,40817300\\n2017-02-27,12.490000,12.680000,12.430000,12.660000,10.432710,41713100\\n2017-02-28,12.630000,12.660000,12.450000,12.530000,10.325583,36089800\\n2017-03-01,12.660000,12.750000,12.650000,12.690000,10.457432,36178600\\n2017-03-02,12.720000,12.750000,12.580000,12.660000,10.432710,33245100\\n2017-03-03,12.660000,12.710000,12.530000,12.650000,10.424471,30429200\\n2017-03-06,12.580000,12.600000,12.500000,12.520000,10.317342,28753600\\n2017-03-07,12.510000,12.530000,12.420000,12.460000,10.267898,25906900\\n2017-03-08,12.500000,12.640000,12.460000,12.530000,10.325583,27327800\\n2017-03-09,12.540000,12.540000,12.400000,12.500000,10.300861,29149100\\n2017-03-10,12.550000,12.630000,12.470000,12.530000,10.325583,34866100\\n2017-03-13,12.560000,12.630000,12.500000,12.540000,10.333823,22625800\\n2017-03-14,12.510000,12.560000,12.450000,12.550000,10.342064,26956700\\n2017-03-15,12.560000,12.650000,12.520000,12.650000,10.424471,34296200\\n2017-03-16,12.650000,12.720000,12.590000,12.700000,10.465673,28954700\\n2017-03-17,12.740000,12.740000,12.450000,12.480000,10.284378,54929100\\n2017-03-20,12.480000,12.490000,12.250000,12.280000,10.119566,45329700\\n2017-03-21,12.300000,12.320000,11.700000,11.720000,9.658089,101559900\\n2017-03-22,11.720000,11.830000,11.620000,11.770000,9.699290,71107900\\n2017-03-23,11.570000,11.750000,11.500000,11.670000,9.616884,71209300\\n2017-03-24,11.660000,11.770000,11.550000,11.620000,9.575682,43772400\\n2017-03-27,11.510000,11.550000,11.410000,11.460000,9.443830,57713400\\n2017-03-28,11.510000,11.800000,11.480000,11.650000,9.600401,57662800\\n2017-03-29,11.730000,11.760000,11.640000,11.680000,9.625124,35795700\\n2017-03-30,11.670000,11.740000,11.610000,11.680000,9.625124,28008200\\n2017-03-31,11.660000,11.680000,11.600000,11.640000,9.592162,26717500\\n2017-04-03,11.640000,11.640000,11.280000,11.440000,9.427347,65671100\\n2017-04-04,11.380000,11.480000,11.280000,11.370000,9.369664,40068200\\n2017-04-05,11.480000,11.500000,11.250000,11.260000,9.279016,43316100\\n2017-04-06,11.270000,11.360000,11.220000,11.270000,9.287257,36165300\\n2017-04-07,11.260000,11.310000,11.210000,11.230000,9.254293,28874900\\n2017-04-10,11.260000,11.350000,11.240000,11.250000,9.270775,25857100\\n2017-04-11,11.270000,11.280000,11.170000,11.280000,9.295497,36366300\\n2017-04-12,11.270000,11.300000,11.200000,11.230000,9.254293,56588400\\n2017-04-13,11.220000,11.250000,11.110000,11.110000,9.155404,32789900\\n2017-04-17,11.220000,11.300000,11.140000,11.280000,9.295497,44731700\\n2017-04-18,11.150000,11.180000,11.080000,11.140000,9.303848,35660000\\n2017-04-19,11.190000,11.280000,11.170000,11.190000,9.345608,37524400\\n2017-04-20,11.250000,11.500000,11.240000,11.470000,9.579455,49990200\\n2017-04-21,11.460000,11.480000,11.320000,11.340000,9.470884,26076200\\n2017-04-24,11.480000,11.500000,11.360000,11.430000,9.546050,41071300\\n2017-04-25,11.470000,11.500000,11.430000,11.480000,9.587808,35862500\\n2017-04-26,11.470000,11.700000,11.450000,11.600000,9.688029,51685800\\n2017-04-27,11.660000,11.680000,11.340000,11.470000,9.579455,50203700\\n2017-04-28,11.510000,11.510000,11.400000,11.470000,9.579455,41415100\\n2017-05-01,11.490000,11.540000,11.400000,11.420000,9.537698,32118400\\n2017-05-02,11.300000,11.370000,10.900000,10.920000,9.120109,99514700\\n2017-05-03,10.920000,11.090000,10.910000,11.070000,9.245387,57290600\\n2017-05-04,11.090000,11.110000,10.960000,11.000000,9.186925,34639800\\n2017-05-05,11.010000,11.160000,10.980000,11.140000,9.303848,28926000\\n2017-05-08,11.180000,11.240000,11.090000,11.130000,9.295495,35561800\\n2017-05-09,11.140000,11.260000,11.100000,11.160000,9.320551,44142900\\n2017-05-10,11.160000,11.200000,11.030000,11.040000,9.220332,34989300\\n2017-05-11,11.040000,11.070000,10.970000,11.010000,9.195276,29276300\\n2017-05-12,11.000000,11.030000,10.900000,10.920000,9.120109,34264300\\n2017-05-15,10.960000,11.030000,10.920000,10.940000,9.136812,27359500\\n2017-05-16,11.060000,11.070000,10.900000,10.940000,9.136812,42130200\\n2017-05-17,10.940000,10.950000,10.670000,10.760000,8.986482,54670100\\n2017-05-18,10.730000,10.820000,10.700000,10.790000,9.011539,37890800\\n2017-05-19,10.810000,10.940000,10.790000,10.870000,9.078351,32431700\\n2017-05-22,11.110000,11.130000,10.980000,11.100000,9.270440,73335000\\n2017-05-23,11.160000,11.170000,10.970000,11.050000,9.228683,40816600\\n2017-05-24,11.060000,11.060000,10.870000,10.960000,9.153517,46638800\\n2017-05-25,10.960000,10.970000,10.760000,10.860000,9.069999,46269200\\n2017-05-26,10.850000,10.950000,10.810000,10.930000,9.128463,28176500\\n2017-05-30,11.000000,11.120000,10.990000,11.080000,9.253737,36082600\\n2017-05-31,11.120000,11.130000,11.000000,11.120000,9.287145,36398700\\n2017-06-01,11.250000,11.540000,11.100000,11.410000,9.529346,76707200\\n2017-06-02,11.420000,11.430000,11.240000,11.350000,9.479235,45925000\\n2017-06-05,11.360000,11.360000,11.230000,11.250000,9.395717,42558600\\n2017-06-06,11.190000,11.200000,11.050000,11.120000,9.287145,44543700\\n2017-06-07,11.160000,11.190000,11.020000,11.070000,9.245387,37344200\\n2017-06-08,11.070000,11.100000,10.910000,11.100000,9.270440,40757400\\n2017-06-09,11.090000,11.150000,11.010000,11.130000,9.295495,30285900\\n2017-06-12,11.130000,11.360000,11.130000,11.280000,9.420772,38473100\\n2017-06-13,11.320000,11.350000,11.150000,11.270000,9.412421,29889300\\n2017-06-14,11.270000,11.290000,11.060000,11.220000,9.370662,44367900\\n2017-06-15,11.150000,11.290000,11.140000,11.240000,9.387364,28431600\\n2017-06-16,11.240000,11.240000,11.070000,11.220000,9.370662,54035400\\n2017-06-19,11.200000,11.280000,11.180000,11.240000,9.387364,30540900\\n2017-06-20,11.210000,11.220000,11.090000,11.120000,9.287145,31971500\\n2017-06-21,11.150000,11.150000,11.000000,11.040000,9.220332,37002500\\n2017-06-22,11.020000,11.180000,11.000000,11.130000,9.295495,26972800\\n2017-06-23,11.100000,11.130000,11.000000,11.040000,9.220332,45190200\\n2017-06-26,11.060000,11.200000,11.060000,11.180000,9.337255,31316800\\n2017-06-27,11.170000,11.200000,11.060000,11.080000,9.253737,28491600\\n2017-06-28,11.110000,11.170000,11.070000,11.090000,9.262090,31820000\\n2017-06-29,11.130000,11.200000,11.070000,11.170000,9.328903,32917000\\n2017-06-30,11.180000,11.280000,11.160000,11.190000,9.345608,41075000\\n2017-07-03,11.360000,11.690000,11.250000,11.560000,9.654622,43949600\\n2017-07-05,11.510000,11.560000,11.260000,11.300000,9.437476,39412200\\n2017-07-06,11.290000,11.360000,11.170000,11.180000,9.337255,31936000\\n2017-07-07,11.210000,11.280000,11.160000,11.260000,9.404070,20871800\\n2017-07-10,11.240000,11.350000,11.230000,11.340000,9.470884,18881300\\n2017-07-11,11.310000,11.430000,11.300000,11.380000,9.504290,25914300\\n2017-07-12,11.410000,11.620000,11.400000,11.470000,9.579455,33088200\\n2017-07-13,11.460000,11.690000,11.450000,11.600000,9.688029,33650800\\n2017-07-14,11.650000,11.730000,11.600000,11.680000,9.754843,39792200\\n2017-07-17,11.710000,11.750000,11.650000,11.740000,9.804952,24394200\\n2017-07-18,11.720000,11.750000,11.670000,11.750000,9.813305,24625200\\n2017-07-19,11.760000,11.830000,11.740000,11.830000,9.880118,26225900\\n2017-07-20,11.690000,11.780000,11.660000,11.700000,9.897037,30315100\\n2017-07-21,11.590000,11.620000,11.460000,11.530000,9.753235,27630600\\n2017-07-24,11.510000,11.550000,11.270000,11.290000,9.550219,48123400\\n2017-07-25,11.300000,11.380000,11.220000,11.270000,9.533301,52854300\\n2017-07-26,11.140000,11.160000,10.950000,11.060000,9.355660,72271700\\n2017-07-27,11.080000,11.200000,11.030000,11.180000,9.457170,38687500\\n2017-07-28,11.150000,11.220000,11.060000,11.170000,9.448710,24864100\\n2017-07-31,11.160000,11.230000,11.130000,11.220000,9.491005,39548600\\n2017-08-01,11.110000,11.150000,10.870000,10.950000,9.262611,65140100\\n2017-08-02,10.980000,11.030000,10.930000,11.000000,9.304907,30890500\\n2017-08-03,11.010000,11.050000,10.920000,10.930000,9.245695,20309300\\n2017-08-04,10.900000,10.990000,10.780000,10.950000,9.262611,29267600\\n2017-08-07,10.940000,10.980000,10.900000,10.920000,9.237234,35013000\\n2017-08-08,10.950000,11.000000,10.880000,10.890000,9.211857,26322100\\n2017-08-09,10.880000,10.950000,10.830000,10.920000,9.237234,32155900\\n2017-08-10,10.880000,10.910000,10.770000,10.770000,9.110350,31903800\\n2017-08-11,10.790000,10.840000,10.760000,10.770000,9.110350,32300100\\n2017-08-14,10.820000,10.950000,10.790000,10.910000,9.228776,26413500\\n2017-08-15,10.920000,11.000000,10.840000,10.840000,9.169563,29266300\\n2017-08-16,10.860000,10.900000,10.780000,10.800000,9.135725,28316300\\n2017-08-17,10.790000,10.800000,10.600000,10.640000,9.000383,35518800\\n2017-08-18,10.620000,10.630000,10.470000,10.560000,8.932711,43998700\\n2017-08-21,10.530000,10.660000,10.520000,10.570000,8.941170,30152500\\n2017-08-22,10.610000,10.730000,10.610000,10.650000,9.008841,28676100\\n2017-08-23,10.610000,10.780000,10.590000,10.710000,9.059595,35405800\\n2017-08-24,10.750000,10.800000,10.690000,10.710000,9.059595,33584400\\n2017-08-25,10.770000,10.880000,10.760000,10.820000,9.152644,35926800\\n2017-08-28,10.860000,10.880000,10.730000,10.790000,9.127268,22307400\\n2017-08-29,10.750000,10.890000,10.730000,10.840000,9.169563,29807300\\n2017-08-30,10.820000,10.940000,10.770000,10.940000,9.254152,23629300\\n2017-08-31,10.970000,11.200000,10.950000,11.030000,9.330282,54208900\\n2017-09-01,11.180000,11.430000,11.140000,11.350000,9.600972,64560300\\n2017-09-05,11.360000,11.390000,11.240000,11.360000,9.609429,44000200\\n2017-09-06,11.390000,11.530000,11.390000,11.500000,9.727858,43279000\\n2017-09-07,11.520000,11.520000,11.330000,11.400000,9.643266,30271000\\n2017-09-08,11.340000,11.390000,11.290000,11.360000,9.609429,26633900\\n2017-09-11,11.400000,11.450000,11.380000,11.410000,9.651727,43375000\\n2017-09-12,11.430000,11.670000,11.390000,11.590000,9.803988,41386700\\n2017-09-13,11.600000,11.630000,11.520000,11.620000,9.829365,23302200\\n2017-09-14,11.600000,11.680000,11.480000,11.560000,9.778610,31696300\\n2017-09-15,11.540000,11.630000,11.490000,11.620000,9.829365,30865500\\n2017-09-18,11.630000,11.730000,11.600000,11.630000,9.837823,25132400\\n2017-09-19,11.630000,11.740000,11.620000,11.720000,9.913956,26392900\\n2017-09-20,11.680000,11.800000,11.640000,11.710000,9.905496,26705300\\n2017-09-21,11.710000,11.820000,11.690000,11.720000,9.913956,40319400\\n2017-09-22,11.740000,11.870000,11.720000,11.840000,10.015463,30196500\\n2017-09-25,11.880000,12.060000,11.840000,11.940000,10.100053,40766000\\n2017-09-26,11.950000,12.000000,11.900000,11.930000,10.091595,30646700\\n2017-09-27,11.980000,12.020000,11.860000,11.950000,10.108511,28412200\\n2017-09-28,11.950000,11.990000,11.900000,11.960000,10.116972,23105700\\n2017-09-29,11.970000,12.020000,11.920000,11.970000,10.125430,31227500\\n2017-10-02,12.000000,12.090000,11.970000,12.090000,10.226938,36020000\\n2017-10-03,12.320000,12.430000,12.220000,12.340000,10.438414,65641700\\n2017-10-04,12.330000,12.460000,12.280000,12.300000,10.404576,52909800\\n2017-10-05,12.340000,12.360000,12.150000,12.250000,10.362282,48145800\\n2017-10-06,12.200000,12.330000,12.190000,12.310000,10.413036,35091800\\n2017-10-09,12.330000,12.410000,12.250000,12.340000,10.438414,28924800\\n2017-10-10,12.340000,12.420000,12.250000,12.390000,10.480706,40586200\\n2017-10-11,12.380000,12.430000,12.310000,12.380000,10.472249,34953400\\n2017-10-12,12.300000,12.320000,12.110000,12.120000,10.252316,45924400\\n2017-10-13,12.060000,12.170000,11.870000,12.050000,10.193102,44597300\\n2017-10-16,11.990000,12.150000,11.960000,12.120000,10.252316,32349700\\n2017-10-17,12.130000,12.310000,12.120000,12.270000,10.379202,55273200\\n2017-10-18,12.280000,12.350000,12.170000,12.190000,10.311529,30783700\\n2017-10-19,12.140000,12.250000,12.050000,12.230000,10.345363,29678200\\n2017-10-20,12.120000,12.140000,12.000000,12.100000,10.362493,28171700\\n2017-10-23,12.110000,12.190000,12.040000,12.040000,10.311109,21504800\\n2017-10-24,12.110000,12.260000,12.090000,12.190000,10.439569,34651200\\n2017-10-25,12.150000,12.150000,11.970000,12.040000,10.311109,47674800\\n2017-10-26,12.200000,12.340000,12.060000,12.270000,10.508082,49003100\\n2017-10-27,12.230000,12.240000,12.010000,12.060000,10.328236,33925400\\n2017-10-30,12.010000,12.150000,11.950000,12.100000,10.362493,36457400\\n2017-10-31,12.150000,12.300000,12.130000,12.270000,10.508082,42010200\\n2017-11-01,12.400000,12.470000,12.280000,12.350000,10.576594,43495800\\n2017-11-02,12.330000,12.430000,12.260000,12.420000,10.636542,40923400\\n2017-11-03,12.410000,12.460000,12.320000,12.360000,10.585156,33220300\\n2017-11-06,12.360000,12.430000,12.300000,12.330000,10.559464,20178500\\n2017-11-07,12.350000,12.380000,12.110000,12.160000,10.413877,41536300\\n2017-11-08,12.140000,12.160000,12.010000,12.060000,10.328236,34127500\\n2017-11-09,12.010000,12.050000,11.930000,12.040000,10.311109,26257300\\n2017-11-10,12.000000,12.090000,11.980000,12.010000,10.285417,35298400\\n2017-11-13,12.010000,12.220000,11.970000,12.160000,10.413877,30415900\\n2017-11-14,12.100000,12.160000,11.990000,12.020000,10.293981,25893400\\n2017-11-15,11.970000,12.030000,11.870000,12.000000,10.276852,28441300\\n2017-11-16,12.000000,12.050000,11.930000,12.040000,10.311109,28269000\\n2017-11-17,12.020000,12.060000,11.990000,12.010000,10.285417,31117700\\n2017-11-20,12.030000,12.150000,12.020000,12.130000,10.388184,32352000\\n2017-11-21,12.140000,12.230000,12.120000,12.120000,10.379621,28510300\\n2017-11-22,12.110000,12.150000,12.050000,12.070000,10.336800,36184000\\n2017-11-24,12.100000,12.150000,12.030000,12.100000,10.362493,9549600\\n2017-11-27,12.090000,12.190000,12.060000,12.110000,10.371056,28525200\\n2017-11-28,12.150000,12.240000,12.080000,12.210000,10.456696,33199300\\n2017-11-29,12.240000,12.570000,12.230000,12.560000,10.756439,64866000\\n2017-11-30,12.530000,12.650000,12.420000,12.520000,10.722182,49224200\\n2017-12-01,12.620000,12.700000,12.350000,12.580000,10.773566,52458700\\n2017-12-04,12.650000,12.810000,12.590000,12.630000,10.816386,39558900\\n2017-12-05,12.420000,12.620000,12.400000,12.430000,10.645106,45527200\\n2017-12-06,12.370000,12.430000,12.280000,12.380000,10.602285,28453800\\n2017-12-07,12.580000,12.590000,12.330000,12.530000,10.730746,25417100\\n2017-12-08,12.530000,12.610000,12.430000,12.610000,10.799259,21981900\\n2017-12-11,12.570000,12.630000,12.510000,12.580000,10.773566,44194600\\n2017-12-12,12.560000,12.640000,12.510000,12.600000,10.790694,54370600\\n2017-12-13,12.610000,12.730000,12.590000,12.630000,10.816386,31859000\\n2017-12-14,12.650000,12.690000,12.410000,12.460000,10.670798,37074000\\n2017-12-15,12.510000,12.660000,12.500000,12.580000,10.773566,48655500\\n2017-12-18,12.660000,12.750000,12.610000,12.660000,10.842077,25022700\\n2017-12-19,12.710000,12.780000,12.660000,12.690000,10.867771,23056900\\n2017-12-20,12.720000,12.750000,12.650000,12.720000,10.893464,18989400\\n2017-12-21,12.740000,12.770000,12.630000,12.630000,10.816386,21004700\\n2017-12-22,12.660000,12.660000,12.560000,12.580000,10.773566,17876200\\n2017-12-26,12.570000,12.650000,12.550000,12.600000,10.790694,11664600\\n2017-12-27,12.570000,12.580000,12.450000,12.500000,10.705053,17005600\\n2017-12-28,12.480000,12.580000,12.470000,12.580000,10.773566,14793500\\n2017-12-29,12.580000,12.610000,12.490000,12.490000,10.696489,18362500\\n2018-01-02,12.520000,12.660000,12.500000,12.660000,10.842077,20773300\\n2018-01-03,12.680000,12.800000,12.670000,12.760000,10.927719,29765600\\n2018-01-04,12.780000,13.040000,12.770000,12.980000,11.116128,37478200\\n2018-01-05,13.060000,13.220000,13.040000,13.200000,11.304538,46121900\\n2018-01-08,13.210000,13.220000,13.110000,13.150000,11.261715,33828300\\n2018-01-09,13.180000,13.220000,13.080000,13.080000,11.201768,27924100\\n2018-01-10,13.060000,13.140000,12.960000,13.030000,11.158949,56517100\\n2018-01-11,13.020000,13.200000,13.000000,13.160000,11.270280,28342300\\n2018-01-12,13.100000,13.290000,13.100000,13.230000,11.330228,56979200\\n2018-01-16,13.310000,13.480000,13.010000,13.100000,11.218896,53961400\\n2018-01-17,12.580000,12.580000,12.100000,12.180000,10.431005,132412500\\n2018-01-18,12.180000,12.200000,12.020000,12.070000,10.336800,66541700\\n2018-01-19,12.120000,12.120000,11.910000,12.000000,10.276852,51303700\\n2018-01-22,12.020000,12.080000,11.900000,12.020000,10.293981,52851900\\n2018-01-23,12.030000,12.030000,11.900000,11.960000,10.242597,51831000\\n2018-01-24,12.000000,12.090000,11.920000,12.050000,10.319672,63300500\\n2018-01-25,11.930000,11.930000,11.440000,11.570000,9.908598,114886800\\n2018-01-26,11.590000,11.700000,11.500000,11.650000,9.977109,52496000\\n2018-01-29,11.420000,11.470000,11.110000,11.120000,9.630684,55114000\\n2018-01-30,11.090000,11.230000,11.050000,11.060000,9.578720,52068200\\n2018-01-31,11.090000,11.120000,10.900000,10.970000,9.500773,57644600\\n2018-02-01,10.950000,11.000000,10.850000,10.920000,9.457470,41352200\\n2018-02-02,10.880000,10.880000,10.620000,10.710000,9.275596,72312900\\n2018-02-05,10.780000,10.800000,10.240000,10.240000,8.868543,96757000\\n2018-02-06,10.270000,10.790000,10.190000,10.760000,9.318899,139938100\\n2018-02-07,10.750000,11.040000,10.700000,10.760000,9.318899,68041800\\n2018-02-08,10.790000,10.860000,10.420000,10.430000,9.033096,73990700\\n2018-02-09,10.570000,10.640000,10.240000,10.530000,9.119702,72103600\\n2018-02-12,10.670000,10.820000,10.540000,10.700000,9.266934,49068900\\n2018-02-13,10.630000,10.690000,10.530000,10.590000,9.171666,36884500\\n2018-02-14,10.550000,10.750000,10.500000,10.740000,9.301579,27844300\\n2018-02-15,10.800000,10.800000,10.640000,10.760000,9.318899,28208300\\n2018-02-16,10.700000,10.820000,10.520000,10.610000,9.188988,41041800\\n2018-02-20,10.580000,10.670000,10.550000,10.630000,9.206310,27617900\\n2018-02-21,10.650000,10.750000,10.590000,10.600000,9.180328,36037700\\n2018-02-22,10.600000,10.730000,10.560000,10.630000,9.206310,25409600\\n2018-02-23,10.670000,10.710000,10.620000,10.700000,9.266934,21786800\\n2018-02-26,10.740000,10.950000,10.700000,10.890000,9.431487,27157800\\n2018-02-27,10.930000,10.990000,10.600000,10.610000,9.188988,43502000\\n2018-02-28,10.680000,10.790000,10.570000,10.610000,9.188988,41321400\\n2018-03-01,10.650000,10.690000,10.200000,10.290000,8.911845,75841400\\n2018-03-02,10.240000,10.420000,10.140000,10.400000,9.007113,60491900\\n2018-03-05,10.310000,10.630000,10.300000,10.580000,9.163005,44021300\\n2018-03-06,10.650000,10.680000,10.470000,10.630000,9.206310,30978900\\n2018-03-07,10.510000,10.640000,10.430000,10.630000,9.206310,30046600\\n2018-03-08,10.650000,10.680000,10.480000,10.610000,9.188988,26948000\\n2018-03-09,10.630000,10.730000,10.570000,10.730000,9.292915,26684400\\n2018-03-12,10.690000,10.850000,10.680000,10.810000,9.362203,33800900\\n2018-03-13,10.840000,10.980000,10.730000,10.780000,9.336219,44456800\\n2018-03-14,11.250000,11.440000,11.010000,11.020000,9.544076,91985300\\n2018-03-15,11.050000,11.250000,10.950000,11.070000,9.587379,47645300\\n2018-03-16,11.120000,11.220000,11.060000,11.150000,9.656665,80684200\\n2018-03-19,11.150000,11.170000,10.870000,11.010000,9.535416,63122500\\n2018-03-20,11.050000,11.130000,10.970000,10.990000,9.518094,45612800\\n2018-03-21,11.000000,11.190000,10.930000,11.100000,9.613360,38551000\\n2018-03-22,11.000000,11.060000,10.730000,10.750000,9.310238,51280900\\n2018-03-23,10.790000,10.810000,10.510000,10.560000,9.145684,39950900\\n2018-03-26,10.740000,10.870000,10.680000,10.830000,9.379524,52325500\\n2018-03-27,10.850000,10.920000,10.720000,10.830000,9.379524,40677300\\n2018-03-28,10.830000,10.950000,10.730000,10.860000,9.405505,42263700\\n2018-03-29,10.930000,11.130000,10.920000,11.080000,9.596040,39864000\\n2018-04-02,11.060000,11.090000,10.700000,10.860000,9.405505,43598100\\n2018-04-03,11.010000,11.180000,10.900000,11.150000,9.656665,42523900\\n2018-04-04,10.870000,11.360000,10.800000,11.330000,9.812557,44834600\\n2018-04-05,11.340000,11.380000,11.230000,11.350000,9.829880,28755600\\n2018-04-06,11.280000,11.350000,11.070000,11.180000,9.682647,31920700\\n2018-04-09,11.250000,11.380000,11.200000,11.250000,9.743272,36462700\\n2018-04-10,11.440000,11.550000,11.410000,11.450000,9.916486,43144300\\n2018-04-11,11.380000,11.490000,11.300000,11.430000,9.899164,32979000\\n2018-04-12,11.500000,11.540000,11.250000,11.310000,9.795236,47133700\\n2018-04-13,11.350000,11.390000,11.230000,11.280000,9.769255,34598800\\n2018-04-16,11.360000,11.450000,11.270000,11.380000,9.855860,32803300\\n2018-04-17,11.430000,11.450000,11.300000,11.380000,9.855860,30906800\\n2018-04-18,11.380000,11.480000,11.300000,11.330000,9.812557,46226100\\n2018-04-19,11.180000,11.250000,10.850000,10.960000,9.619467,49154200\\n2018-04-20,11.010000,11.030000,10.780000,10.820000,9.496591,44930000\\n2018-04-23,10.840000,11.040000,10.830000,11.040000,9.689682,31936500\\n2018-04-24,11.050000,11.170000,10.930000,10.960000,9.619467,39625000\\n2018-04-25,10.960000,11.160000,10.870000,11.110000,9.751119,40356100\\n2018-04-26,11.420000,11.530000,11.290000,11.430000,10.031979,80676800\\n2018-04-27,11.400000,11.560000,11.380000,11.490000,10.084641,33375900\\n2018-04-30,11.530000,11.730000,11.220000,11.240000,9.865218,66090900\\n2018-05-01,11.250000,11.350000,11.100000,11.260000,9.882773,61430400\\n2018-05-02,11.260000,11.270000,11.120000,11.210000,9.838887,41899500\\n2018-05-03,11.170000,11.210000,10.970000,11.200000,9.830112,38907400\\n2018-05-04,11.160000,11.410000,11.090000,11.360000,9.970542,32043500\\n2018-05-07,11.360000,11.440000,11.310000,11.340000,9.952988,27510300\\n2018-05-08,11.320000,11.370000,11.240000,11.270000,9.891550,25754100\\n2018-05-09,11.210000,11.280000,11.020000,11.060000,9.707235,43732000\\n2018-05-10,11.040000,11.250000,11.020000,11.210000,9.838887,32023800\\n2018-05-11,11.220000,11.250000,11.160000,11.190000,9.821335,19837700\\n2018-05-14,11.230000,11.290000,11.170000,11.180000,9.812557,27903100\\n2018-05-15,11.100000,11.250000,11.060000,11.220000,9.847665,26950100\\n2018-05-16,11.210000,11.400000,11.200000,11.400000,10.005649,28976700\\n2018-05-17,11.400000,11.480000,11.380000,11.460000,10.058311,20741100\\n2018-05-18,11.440000,11.470000,11.300000,11.330000,9.944210,23893700\\n2018-05-21,11.420000,11.550000,11.390000,11.510000,10.102194,31011900\\n2018-05-22,11.580000,11.640000,11.510000,11.520000,10.110971,22360900\\n2018-05-23,11.500000,11.550000,11.330000,11.440000,10.040757,23595000\\n2018-05-24,11.450000,11.650000,11.440000,11.620000,10.198740,34876300\\n2018-05-25,11.560000,11.610000,11.470000,11.510000,10.102194,19337500\\n2018-05-29,11.600000,11.620000,11.360000,11.440000,10.040757,31324300\\n2018-05-30,11.530000,11.610000,11.470000,11.550000,10.137302,25554600\\n2018-05-31,11.650000,11.740000,11.360000,11.550000,10.137302,61563200\\n2018-06-01,11.670000,11.770000,11.610000,11.710000,10.277732,35406200\\n2018-06-04,11.740000,11.790000,11.690000,11.740000,10.304063,25141300\\n2018-06-05,11.740000,11.870000,11.680000,11.830000,10.383056,31036700\\n2018-06-06,11.870000,12.000000,11.820000,11.970000,10.505933,31110500\\n2018-06-07,11.970000,12.150000,11.960000,12.030000,10.558592,47314100\\n2018-06-08,12.040000,12.120000,12.000000,12.100000,10.620032,28371900\\n2018-06-11,12.100000,12.150000,12.020000,12.030000,10.558592,30398100\\n2018-06-12,12.070000,12.150000,12.030000,12.110000,10.628807,51395400\\n2018-06-13,12.100000,12.100000,11.960000,12.020000,10.549816,28406700\\n2018-06-14,12.000000,12.010000,11.840000,11.890000,10.435719,34523000\\n2018-06-15,11.840000,12.030000,11.800000,11.880000,10.426940,56326800\\n2018-06-18,11.820000,12.040000,11.810000,11.990000,10.523484,32706500\\n2018-06-19,11.820000,11.890000,11.670000,11.890000,10.435719,40064800\\n2018-06-20,11.970000,12.050000,11.830000,11.870000,10.418161,31964800\\n2018-06-21,11.800000,11.830000,11.640000,11.710000,10.277732,33316700\\n2018-06-22,11.750000,11.870000,11.620000,11.650000,10.225071,36703500\\n2018-06-25,11.630000,11.670000,11.380000,11.500000,10.093418,36101900\\n2018-06-26,11.560000,11.630000,11.490000,11.520000,10.110971,36627700\\n2018-06-27,11.540000,11.640000,11.400000,11.420000,10.023203,27242000\\n2018-06-28,11.370000,11.400000,11.150000,11.280000,9.900326,43836400\\n2018-06-29,11.320000,11.370000,11.030000,11.070000,9.716012,44718500\\n2018-07-02,11.020000,11.110000,10.910000,11.100000,9.742342,37892800\\n2018-07-03,11.100000,11.150000,10.940000,10.990000,9.645796,16544800\\n2018-07-05,11.100000,11.140000,11.020000,11.050000,9.698459,32008500\\n2018-07-06,11.040000,11.100000,10.920000,11.060000,9.707235,25646700\\n2018-07-09,11.100000,11.260000,11.030000,11.200000,9.830112,23916800\\n2018-07-10,11.200000,11.260000,11.170000,11.250000,9.873996,21231500\\n2018-07-11,11.150000,11.170000,11.050000,11.070000,9.716012,30030100\\n2018-07-12,11.100000,11.140000,11.000000,11.050000,9.698459,27025200\\n2018-07-13,11.020000,11.050000,10.910000,10.980000,9.637019,36561500\\n2018-07-16,10.950000,10.970000,10.760000,10.850000,9.522922,46156800\\n2018-07-17,10.800000,10.900000,10.800000,10.860000,9.531697,37584300\\n2018-07-18,10.850000,10.900000,10.810000,10.870000,9.540474,36420000\\n2018-07-19,10.890000,10.900000,10.770000,10.820000,9.496591,40308800\\n2018-07-20,10.680000,10.720000,10.510000,10.560000,9.398685,41531200\\n2018-07-23,10.560000,10.570000,10.420000,10.470000,9.318585,34942000\\n2018-07-24,10.510000,10.740000,10.500000,10.570000,9.407587,47303000\\n2018-07-25,10.320000,10.570000,10.120000,10.520000,9.363085,92497700\\n2018-07-26,10.140000,10.160000,9.840000,9.890000,8.802369,103893000\\n2018-07-27,9.960000,10.050000,9.910000,9.930000,8.837970,46171100\\n2018-07-30,9.960000,10.100000,9.930000,10.070000,8.962573,35877000\\n2018-07-31,10.110000,10.110000,10.000000,10.040000,8.935872,38026900\\n2018-08-01,10.060000,10.080000,9.820000,9.900000,8.811268,44126700\\n2018-08-02,9.900000,9.980000,9.840000,9.920000,8.829069,40318900\\n2018-08-03,9.930000,10.060000,9.930000,10.040000,8.935872,25925100\\n2018-08-06,10.000000,10.050000,9.970000,10.030000,8.926971,22247900\\n2018-08-07,10.040000,10.100000,10.020000,10.080000,8.971472,27961200\\n2018-08-08,10.050000,10.100000,10.040000,10.050000,8.944773,22600900\\n2018-08-09,10.060000,10.070000,9.900000,9.910000,8.820168,35682600\\n2018-08-10,9.910000,9.910000,9.720000,9.740000,8.668864,39180500\\n2018-08-13,9.740000,9.750000,9.420000,9.460000,8.419657,66586200\\n2018-08-14,9.510000,9.620000,9.450000,9.500000,8.455256,37657400\\n2018-08-15,9.460000,9.500000,9.350000,9.450000,8.410756,36298600\\n2018-08-16,9.500000,9.600000,9.490000,9.510000,8.464158,28857700\\n2018-08-17,9.530000,9.600000,9.460000,9.550000,8.499761,32742900\\n2018-08-20,9.560000,9.740000,9.560000,9.720000,8.651064,25252500\\n2018-08-21,9.770000,9.900000,9.690000,9.860000,8.775667,46413900\\n2018-08-22,9.790000,9.820000,9.680000,9.690000,8.624361,30803700\\n2018-08-23,9.670000,9.690000,9.580000,9.630000,8.570962,31511800\\n2018-08-24,9.650000,9.700000,9.610000,9.680000,8.615464,18380000\\n2018-08-27,9.750000,10.040000,9.730000,9.990000,8.891372,49769300\\n2018-08-28,10.080000,10.090000,9.950000,10.010000,8.909172,33845500\\n2018-08-29,10.010000,10.020000,9.900000,9.970000,8.873571,37336400\\n2018-08-30,9.870000,9.910000,9.670000,9.700000,8.633265,48539300\\n2018-08-31,9.640000,9.680000,9.400000,9.480000,8.437457,76424900\\n2018-09-04,9.530000,9.580000,9.360000,9.470000,8.428557,54111100\\n2018-09-05,9.470000,9.550000,9.320000,9.490000,8.446357,44561900\\n2018-09-06,9.480000,9.550000,9.400000,9.430000,8.392958,29519100\\n2018-09-07,9.410000,9.490000,9.250000,9.270000,8.250552,51229900\\n2018-09-10,9.310000,9.490000,9.300000,9.380000,8.348455,30421700\\n2018-09-11,9.350000,9.360000,9.220000,9.310000,8.286154,27158400\\n2018-09-12,9.310000,9.420000,9.280000,9.340000,8.312855,25450000\\n2018-09-13,9.380000,9.410000,9.310000,9.370000,8.339554,29315700\\n2018-09-14,9.380000,9.480000,9.360000,9.450000,8.410756,30013300\\n2018-09-17,9.440000,9.600000,9.430000,9.550000,8.499761,29544400\\n2018-09-18,9.540000,9.610000,9.480000,9.580000,8.526461,57055400\\n2018-09-19,9.610000,9.830000,9.610000,9.780000,8.704466,40111500\\n2018-09-20,9.830000,9.930000,9.710000,9.810000,8.731165,46314400\\n2018-09-21,9.840000,9.940000,9.780000,9.850000,8.766768,74488600\\n2018-09-24,9.780000,9.850000,9.520000,9.590000,8.535360,43170800\\n2018-09-25,9.530000,9.560000,9.370000,9.390000,8.357356,44406100\\n2018-09-26,9.380000,9.410000,9.270000,9.270000,8.250552,58597500\\n2018-09-27,9.300000,9.330000,9.200000,9.230000,8.214949,57272200\\n2018-09-28,9.220000,9.280000,9.090000,9.250000,8.232750,30987200\\n2018-10-01,9.430000,9.440000,9.300000,9.320000,8.295053,44864700\\n2018-10-02,9.270000,9.340000,9.180000,9.200000,8.188251,41806400\\n2018-10-03,9.270000,9.310000,9.130000,9.130000,8.125948,47023100\\n2018-10-04,9.130000,9.220000,9.090000,9.150000,8.143748,38889600\\n2018-10-05,9.150000,9.220000,9.100000,9.120000,8.117047,36952200\\n2018-10-08,9.100000,9.280000,9.090000,9.260000,8.241652,43657700\\n2018-10-09,9.230000,9.310000,8.950000,8.950000,7.965744,58356900\\n2018-10-10,8.950000,8.980000,8.810000,8.820000,7.850039,54104100\\n2018-10-11,8.820000,8.990000,8.760000,8.810000,7.841139,66170800\\n2018-10-12,8.950000,8.950000,8.550000,8.640000,7.689834,59308500\\n2018-10-15,8.670000,8.850000,8.660000,8.810000,7.841139,40183200\\n2018-10-16,8.870000,8.890000,8.730000,8.800000,7.832238,36772000\\n2018-10-17,8.800000,8.860000,8.640000,8.760000,7.796638,48795100\\n2018-10-18,8.740000,8.760000,8.500000,8.510000,7.574131,59669200\\n2018-10-19,8.320000,8.530000,8.190000,8.500000,7.565230,59831100\\n2018-10-22,8.380000,8.450000,8.270000,8.410000,7.619591,39803500\\n2018-10-23,8.300000,8.640000,8.230000,8.590000,7.782674,55443300\\n2018-10-24,8.500000,8.600000,8.170000,8.180000,7.411209,58895100\\n2018-10-25,8.520000,9.000000,8.460000,8.990000,8.145081,90399200\\n2018-10-26,8.960000,9.060000,8.860000,8.980000,8.136021,100639800\\n2018-10-29,9.360000,9.590000,9.170000,9.280000,8.407825,92275100\\n2018-10-30,9.310000,9.560000,9.270000,9.460000,8.570909,58062000\\n2018-10-31,9.620000,9.670000,9.430000,9.550000,8.652451,68507100\\n2018-11-01,9.540000,9.550000,9.260000,9.290000,8.416885,59794400\\n2018-11-02,9.360000,9.450000,9.260000,9.380000,8.498427,48499200\\n2018-11-05,9.380000,9.570000,9.350000,9.530000,8.634329,41274300\\n2018-11-06,9.460000,9.570000,9.410000,9.540000,8.643390,40928600\\n2018-11-07,9.600000,9.600000,9.450000,9.600000,8.697751,37347400\\n2018-11-08,9.580000,9.650000,9.440000,9.460000,8.570909,55810100\\n2018-11-09,9.380000,9.800000,9.270000,9.380000,8.498427,52203600\\n2018-11-12,9.380000,9.580000,9.370000,9.490000,8.598088,36317200\\n2018-11-13,9.530000,9.670000,9.470000,9.540000,8.643390,33098000\\n2018-11-14,9.630000,9.670000,9.430000,9.540000,8.643390,46677600\\n2018-11-15,9.500000,9.530000,9.120000,9.310000,8.435007,57170100\\n2018-11-16,9.280000,9.310000,8.980000,9.050000,8.199442,54582500\\n2018-11-19,9.020000,9.360000,8.960000,9.250000,8.380645,56292500\\n2018-11-20,9.100000,9.220000,9.010000,9.060000,8.208502,35159900\\n2018-11-21,9.050000,9.200000,8.980000,9.110000,8.253803,25882700\\n2018-11-23,9.070000,9.220000,9.030000,9.130000,8.271924,13520800\\n2018-11-26,9.230000,9.530000,9.170000,9.400000,8.516546,46304400\\n2018-11-27,9.370000,9.430000,9.250000,9.280000,8.407825,34283200\\n2018-11-28,9.270000,9.440000,9.170000,9.410000,8.525608,33199500\\n2018-11-29,9.370000,9.440000,9.260000,9.370000,8.489367,29207600\\n2018-11-30,9.370000,9.480000,9.360000,9.410000,8.525608,36269500\\n2018-12-03,9.710000,9.850000,9.600000,9.600000,8.697751,64668600\\n2018-12-04,9.550000,9.600000,9.180000,9.180000,8.317225,57930300\\n2018-12-06,9.120000,9.120000,8.920000,9.020000,8.172262,53963600\\n2018-12-07,9.020000,9.130000,8.800000,8.820000,7.991058,43534800\\n2018-12-10,8.830000,8.850000,8.380000,8.520000,7.719254,56499700\\n2018-12-11,8.720000,8.800000,8.500000,8.540000,7.737374,42294500\\n2018-12-12,8.640000,8.730000,8.590000,8.640000,7.827975,40602700\\n2018-12-13,8.670000,8.700000,8.460000,8.500000,7.701133,34200400\\n2018-12-14,8.520000,8.680000,8.460000,8.520000,7.719254,35613300\\n2018-12-17,8.480000,8.720000,8.410000,8.500000,7.701133,44469900\\n2018-12-18,8.550000,8.680000,8.410000,8.470000,7.673954,38263000\\n2018-12-19,8.460000,8.650000,8.270000,8.320000,7.538050,75272900\\n2018-12-20,8.330000,8.420000,8.180000,8.260000,7.483690,58926200\\n2018-12-21,8.220000,8.400000,8.040000,8.050000,7.293426,57542300\\n2018-12-24,8.010000,8.010000,7.610000,7.630000,6.912900,38709500\\n2018-12-26,7.730000,7.860000,7.410000,7.850000,7.112223,58810000\\n2018-12-27,7.820000,7.850000,7.530000,7.850000,7.112223,49813000\\n2018-12-28,7.830000,8.040000,7.760000,7.810000,7.075983,47331700\\n2018-12-31,7.850000,7.860000,7.500000,7.650000,6.931020,57816000\\n2019-01-02,7.530000,8.020000,7.480000,7.900000,7.157524,47494400\\n2019-01-03,7.970000,7.990000,7.780000,7.780000,7.048802,39172400\\n2019-01-04,7.910000,8.120000,7.850000,8.080000,7.320606,43039800\\n2019-01-07,8.110000,8.370000,8.030000,8.290000,7.510870,40729400\\n2019-01-08,8.420000,8.540000,8.350000,8.370000,7.583352,45644000\\n2019-01-09,8.450000,8.770000,8.360000,8.720000,7.900456,48404900\\n2019-01-10,8.710000,8.770000,8.450000,8.670000,7.855156,39490400\\n2019-01-11,8.770000,8.930000,8.700000,8.820000,7.991058,41559900\\n2019-01-14,8.800000,9.060000,8.760000,8.990000,8.145081,44833800\\n2019-01-15,9.020000,9.030000,8.750000,8.840000,8.009178,65311700\\n2019-01-16,8.680000,8.770000,8.260000,8.290000,7.510870,73869900\\n2019-01-17,8.270000,8.440000,8.210000,8.360000,7.574291,56722600\\n2019-01-18,8.390000,8.600000,8.330000,8.580000,7.773614,51127900\\n2019-01-22,8.540000,8.610000,8.460000,8.500000,7.701133,47182600\\n2019-01-23,8.540000,8.540000,8.280000,8.340000,7.556170,45196900\\n2019-01-24,8.320000,8.680000,8.220000,8.600000,7.791735,79516400\\n2019-01-25,8.740000,8.960000,8.730000,8.860000,8.027299,53098800\\n2019-01-28,8.800000,8.800000,8.580000,8.660000,7.846096,42116300\\n2019-01-29,8.710000,8.790000,8.620000,8.760000,7.936698,30485000\\n2019-01-30,8.660000,8.720000,8.520000,8.710000,8.028877,29906100\\n2019-01-31,8.620000,8.820000,8.600000,8.800000,8.111838,39389100\\n2019-02-01,8.770000,8.810000,8.620000,8.720000,8.038095,34124000\\n2019-02-04,8.700000,8.700000,8.590000,8.700000,8.019659,28855600\\n2019-02-05,8.680000,8.760000,8.650000,8.750000,8.065748,26166800\\n2019-02-06,8.790000,8.900000,8.680000,8.720000,8.038095,32644300\\n2019-02-07,8.620000,8.620000,8.290000,8.310000,7.660157,55161800\\n2019-02-08,8.290000,8.410000,8.160000,8.390000,7.733901,38650100\\n2019-02-11,8.410000,8.440000,8.290000,8.330000,7.678594,27403500\\n2019-02-12,8.380000,8.470000,8.380000,8.460000,7.798428,26235100\\n2019-02-13,8.450000,8.660000,8.390000,8.410000,7.752337,27182900\\n2019-02-14,8.380000,8.470000,8.320000,8.420000,7.761556,23569900\\n2019-02-15,8.490000,8.560000,8.410000,8.540000,7.872172,58080300\\n2019-02-19,8.530000,8.850000,8.530000,8.830000,8.139494,37929200\\n2019-02-20,8.830000,8.980000,8.820000,8.940000,8.240891,55316900\\n2019-02-21,8.940000,8.960000,8.700000,8.710000,8.028877,44730400\\n2019-02-22,8.730000,8.750000,8.560000,8.710000,8.028877,40947500\\n2019-02-25,8.770000,8.850000,8.750000,8.760000,8.074968,56615400\\n2019-02-26,8.750000,8.940000,8.720000,8.880000,8.185583,38348800\\n2019-02-27,8.830000,8.910000,8.780000,8.780000,8.093403,34093300\\n2019-02-28,8.770000,8.790000,8.600000,8.770000,8.084186,43960500\\n2019-03-01,8.850000,8.890000,8.710000,8.790000,8.102622,37699500\\n2019-03-04,8.830000,8.970000,8.760000,8.810000,8.121058,46196900\\n2019-03-05,8.800000,8.810000,8.700000,8.770000,8.084186,40852600\\n2019-03-06,8.750000,8.780000,8.560000,8.580000,7.909043,50378600\\n2019-03-07,8.560000,8.570000,8.350000,8.480000,7.816863,54286000\\n2019-03-08,8.400000,8.470000,8.340000,8.420000,7.761556,43766800\\n2019-03-11,8.460000,8.630000,8.450000,8.610000,7.936697,36875300\\n2019-03-12,8.650000,8.700000,8.550000,8.570000,7.899825,37805000\\n2019-03-13,8.590000,8.650000,8.500000,8.530000,7.862954,49018700\\n2019-03-14,8.520000,8.550000,8.400000,8.410000,7.752337,36307900\\n2019-03-15,8.420000,8.470000,8.370000,8.430000,7.770773,66555500\\n2019-03-18,8.450000,8.570000,8.420000,8.570000,7.899825,37198300\\n2019-03-19,8.610000,8.870000,8.610000,8.700000,8.019659,57293600\\n2019-03-20,8.670000,8.670000,8.480000,8.510000,7.844517,54539700\\n2019-03-21,8.500000,8.690000,8.490000,8.690000,8.010442,46843100\\n2019-03-22,8.630000,8.670000,8.520000,8.540000,7.872172,41964000\\n2019-03-25,8.560000,8.650000,8.470000,8.510000,7.844517,45849500\\n2019-03-26,8.540000,8.760000,8.540000,8.760000,8.074968,47852100\\n2019-03-27,8.750000,8.860000,8.620000,8.620000,7.945916,39895800\\n2019-03-28,8.650000,8.830000,8.640000,8.770000,8.227353,38914700\\n2019-03-29,8.800000,8.890000,8.710000,8.780000,8.236733,33962800\\n2019-04-01,8.860000,9.000000,8.860000,8.980000,8.424358,45653100\\n2019-04-02,8.950000,9.030000,8.910000,9.010000,8.452501,30699400\\n2019-04-03,9.070000,9.270000,9.060000,9.130000,8.565078,56663600\\n2019-04-04,9.210000,9.300000,9.180000,9.240000,8.668272,39483100\\n2019-04-05,9.170000,9.270000,9.080000,9.250000,8.677652,37854700\\n2019-04-08,9.180000,9.320000,9.170000,9.300000,8.724559,26221100\\n2019-04-09,9.270000,9.360000,9.170000,9.210000,8.640128,29879100\\n2019-04-10,9.230000,9.350000,9.200000,9.330000,8.752703,28469500\\n2019-04-11,9.350000,9.410000,9.330000,9.390000,8.808990,26488100\\n2019-04-12,9.470000,9.600000,9.440000,9.450000,8.865276,38646000\\n2019-04-15,9.480000,9.500000,9.260000,9.330000,8.752703,41206700\\n2019-04-16,9.320000,9.400000,9.240000,9.360000,8.780846,40950000\\n2019-04-17,9.400000,9.580000,9.390000,9.500000,8.912184,30688300\\n2019-04-18,9.520000,9.620000,9.480000,9.550000,8.959090,29843000\\n2019-04-22,9.580000,9.580000,9.460000,9.500000,8.912184,38718500\\n2019-04-23,9.360000,9.510000,9.300000,9.500000,9.055160,39493700\\n2019-04-24,9.450000,9.610000,9.400000,9.570000,9.121881,39796300\\n2019-04-25,9.520000,9.530000,9.340000,9.400000,8.959842,52596700\\n2019-04-26,10.030000,10.450000,9.950000,10.410000,9.922548,156136700\\n2019-04-29,10.360000,10.390000,10.070000,10.320000,9.836762,62500500\\n2019-04-30,10.290000,10.500000,10.270000,10.450000,9.960675,46079300\\n2019-05-01,10.480000,10.500000,10.290000,10.300000,9.817699,41805500\\n2019-05-02,10.300000,10.350000,10.200000,10.340000,9.855827,34508400\\n2019-05-03,10.370000,10.450000,10.300000,10.410000,9.922548,36291200\\n2019-05-06,10.120000,10.420000,10.120000,10.370000,9.884421,28640600\\n2019-05-07,10.330000,10.410000,10.300000,10.380000,9.893953,41154500\\n2019-05-08,10.380000,10.450000,10.310000,10.340000,9.855827,33472200\\n2019-05-09,10.260000,10.300000,10.070000,10.200000,9.722382,43621300\\n2019-05-10,10.320000,10.410000,10.200000,10.380000,9.893953,37629500\\n2019-05-13,10.170000,10.260000,10.040000,10.080000,9.608002,51102100\\n2019-05-14,10.150000,10.290000,10.130000,10.240000,9.760509,31297200\\n2019-05-15,10.210000,10.400000,10.040000,10.360000,9.874889,44050200\\n2019-05-16,10.300000,10.440000,10.300000,10.400000,9.913016,32697000\\n2019-05-17,10.320000,10.440000,10.240000,10.290000,9.808168,34565400\\n2019-05-20,10.300000,10.300000,10.200000,10.280000,9.798635,29535900\\n2019-05-21,10.310000,10.310000,10.150000,10.240000,9.760509,30099300\\n2019-05-22,10.170000,10.210000,9.930000,9.970000,9.503152,51407200\\n2019-05-23,9.850000,9.850000,9.670000,9.850000,9.388772,43153800\\n2019-05-24,9.920000,9.950000,9.800000,9.830000,9.369707,22131500\\n2019-05-28,9.870000,9.900000,9.770000,9.780000,9.322048,27656200\\n2019-05-29,9.690000,9.750000,9.550000,9.710000,9.255326,32262600\\n2019-05-30,9.740000,9.840000,9.680000,9.740000,9.283922,24759600\\n2019-05-31,9.480000,9.540000,9.320000,9.520000,9.074224,48250400\\n2019-06-03,9.620000,9.650000,9.460000,9.610000,9.160008,39446800\\n2019-06-04,9.730000,9.950000,9.720000,9.920000,9.455493,37324100\\n2019-06-05,9.870000,9.920000,9.650000,9.780000,9.322048,42464800\\n2019-06-06,9.720000,9.820000,9.660000,9.750000,9.293454,28291100\\n2019-06-07,9.760000,9.820000,9.700000,9.760000,9.302985,18848700\\n2019-06-10,9.890000,10.030000,9.760000,9.820000,9.360175,33883400\\n2019-06-11,9.870000,9.980000,9.790000,9.920000,9.455493,26434200\\n2019-06-12,9.900000,9.930000,9.840000,9.850000,9.388772,21727500\\n2019-06-13,9.870000,10.060000,9.800000,10.060000,9.588937,25555900\\n2019-06-14,10.010000,10.040000,9.940000,9.980000,9.512683,21553200\\n2019-06-17,9.990000,10.090000,9.940000,10.050000,9.579405,19383800\\n2019-06-18,10.080000,10.200000,10.050000,10.100000,9.627065,32591700\\n2019-06-19,10.150000,10.180000,10.030000,10.040000,9.569874,29051300\\n2019-06-20,10.130000,10.150000,9.950000,10.040000,9.569874,32086500\\n2019-06-21,10.030000,10.050000,9.910000,9.990000,9.522215,47904000\\n2019-06-24,9.950000,10.020000,9.930000,9.950000,9.484088,28091200\\n2019-06-25,9.970000,9.990000,9.830000,9.840000,9.379239,28682000\\n2019-06-26,9.870000,9.960000,9.820000,9.910000,9.445961,33739100\\n2019-06-27,10.040000,10.240000,10.000000,10.200000,9.722382,42954600\\n2019-06-28,10.200000,10.310000,10.200000,10.230000,9.750978,37551600\\n2019-07-01,10.340000,10.430000,10.070000,10.150000,9.674723,38537000\\n2019-07-02,10.150000,10.210000,10.040000,10.120000,9.646129,29708000\\n2019-07-03,10.180000,10.300000,10.130000,10.200000,9.722382,19326600\\n2019-07-05,10.180000,10.270000,10.090000,10.200000,9.722382,21397900\\n2019-07-08,10.200000,10.260000,10.180000,10.200000,9.722382,23244100\\n2019-07-09,10.170000,10.190000,10.100000,10.140000,9.665193,25140600\\n2019-07-10,10.190000,10.260000,10.110000,10.110000,9.636596,29082200\\n2019-07-11,10.150000,10.200000,10.110000,10.190000,9.712851,27667500\\n2019-07-12,10.240000,10.500000,10.240000,10.490000,9.998802,40761600\\n2019-07-15,10.490000,10.560000,10.340000,10.420000,9.932080,33753500\\n2019-07-16,10.370000,10.510000,10.290000,10.510000,10.017866,29530500\\n2019-07-17,10.480000,10.500000,10.310000,10.330000,9.846294,25204400\\n2019-07-18,10.300000,10.310000,10.180000,10.260000,9.779572,25828900\\n2019-07-19,10.300000,10.320000,10.200000,10.200000,9.722382,38505600\\n2019-07-22,10.130000,10.170000,10.000000,10.020000,9.693360,36238600\\n2019-07-23,10.130000,10.220000,10.060000,10.170000,9.838470,74624800\\n2019-07-24,10.180000,10.350000,10.140000,10.330000,9.993254,61107500\\n2019-07-25,9.750000,9.780000,9.400000,9.560000,9.248356,133898600\\n2019-07-26,9.580000,9.650000,9.510000,9.570000,9.258030,47710200\\n2019-07-29,9.600000,9.680000,9.520000,9.600000,9.287052,36487800\\n2019-07-30,9.560000,9.580000,9.480000,9.550000,9.238682,36944700\\n2019-07-31,9.570000,9.580000,9.400000,9.530000,9.219334,56715500\\n2019-08-01,9.530000,9.590000,9.280000,9.310000,9.006506,58060800\\n2019-08-02,9.260000,9.340000,9.210000,9.280000,8.977483,41495200\\n2019-08-05,9.180000,9.270000,9.060000,9.230000,8.929112,47963400\\n2019-08-06,9.420000,9.510000,9.360000,9.480000,9.170962,51856100\\n2019-08-07,9.430000,9.560000,9.320000,9.530000,9.219334,43042400\\n2019-08-08,9.560000,9.620000,9.510000,9.560000,9.248356,25469000\\n2019-08-09,9.540000,9.580000,9.390000,9.450000,9.141941,38739700\\n2019-08-12,9.390000,9.430000,9.280000,9.290000,8.987157,21978800\\n2019-08-13,9.290000,9.420000,9.180000,9.260000,8.958136,28231500\\n2019-08-14,9.130000,9.150000,8.960000,9.000000,8.706611,45967400\\n2019-08-15,9.060000,9.060000,8.780000,8.860000,8.571175,40682800\\n2019-08-16,8.920000,9.000000,8.810000,8.960000,8.667914,27369900\\n2019-08-19,9.050000,9.100000,9.020000,9.030000,8.735632,21844000\\n2019-08-20,9.000000,9.070000,8.930000,8.960000,8.667914,25108600\\n2019-08-21,9.020000,9.050000,8.970000,9.040000,8.745307,20434800\\n2019-08-22,9.050000,9.140000,9.020000,9.040000,8.745307,20974700\\n2019-08-23,8.900000,8.990000,8.730000,8.770000,8.484109,44982300\\n2019-08-26,8.880000,8.910000,8.790000,8.820000,8.532478,31888200\\n2019-08-27,8.890000,8.910000,8.750000,8.760000,8.474435,23024400\\n2019-08-28,8.720000,9.040000,8.700000,9.000000,8.706611,35147300\\n2019-08-29,9.100000,9.140000,9.030000,9.120000,8.822700,22011000\\n2019-08-30,9.160000,9.230000,9.100000,9.170000,8.871069,32057900\\n2019-09-03,9.180000,9.200000,9.040000,9.100000,8.803351,26331000\\n2019-09-04,9.170000,9.230000,9.070000,9.200000,8.900091,27406400\\n2019-09-05,9.250000,9.400000,9.250000,9.340000,9.035527,36626800\\n2019-09-06,9.370000,9.410000,9.200000,9.340000,9.035527,29210100\\n2019-09-09,9.390000,9.650000,9.390000,9.540000,9.229008,48059400\\n2019-09-10,9.080000,9.420000,9.040000,9.420000,9.112919,70567300\\n2019-09-11,9.290000,9.430000,9.290000,9.420000,9.112919,34190300\\n2019-09-12,9.360000,9.480000,9.320000,9.410000,9.103246,35687700\\n2019-09-13,9.470000,9.590000,9.440000,9.450000,9.141941,27161300\\n2019-09-16,9.360000,9.450000,9.240000,9.300000,8.996831,50052600\\n2019-09-17,9.270000,9.310000,9.180000,9.280000,8.977483,27391200\\n2019-09-18,9.260000,9.360000,9.220000,9.250000,8.948462,24309400\\n2019-09-19,9.310000,9.330000,9.100000,9.100000,8.803351,28780700\\n2019-09-20,9.130000,9.300000,9.110000,9.170000,8.871069,37491300\\n2019-09-23,9.130000,9.230000,9.080000,9.160000,8.861395,22051100\\n2019-09-24,9.190000,9.230000,9.050000,9.110000,8.813025,33092500\\n2019-09-25,9.100000,9.230000,9.090000,9.200000,8.900091,20510300\\n2019-09-26,9.230000,9.230000,9.070000,9.140000,8.842048,26556300\\n2019-09-27,9.140000,9.600000,9.060000,9.080000,8.784003,32459500\\n2019-09-30,9.110000,9.210000,9.100000,9.160000,8.861395,21510000\\n2019-10-01,9.190000,9.240000,8.870000,8.900000,8.609870,39559500\\n2019-10-02,8.850000,8.860000,8.440000,8.610000,8.329324,68137000\\n2019-10-03,8.550000,8.710000,8.450000,8.710000,8.426064,40827900\\n2019-10-04,8.720000,8.760000,8.660000,8.740000,8.455086,27827400\\n2019-10-07,8.700000,8.790000,8.610000,8.680000,8.397042,29340400\\n2019-10-08,8.650000,8.660000,8.500000,8.540000,8.261606,31091200\\n2019-10-09,8.610000,8.640000,8.560000,8.560000,8.280955,16898500\\n2019-10-10,8.580000,8.650000,8.520000,8.620000,8.338999,28069600\\n2019-10-11,8.730000,8.870000,8.730000,8.780000,8.493782,34175700\\n2019-10-14,8.820000,8.840000,8.760000,8.820000,8.532478,24794500\\n2019-10-15,8.840000,9.100000,8.780000,9.070000,8.774328,29771700\\n2019-10-16,9.110000,9.190000,9.060000,9.070000,8.774328,27190300\\n2019-10-17,9.120000,9.140000,9.030000,9.110000,8.813025,28361200\\n2019-10-18,9.090000,9.320000,9.090000,9.290000,8.987157,42422900\\n2019-10-21,9.190000,9.240000,9.010000,9.030000,8.878997,33610200\\n2019-10-22,9.010000,9.140000,8.960000,9.070000,8.918327,35878500\\n2019-10-23,9.010000,9.210000,8.970000,9.210000,9.055987,44770400\\n2019-10-24,8.870000,8.890000,8.550000,8.600000,8.456188,120395200\\n2019-10-25,8.670000,8.750000,8.620000,8.720000,8.574182,51373600\\n2019-10-28,8.760000,8.760000,8.580000,8.610000,8.466020,39635300\\n2019-10-29,8.590000,8.710000,8.590000,8.640000,8.495519,36771800\\n2019-10-30,8.640000,8.640000,8.520000,8.540000,8.397191,28685300\\n2019-10-31,8.580000,8.600000,8.500000,8.590000,8.446355,29124100\\n2019-11-01,8.640000,8.930000,8.640000,8.890000,8.741339,55354900\\n2019-11-04,8.930000,9.050000,8.930000,9.000000,8.849499,46716500\\n2019-11-05,9.020000,9.150000,9.000000,9.020000,8.869164,37569700\\n2019-11-06,9.050000,9.050000,8.890000,8.920000,8.770837,39497700\\n2019-11-07,8.960000,9.010000,8.880000,8.890000,8.741339,32640400\\n2019-11-08,8.900000,9.040000,8.820000,9.040000,8.888829,29476800\\n2019-11-11,8.950000,9.100000,8.940000,9.080000,8.928161,24846600\\n2019-11-12,9.060000,9.130000,9.040000,9.040000,8.888829,28703900\\n2019-11-13,9.000000,9.000000,8.800000,8.810000,8.662676,34491200\\n2019-11-14,8.850000,8.910000,8.780000,8.790000,8.643010,26527800\\n2019-11-15,8.850000,8.960000,8.850000,8.950000,8.800335,26416300\\n2019-11-18,9.050000,9.050000,8.890000,8.950000,8.800335,38291400\\n2019-11-19,8.990000,9.000000,8.870000,8.900000,8.751170,31168900\\n2019-11-20,8.880000,8.890000,8.680000,8.730000,8.584013,38271500\\n2019-11-21,8.770000,8.790000,8.670000,8.710000,8.564348,33161400\\n2019-11-22,8.800000,8.900000,8.770000,8.890000,8.741339,34966700\\n2019-11-25,8.900000,9.010000,8.870000,9.000000,8.849499,30580900\\n2019-11-26,8.980000,9.020000,8.910000,9.010000,8.859331,30093800\\n2019-11-27,9.030000,9.150000,9.020000,9.100000,8.947826,37396100\\n2019-11-29,9.040000,9.100000,9.030000,9.060000,8.908496,13096200\\n2019-12-02,9.080000,9.140000,9.000000,9.010000,8.859331,37232700\\n2019-12-03,8.950000,8.950000,8.800000,8.890000,8.741339,40653100\\n2019-12-04,8.950000,9.030000,8.940000,8.950000,8.800335,29982900\\n2019-12-05,8.970000,9.000000,8.880000,8.930000,8.780669,25768600\\n2019-12-06,8.960000,9.070000,8.950000,9.020000,8.869164,31086900\\n2019-12-09,8.970000,9.070000,8.960000,9.010000,8.859331,21772900\\n2019-12-10,9.020000,9.100000,8.960000,9.070000,8.918327,34217700\\n2019-12-11,9.060000,9.140000,9.060000,9.110000,8.957659,33204200\\n2019-12-12,9.110000,9.360000,9.110000,9.320000,9.164147,48390900\\n2019-12-13,9.320000,9.390000,9.190000,9.230000,9.075652,35334500\\n2019-12-16,9.240000,9.390000,9.220000,9.390000,9.232977,42337600\\n2019-12-17,9.380000,9.410000,9.310000,9.390000,9.232977,35503900\\n2019-12-18,9.390000,9.570000,9.360000,9.540000,9.380468,45905300\\n2019-12-19,9.550000,9.570000,9.380000,9.410000,9.252643,42236000\\n2019-12-20,9.500000,9.540000,9.440000,9.480000,9.321471,50191200\\n2019-12-23,9.500000,9.570000,9.400000,9.440000,9.282141,54784400\\n2019-12-24,9.440000,9.490000,9.430000,9.470000,9.311640,11881600\\n2019-12-26,9.470000,9.490000,9.430000,9.450000,9.291973,28961300\\n2019-12-27,9.450000,9.460000,9.350000,9.360000,9.203478,28272800\\n2019-12-30,9.340000,9.350000,9.230000,9.250000,9.095318,36074900\\n2019-12-31,9.250000,9.330000,9.250000,9.300000,9.144482,32342100\\n2020-01-02,9.290000,9.420000,9.190000,9.420000,9.262475,43425700\\n2020-01-03,9.310000,9.370000,9.150000,9.210000,9.055987,45040800\\n2020-01-06,9.100000,9.170000,9.060000,9.160000,9.006823,43372300\\n2020-01-07,9.200000,9.250000,9.120000,9.250000,9.095318,44984100\\n2020-01-08,9.230000,9.300000,9.170000,9.250000,9.095318,45994900\\n2020-01-09,9.300000,9.310000,9.180000,9.260000,9.105151,51817400\\n2020-01-10,9.270000,9.360000,9.250000,9.250000,9.095318,39796300\\n2020-01-13,9.250000,9.260000,9.110000,9.240000,9.085485,48553700\\n2020-01-14,9.220000,9.330000,9.210000,9.290000,9.134649,42935600\\n2020-01-15,9.270000,9.300000,9.180000,9.190000,9.036321,55923900\\n2020-01-16,9.230000,9.280000,9.150000,9.170000,9.016656,44310400\\n2020-01-17,9.190000,9.230000,9.130000,9.160000,9.006823,41644900\\n2020-01-21,9.150000,9.220000,9.100000,9.210000,9.055987,49556400\\n2020-01-22,9.220000,9.250000,9.150000,9.160000,9.006823,39914800\\n2020-01-23,9.140000,9.160000,8.930000,9.140000,8.987158,75848700\\n2020-01-24,9.110000,9.120000,8.960000,9.000000,8.849499,68100900\\n2020-01-27,8.880000,8.960000,8.780000,8.890000,8.741339,60769300\\n2020-01-28,8.940000,9.000000,8.860000,8.970000,8.820001,85163400\\n2020-01-29,8.850000,8.960000,8.840000,8.860000,8.860000,59057400\\n2020-01-30,8.810000,8.840000,8.730000,8.840000,8.840000,42827800\\n2020-01-31,8.780000,8.840000,8.740000,8.820000,8.820000,59813700\\n2020-02-03,8.850000,9.140000,8.850000,8.980000,8.980000,71432700\\n2020-02-04,9.080000,9.240000,9.070000,9.180000,9.180000,86196400\\n2020-02-05,8.410000,8.480000,8.260000,8.310000,8.310000,145792500\\n2020-02-06,8.370000,8.380000,8.250000,8.250000,8.250000,68823400\\n2020-02-07,8.210000,8.210000,8.020000,8.110000,8.110000,98256500\\n2020-02-10,8.150000,8.150000,8.050000,8.060000,8.060000,71834900\\n2020-02-11,8.100000,8.150000,8.080000,8.100000,8.100000,80164500\\n2020-02-12,8.140000,8.330000,8.130000,8.240000,8.240000,111536800\\n2020-02-13,8.210000,8.360000,8.210000,8.250000,8.250000,67648800\\n2020-02-14,8.270000,8.270000,8.080000,8.100000,8.100000,46359700\\n2020-02-18,8.120000,8.150000,8.020000,8.060000,8.060000,65094800\\n2020-02-19,8.060000,8.100000,8.000000,8.000000,8.000000,69668200\\n2020-02-20,8.000000,8.070000,7.990000,8.030000,8.030000,52318200\\n2020-02-21,8.020000,8.030000,7.890000,7.890000,7.890000,58326300\\n2020-02-24,7.700000,7.720000,7.550000,7.570000,7.570000,110048200\\n2020-02-25,7.680000,7.680000,7.220000,7.230000,7.230000,108888300\\n2020-02-26,7.300000,7.460000,7.210000,7.210000,7.210000,92469500\\n2020-02-27,7.130000,7.280000,6.920000,6.970000,6.970000,118642400\\n2020-02-28,6.840000,6.960000,6.670000,6.960000,6.960000,116546700\\n2020-03-02,7.110000,7.230000,6.880000,7.200000,7.200000,96766000\\n2020-03-03,7.290000,7.340000,6.890000,6.970000,6.970000,97457800\\n2020-03-04,7.090000,7.090000,6.920000,7.080000,7.080000,70588100\\n2020-03-05,6.960000,6.970000,6.710000,6.740000,6.740000,78070900\\n2020-03-06,6.600000,6.680000,6.400000,6.490000,6.490000,109932200\\n2020-03-09,5.970000,6.140000,5.870000,5.900000,5.900000,103901700\\n2020-03-10,6.260000,6.290000,5.800000,6.260000,6.260000,101873600\\n2020-03-11,6.060000,6.110000,5.880000,5.900000,5.900000,98587100\\n2020-03-12,5.380000,5.690000,5.200000,5.350000,5.350000,89453100\\n2020-03-13,5.870000,5.900000,5.120000,5.630000,5.630000,125375300\\n2020-03-16,5.040000,5.220000,5.000000,5.010000,5.010000,110310900\\n2020-03-17,5.080000,5.140000,4.700000,5.010000,5.010000,104233500\\n2020-03-18,4.750000,4.840000,4.100000,4.500000,4.500000,125954700\\n2020-03-19,4.330000,4.580000,4.100000,4.470000,4.470000,126603800\\n2020-03-20,4.540000,4.750000,4.250000,4.330000,4.330000,129378600\\n2020-03-23,4.270000,4.520000,3.960000,4.010000,4.010000,134925000\\n2020-03-24,4.470000,4.990000,4.260000,4.950000,4.950000,146192100\\n2020-03-25,5.770000,5.870000,5.120000,5.390000,5.390000,198999400\\n2020-03-26,5.360000,5.650000,5.160000,5.250000,5.250000,138227600\\n2020-03-27,5.070000,5.300000,4.910000,5.190000,5.190000,106324000\\n2020-03-30,5.110000,5.120000,4.930000,5.030000,5.030000,97879700\\n2020-03-31,5.030000,5.190000,4.750000,4.830000,4.830000,231800800\\n2020-04-01,4.630000,4.770000,4.360000,4.400000,4.400000,119174500\\n2020-04-02,4.390000,4.570000,4.250000,4.360000,4.360000,90891700\\n2020-04-03,4.400000,4.420000,4.170000,4.240000,4.240000,85659900\\n2020-04-06,4.540000,4.670000,4.410000,4.530000,4.530000,102205300\\n2020-04-07,4.850000,5.030000,4.630000,4.710000,4.710000,115150400\\n2020-04-08,4.860000,5.090000,4.800000,5.030000,5.030000,117022200\\n2020-04-09,5.510000,5.750000,5.240000,5.370000,5.370000,175833700\\n2020-04-13,5.430000,5.430000,5.020000,5.160000,5.160000,99320000\\n2020-04-14,5.270000,5.440000,5.160000,5.290000,5.290000,74877000\\n2020-04-15,5.060000,5.140000,4.950000,5.030000,5.030000,74727700\\n2020-04-16,5.060000,5.070000,4.890000,4.940000,4.940000,58951200\\n2020-04-17,5.170000,5.280000,5.030000,5.120000,5.120000,91989300\\n2020-04-20,5.010000,5.090000,4.910000,4.980000,4.980000,71079400\\n2020-04-21,4.890000,4.920000,4.720000,4.770000,4.770000,82400200\\n2020-04-22,4.870000,4.890000,4.750000,4.770000,4.770000,62398600\\n2020-04-23,4.800000,4.980000,4.770000,4.890000,4.890000,61959800\\n2020-04-24,4.930000,4.960000,4.800000,4.870000,4.870000,54352500\\n2020-04-27,4.910000,5.190000,4.880000,5.170000,5.170000,91082800\\n2020-04-28,5.490000,5.540000,5.220000,5.380000,5.380000,106222800\\n2020-04-29,5.330000,5.500000,5.210000,5.260000,5.260000,126393000\\n2020-04-30,5.160000,5.240000,5.060000,5.090000,5.090000,93437900\\n2020-05-01,5.020000,5.050000,4.900000,4.920000,4.920000,82660100\\n2020-05-04,4.880000,4.970000,4.770000,4.860000,4.860000,84214700\\n2020-05-05,4.990000,5.090000,4.940000,4.970000,4.970000,96301300\\n2020-05-06,5.050000,5.090000,4.820000,4.870000,4.870000,89390400\\n2020-05-07,4.900000,4.980000,4.850000,4.870000,4.870000,67222900\\n2020-05-08,4.960000,5.250000,4.950000,5.240000,5.240000,101333800\\n2020-05-11,5.180000,5.190000,5.050000,5.120000,5.120000,75734000\\n2020-05-12,5.150000,5.220000,4.970000,4.980000,4.980000,70965200\\n2020-05-13,5.000000,5.010000,4.660000,4.720000,4.720000,100192300\\n2020-05-14,4.640000,4.920000,4.520000,4.890000,4.890000,107931900\\n2020-05-15,4.800000,4.940000,4.750000,4.900000,4.900000,80544700\\n2020-05-18,5.120000,5.330000,5.120000,5.310000,5.310000,136241400\\n2020-05-19,5.270000,5.450000,5.150000,5.300000,5.300000,94836300\\n2020-05-20,5.380000,5.540000,5.370000,5.490000,5.490000,87685400\\n2020-05-21,5.450000,5.690000,5.440000,5.630000,5.630000,87098200\\n2020-05-22,5.680000,5.730000,5.500000,5.650000,5.650000,76656500\\n2020-05-26,5.920000,5.990000,5.820000,5.840000,5.840000,86046300\\n2020-05-27,6.010000,6.090000,5.840000,6.030000,6.030000,110413900\\n2020-05-28,6.050000,6.070000,5.810000,5.850000,5.850000,76930200\\n2020-05-29,5.750000,5.800000,5.570000,5.710000,5.710000,93039200\\n2020-06-01,5.730000,5.880000,5.670000,5.870000,5.870000,61879700\\n2020-06-02,5.960000,6.000000,5.830000,5.900000,5.900000,80046000\\n2020-06-03,5.990000,6.270000,5.920000,6.190000,6.190000,98876600\\n2020-06-04,6.200000,6.580000,6.120000,6.570000,6.570000,115798600\\n2020-06-05,7.240000,7.500000,7.020000,7.340000,7.340000,208648200\\n2020-06-08,7.530000,7.740000,7.370000,7.530000,7.530000,113169300\\n2020-06-09,7.220000,7.440000,7.050000,7.240000,7.240000,115749600\\n2020-06-10,7.330000,7.340000,6.770000,6.810000,6.810000,147327100\\n2020-06-11,6.070000,6.460000,6.040000,6.130000,6.130000,116184700\\n2020-06-12,6.560000,6.630000,6.300000,6.460000,6.460000,88719000\\n2020-06-15,6.180000,6.580000,6.110000,6.500000,6.500000,104742600\\n2020-06-16,6.870000,6.870000,6.440000,6.550000,6.550000,109535200\\n2020-06-17,6.560000,6.560000,6.310000,6.330000,6.330000,67732200\\n2020-06-18,6.260000,6.450000,6.190000,6.330000,6.330000,61301800\\n2020-06-19,6.640000,6.690000,6.230000,6.230000,6.230000,126127800\\n2020-06-22,6.270000,6.280000,6.130000,6.280000,6.280000,71724300\\n2020-06-23,6.330000,6.380000,6.140000,6.150000,6.150000,86672800\\n2020-06-24,6.060000,6.120000,5.860000,5.950000,5.950000,75536300\\n2020-06-25,5.860000,6.050000,5.800000,6.030000,6.030000,73612700\\n2020-06-26,6.040000,6.070000,5.810000,5.910000,5.910000,118435400\\n2020-06-29,5.910000,6.070000,5.810000,6.010000,6.010000,58208400\\n2020-06-30,5.980000,6.100000,5.900000,6.080000,6.080000,61909300\\n2020-07-01,6.100000,6.180000,5.950000,5.980000,5.980000,62454700\\n2020-07-02,6.100000,6.170000,6.000000,6.050000,6.050000,67270500\\n2020-07-06,6.140000,6.200000,6.110000,6.190000,6.190000,63921800\\n2020-07-07,6.140000,6.200000,6.090000,6.120000,6.120000,56652000\\n2020-07-08,6.130000,6.180000,6.050000,6.090000,6.090000,60928600\\n2020-07-09,6.090000,6.100000,5.820000,5.840000,5.840000,82693000\\n2020-07-10,5.800000,6.100000,5.740000,6.100000,6.100000,73710700\\n2020-07-13,6.150000,6.220000,6.050000,6.060000,6.060000,80190700\\n2020-07-14,6.180000,6.390000,6.080000,6.360000,6.360000,106131800\\n2020-07-15,6.540000,6.780000,6.520000,6.740000,6.740000,101648700\\n2020-07-16,6.660000,6.900000,6.630000,6.860000,6.860000,93498500\\n2020-07-17,6.900000,6.910000,6.730000,6.800000,6.800000,80769000\\n2020-07-20,6.800000,6.850000,6.580000,6.660000,6.660000,71361700\\n2020-07-21,6.710000,6.810000,6.640000,6.680000,6.680000,63343900\\n2020-07-22,6.640000,6.880000,6.610000,6.840000,6.840000,75629600\\n2020-07-23,6.870000,7.060000,6.800000,6.980000,6.980000,88652600\\n2020-07-24,6.900000,7.010000,6.860000,6.880000,6.880000,62292000\\n2020-07-27,6.920000,6.940000,6.770000,6.930000,6.930000,60370200\\n2020-07-28,6.900000,7.050000,6.900000,7.010000,7.010000,56312500\\n2020-07-29,7.050000,7.060000,6.830000,6.920000,6.920000,59437200\\n2020-07-30,6.740000,6.830000,6.670000,6.740000,6.740000,58991000\\n2020-07-31,6.890000,6.900000,6.520000,6.610000,6.610000,115394100\\n2020-08-03,6.650000,6.720000,6.530000,6.690000,6.690000,53845900\\n2020-08-04,6.910000,6.910000,6.730000,6.860000,6.860000,69377600\\n2020-08-05,6.860000,7.030000,6.860000,6.960000,6.960000,82716400\\n2020-08-06,6.930000,7.000000,6.890000,6.930000,6.930000,48668500\\n2020-08-07,6.870000,6.920000,6.790000,6.860000,6.860000,47455200\\n2020-08-10,6.910000,7.130000,6.910000,7.090000,7.090000,57229000\\n2020-08-11,7.210000,7.380000,7.190000,7.230000,7.230000,74016400\\n2020-08-12,7.330000,7.370000,7.060000,7.110000,7.110000,59194100\\n2020-08-13,7.030000,7.180000,7.000000,7.030000,7.030000,50066800\\n2020-08-14,6.970000,7.110000,6.930000,7.040000,7.040000,43517700\\n2020-08-17,7.050000,7.060000,6.870000,6.980000,6.980000,64555200\\n2020-08-18,6.980000,7.010000,6.890000,6.890000,6.890000,40444200\\n2020-08-19,6.890000,7.020000,6.860000,6.870000,6.870000,44158100\\n2020-08-20,6.770000,6.890000,6.730000,6.840000,6.840000,41824500\\n2020-08-21,6.780000,6.850000,6.650000,6.660000,6.660000,39158900\\n2020-08-24,6.730000,7.000000,6.690000,6.980000,6.980000,64974700\\n2020-08-25,7.010000,7.100000,6.860000,6.940000,6.940000,49550000\\n2020-08-26,6.940000,6.970000,6.770000,6.820000,6.820000,48600100\\n2020-08-27,6.830000,6.980000,6.830000,6.910000,6.910000,45740900\\n2020-08-28,6.930000,6.950000,6.860000,6.940000,6.940000,39936900\\n2020-08-31,6.900000,6.930000,6.790000,6.820000,6.820000,50089500\\n2020-09-01,6.770000,6.870000,6.720000,6.830000,6.830000,48214200\\n2020-09-02,6.810000,6.970000,6.770000,6.950000,6.950000,59008900\\n2020-09-03,6.920000,7.090000,6.760000,6.820000,6.820000,78130900\\n2020-09-04,6.860000,6.950000,6.750000,6.900000,6.900000,70017500\\n2020-09-08,6.830000,7.170000,6.810000,7.030000,7.030000,84749300\\n2020-09-09,7.070000,7.100000,6.930000,6.970000,6.970000,56501400\\n2020-09-10,6.990000,7.040000,6.870000,6.910000,6.910000,69228600\\n2020-09-11,6.940000,7.000000,6.850000,7.000000,7.000000,55080600\\n2020-09-14,7.010000,7.180000,6.980000,7.120000,7.120000,58704300\\n2020-09-15,7.160000,7.180000,7.000000,7.040000,7.040000,65198500\\n2020-09-16,7.050000,7.120000,6.990000,7.020000,7.020000,46245800\\n2020-09-17,7.040000,7.340000,6.980000,7.280000,7.280000,84850100\\n2020-09-18,7.310000,7.400000,7.220000,7.230000,7.230000,71929400\\n2020-09-21,7.090000,7.090000,6.810000,6.870000,6.870000,72850300\\n2020-09-22,6.890000,6.990000,6.770000,6.780000,6.780000,55865500\\n2020-09-23,6.810000,6.930000,6.630000,6.640000,6.640000,52588600\\n2020-09-24,6.600000,6.760000,6.410000,6.660000,6.660000,59822900\\n2020-09-25,6.610000,6.710000,6.500000,6.510000,6.510000,53761800\\n2020-09-28,6.590000,6.770000,6.580000,6.690000,6.690000,47582600\\n2020-09-29,6.690000,6.700000,6.540000,6.600000,6.600000,38987300\\n2020-09-30,6.610000,6.750000,6.590000,6.660000,6.660000,55809500\\n2020-10-01,6.710000,6.770000,6.630000,6.750000,6.750000,58340600\\n2020-10-02,6.620000,6.930000,6.600000,6.890000,6.890000,60798400\\n2020-10-05,6.950000,7.050000,6.950000,7.020000,7.020000,42359400\\n2020-10-06,7.060000,7.250000,6.960000,6.980000,6.980000,78203800\\n2020-10-07,7.110000,7.250000,7.060000,7.230000,7.230000,50664100\\n2020-10-08,7.290000,7.350000,7.200000,7.350000,7.350000,54513300\\n2020-10-09,7.360000,7.440000,7.230000,7.250000,7.250000,50977900\\n2020-10-12,7.360000,7.870000,7.330000,7.670000,7.670000,97692900\\n2020-10-13,7.820000,7.880000,7.630000,7.760000,7.760000,74562600\\n2020-10-14,7.730000,7.750000,7.550000,7.570000,7.570000,57808900\\n2020-10-15,7.420000,7.620000,7.370000,7.620000,7.620000,49336200\\n2020-10-16,7.710000,7.750000,7.610000,7.670000,7.670000,47509400\\n2020-10-19,7.680000,7.720000,7.570000,7.590000,7.590000,38960700\\n2020-10-20,7.620000,7.850000,7.580000,7.740000,7.740000,63447000\\n2020-10-21,7.770000,7.880000,7.730000,7.850000,7.850000,51981100\\n2020-10-22,7.930000,8.220000,7.890000,8.210000,8.210000,74008500\\n2020-10-23,8.300000,8.350000,8.090000,8.160000,8.160000,62249000\\n2020-10-26,8.040000,8.070000,7.940000,8.030000,8.030000,62131000\\n2020-10-27,8.010000,8.090000,7.900000,7.920000,7.920000,64154500\\n2020-10-28,7.680000,7.880000,7.630000,7.700000,7.700000,82938300\\n2020-10-29,8.170000,8.240000,7.850000,7.900000,7.900000,118999900\\n2020-10-30,7.850000,7.910000,7.610000,7.730000,7.730000,79345600\\n2020-11-02,7.830000,7.860000,7.680000,7.710000,7.710000,59962900\\n2020-11-03,7.760000,7.930000,7.730000,7.880000,7.880000,65108800\\n2020-11-04,7.860000,7.870000,7.630000,7.640000,7.640000,67326800\\n2020-11-05,7.760000,7.990000,7.710000,7.990000,7.990000,61442600\\n2020-11-06,8.010000,8.020000,7.750000,7.790000,7.790000,50912100\\n2020-11-09,8.110000,8.380000,8.080000,8.200000,8.200000,110511300\\n2020-11-10,8.230000,8.590000,8.180000,8.380000,8.380000,87468400\\n2020-11-11,8.600000,8.600000,8.290000,8.330000,8.330000,75644400\\n2020-11-12,8.260000,8.290000,8.100000,8.210000,8.210000,81064900\\n2020-11-13,8.230000,8.570000,8.230000,8.540000,8.540000,79475100'"
      ]
     },
     "execution_count": 167,
     "metadata": {},
     "output_type": "execute_result"
    }
   ],
   "source": [
    "reponse.text"
   ]
  },
  {
   "cell_type": "code",
   "execution_count": 168,
   "metadata": {},
   "outputs": [
    {
     "name": "stdout",
     "output_type": "stream",
     "text": [
      "['Date', 'Open', 'High', 'Low', 'Close', 'Adj Close', 'Volume']\n",
      "['2019-11-14', '8.850000', '8.910000', '8.780000', '8.790000', '8.643010', '26527800']\n",
      "['2019-11-15', '8.850000', '8.960000', '8.850000', '8.950000', '8.800335', '26416300']\n",
      "['2019-11-18', '9.050000', '9.050000', '8.890000', '8.950000', '8.800335', '38291400']\n",
      "['2019-11-19', '8.990000', '9.000000', '8.870000', '8.900000', '8.751170', '31168900']\n"
     ]
    }
   ],
   "source": [
    "file=StringIO(response.text)\n",
    "reader =csv.reader(file)\n",
    "data =list(reader)\n",
    "for row in data[:5]:\n",
    "    print(row)"
   ]
  },
  {
   "cell_type": "code",
   "execution_count": 169,
   "metadata": {},
   "outputs": [],
   "source": [
    "params={\n",
    "    'range':'5y',\n",
    "    'interval':'1w',\n",
    "    'events':'history'\n",
    "}"
   ]
  },
  {
   "cell_type": "code",
   "execution_count": 170,
   "metadata": {},
   "outputs": [],
   "source": [
    "reponse=requests.get(stock_url.format(stock), params=params)"
   ]
  },
  {
   "cell_type": "code",
   "execution_count": 171,
   "metadata": {},
   "outputs": [
    {
     "name": "stdout",
     "output_type": "stream",
     "text": [
      "['Date', 'Open', 'High', 'Low', 'Close', 'Adj Close', 'Volume']\n",
      "['2019-11-14', '8.850000', '8.910000', '8.780000', '8.790000', '8.643010', '26527800']\n",
      "['2019-11-15', '8.850000', '8.960000', '8.850000', '8.950000', '8.800335', '26416300']\n",
      "['2019-11-18', '9.050000', '9.050000', '8.890000', '8.950000', '8.800335', '38291400']\n",
      "['2019-11-19', '8.990000', '9.000000', '8.870000', '8.900000', '8.751170', '31168900']\n"
     ]
    }
   ],
   "source": [
    "file=StringIO(response.text)\n",
    "reader =csv.reader(file)\n",
    "data =list(reader)\n",
    "for row in data[:5]:\n",
    "    print(row)"
   ]
  },
  {
   "cell_type": "code",
   "execution_count": null,
   "metadata": {},
   "outputs": [],
   "source": []
  }
 ],
 "metadata": {
  "kernelspec": {
   "display_name": "Python 3",
   "language": "python",
   "name": "python3"
  },
  "language_info": {
   "codemirror_mode": {
    "name": "ipython",
    "version": 3
   },
   "file_extension": ".py",
   "mimetype": "text/x-python",
   "name": "python",
   "nbconvert_exporter": "python",
   "pygments_lexer": "ipython3",
   "version": "3.8.3"
  }
 },
 "nbformat": 4,
 "nbformat_minor": 4
}
