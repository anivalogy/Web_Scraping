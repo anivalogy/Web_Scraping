{
 "cells": [
  {
   "cell_type": "markdown",
   "metadata": {},
   "source": [
    "# Amazone  Android Phone Web Scapper\n",
    " * Selemium\n",
    " * Beautiful soup"
   ]
  },
  {
   "cell_type": "code",
   "execution_count": 112,
   "metadata": {},
   "outputs": [],
   "source": [
    "import csv\n",
    "from bs4 import BeautifulSoup\n",
    "from selenium import webdriver"
   ]
  },
  {
   "cell_type": "code",
   "execution_count": 113,
   "metadata": {},
   "outputs": [],
   "source": [
    "from msedge.selenium_tools import Edge,EdgeOptions"
   ]
  },
  {
   "cell_type": "code",
   "execution_count": 114,
   "metadata": {},
   "outputs": [],
   "source": [
    "driver=webdriver.Chrome(executable_path=\"chromedriver.exe\")"
   ]
  },
  {
   "cell_type": "code",
   "execution_count": 115,
   "metadata": {},
   "outputs": [],
   "source": [
    "url = \"https://www.amazon.in/\""
   ]
  },
  {
   "cell_type": "code",
   "execution_count": 116,
   "metadata": {},
   "outputs": [],
   "source": [
    "driver.get(url)"
   ]
  },
  {
   "cell_type": "code",
   "execution_count": 117,
   "metadata": {},
   "outputs": [],
   "source": [
    "def get_url(search_item):\n",
    "    template=\"https://www.amazon.in/s?k={}&crid=1GNY6Q6AHOOKS&sprefix=and%2Caps%2C524&ref=nb_sb_ss_ts-oa-p_1_3\"\n",
    "    search_item=search_item.replace(' ','+')\n",
    "    return template.format(search_item)"
   ]
  },
  {
   "cell_type": "code",
   "execution_count": 118,
   "metadata": {},
   "outputs": [
    {
     "name": "stdout",
     "output_type": "stream",
     "text": [
      "https://www.amazon.in/s?k=android+phone&crid=1GNY6Q6AHOOKS&sprefix=and%2Caps%2C524&ref=nb_sb_ss_ts-oa-p_1_3\n"
     ]
    }
   ],
   "source": [
    "url =get_url(\"android phone\")\n",
    "print(url)"
   ]
  },
  {
   "cell_type": "code",
   "execution_count": 119,
   "metadata": {},
   "outputs": [],
   "source": [
    "#Extraction the collection\n",
    "driver.get(url)"
   ]
  },
  {
   "cell_type": "code",
   "execution_count": 120,
   "metadata": {},
   "outputs": [],
   "source": [
    "soup= BeautifulSoup(driver.page_source,'html.parser')"
   ]
  },
  {
   "cell_type": "code",
   "execution_count": 121,
   "metadata": {},
   "outputs": [],
   "source": [
    "results =soup.find_all('div',{\"data-component-type\":\"s-search-result\"})"
   ]
  },
  {
   "cell_type": "code",
   "execution_count": 122,
   "metadata": {},
   "outputs": [
    {
     "data": {
      "text/plain": [
       "17"
      ]
     },
     "execution_count": 122,
     "metadata": {},
     "output_type": "execute_result"
    }
   ],
   "source": [
    "len(results)"
   ]
  },
  {
   "cell_type": "code",
   "execution_count": 123,
   "metadata": {},
   "outputs": [],
   "source": [
    "#Prototype  the Record\n",
    "url=\"https://www.amazon.in/\" +atag.get('href')"
   ]
  },
  {
   "cell_type": "code",
   "execution_count": 124,
   "metadata": {},
   "outputs": [],
   "source": [
    "item = results[0]"
   ]
  },
  {
   "cell_type": "code",
   "execution_count": 125,
   "metadata": {},
   "outputs": [],
   "source": [
    "atag=item.h2.a"
   ]
  },
  {
   "cell_type": "code",
   "execution_count": 126,
   "metadata": {},
   "outputs": [],
   "source": [
    "description=atag.text.strip()"
   ]
  },
  {
   "cell_type": "code",
   "execution_count": 127,
   "metadata": {},
   "outputs": [
    {
     "data": {
      "text/plain": [
       "'Redmi 8A Dual (Sea Blue, 2GB RAM, 32GB Storage) – Dual Cameras & 5,000 mAH Battery'"
      ]
     },
     "execution_count": 127,
     "metadata": {},
     "output_type": "execute_result"
    }
   ],
   "source": [
    "description"
   ]
  },
  {
   "cell_type": "code",
   "execution_count": 128,
   "metadata": {},
   "outputs": [],
   "source": [
    "price_present=item.find('span','a-price')"
   ]
  },
  {
   "cell_type": "code",
   "execution_count": 129,
   "metadata": {},
   "outputs": [
    {
     "data": {
      "text/plain": [
       "<span class=\"a-price\" data-a-color=\"price\" data-a-size=\"l\"><span class=\"a-offscreen\">₹7,499</span><span aria-hidden=\"true\"><span class=\"a-price-symbol\">₹</span><span class=\"a-price-whole\">7,499</span></span></span>"
      ]
     },
     "execution_count": 129,
     "metadata": {},
     "output_type": "execute_result"
    }
   ],
   "source": [
    "price_present"
   ]
  },
  {
   "cell_type": "code",
   "execution_count": 130,
   "metadata": {},
   "outputs": [],
   "source": [
    "price=price_present.find('span' ,'a-offscreen').text"
   ]
  },
  {
   "cell_type": "code",
   "execution_count": 131,
   "metadata": {},
   "outputs": [
    {
     "data": {
      "text/plain": [
       "'₹7,499'"
      ]
     },
     "execution_count": 131,
     "metadata": {},
     "output_type": "execute_result"
    }
   ],
   "source": [
    "price"
   ]
  },
  {
   "cell_type": "code",
   "execution_count": 132,
   "metadata": {},
   "outputs": [],
   "source": [
    "rating=item.i.text"
   ]
  },
  {
   "cell_type": "code",
   "execution_count": 133,
   "metadata": {},
   "outputs": [
    {
     "data": {
      "text/plain": [
       "'4.0 out of 5 stars'"
      ]
     },
     "execution_count": 133,
     "metadata": {},
     "output_type": "execute_result"
    }
   ],
   "source": [
    "rating"
   ]
  },
  {
   "cell_type": "code",
   "execution_count": 134,
   "metadata": {},
   "outputs": [],
   "source": [
    "review_count = item.find('span',{'class':'a-size-base','dir':'auto'}).text"
   ]
  },
  {
   "cell_type": "code",
   "execution_count": 135,
   "metadata": {},
   "outputs": [
    {
     "data": {
      "text/plain": [
       "'27,932'"
      ]
     },
     "execution_count": 135,
     "metadata": {},
     "output_type": "execute_result"
    }
   ],
   "source": [
    "review_count"
   ]
  },
  {
   "cell_type": "code",
   "execution_count": 84,
   "metadata": {},
   "outputs": [],
   "source": [
    "#gernalize patter"
   ]
  },
  {
   "cell_type": "code",
   "execution_count": 136,
   "metadata": {},
   "outputs": [],
   "source": [
    "def extract_record(item):\n",
    "    #description Url and heading\n",
    "    atag=item.h2.a\n",
    "    description=atag.text.strip()\n",
    "    url=\"https://www.amazon.in/\" +atag.get('href')\n",
    "    #price\n",
    "    price_present=item.find('span','a-price')\n",
    "    price=price_present.find('span' ,'a-offscreen').text\n",
    "    #rating and review\n",
    "    rating=item.i.text\n",
    "    review_count = item.find('span',{'class':'a-size-base','dir':'auto'}).text\n",
    "    \n",
    "    results=(description,price,rating,review_count,url)\n",
    "    \n",
    "    return results"
   ]
  },
  {
   "cell_type": "code",
   "execution_count": 111,
   "metadata": {},
   "outputs": [
    {
     "data": {
      "text/plain": [
       "<function __main__.extract_record(item)>"
      ]
     },
     "execution_count": 111,
     "metadata": {},
     "output_type": "execute_result"
    }
   ],
   "source": [
    "extract_record"
   ]
  },
  {
   "cell_type": "code",
   "execution_count": 93,
   "metadata": {},
   "outputs": [],
   "source": []
  },
  {
   "cell_type": "code",
   "execution_count": 100,
   "metadata": {},
   "outputs": [],
   "source": [
    "#try execept handeling"
   ]
  },
  {
   "cell_type": "code",
   "execution_count": 141,
   "metadata": {},
   "outputs": [],
   "source": [
    "def extract_record(item):\n",
    "    #description Url and heading\n",
    "    atag=item.h2.a\n",
    "    description=atag.text.strip()\n",
    "    url=\"https://www.amazon.in/\" +atag.get('href')\n",
    "    try:\n",
    "        \n",
    "        #price\n",
    "        price_present=item.find('span','a-price')\n",
    "        price=price_present.find('span' ,'a-offscreen').text\n",
    "    except AttributeError:\n",
    "        return\n",
    "    try:\n",
    "        \n",
    "        #rating and review\n",
    "        rating=item.i.text\n",
    "        review_count = item.find('span',{'class':'a-size-base','dir':'auto'}).text\n",
    "    except AttributeError:\n",
    "        rating=''\n",
    "        review_count\n",
    "    results=(description,price,rating,review_count,url)\n",
    "    \n",
    "    return results"
   ]
  },
  {
   "cell_type": "code",
   "execution_count": 142,
   "metadata": {},
   "outputs": [],
   "source": [
    "records=[]\n",
    "results =soup.find_all('div',{\"data-component-type\":\"s-search-result\"})\n",
    "\n",
    "for item in results:\n",
    "    record=extract_record(item)\n",
    "    if record:\n",
    "        records.append(record)"
   ]
  },
  {
   "cell_type": "code",
   "execution_count": 143,
   "metadata": {},
   "outputs": [
    {
     "data": {
      "text/plain": [
       "('Redmi 8A Dual (Sea Blue, 2GB RAM, 32GB Storage) – Dual Cameras & 5,000 mAH Battery',\n",
       " '₹7,499',\n",
       " '4.0 out of 5 stars',\n",
       " '27,932',\n",
       " 'https://www.amazon.in//Redmi-8A-Dual-Blue-Storage/dp/B07X4R63DF/ref=sr_1_1?crid=1GNY6Q6AHOOKS&dchild=1&keywords=android+phone&qid=1605277002&sprefix=and%2Caps%2C524&sr=8-1')"
      ]
     },
     "execution_count": 143,
     "metadata": {},
     "output_type": "execute_result"
    }
   ],
   "source": [
    "records[0]"
   ]
  },
  {
   "cell_type": "code",
   "execution_count": 146,
   "metadata": {},
   "outputs": [
    {
     "name": "stdout",
     "output_type": "stream",
     "text": [
      "₹7,499\n",
      "₹5,000\n",
      "₹5,999\n",
      "₹7,499\n",
      "₹5,999\n",
      "₹5,000\n",
      "₹6,999\n",
      "₹7,999\n",
      "₹13,999\n",
      "₹12,499\n",
      "₹7,499\n",
      "₹6,999\n",
      "₹5,000\n",
      "₹4,999\n",
      "₹11,990\n",
      "₹8,990\n",
      "₹10,999\n"
     ]
    }
   ],
   "source": [
    "for i in records:\n",
    "    print(i[1])"
   ]
  },
  {
   "cell_type": "markdown",
   "metadata": {},
   "source": [
    "# How We track the next page ?\n",
    " ### Geting the next page"
   ]
  },
  {
   "cell_type": "code",
   "execution_count": 158,
   "metadata": {},
   "outputs": [],
   "source": [
    "def get_url(search_item):\n",
    "    template=\"https://www.amazon.in/s?k={}&crid=1GNY6Q6AHOOKS&sprefix=and%2Caps%2C524&ref=nb_sb_ss_ts-oa-p_1_3\"\n",
    "    search_item=search_item.replace(' ','+')\n",
    "    #add query tool\n",
    "    url =template.format(search_item)\n",
    "    url+='&page'\n",
    "    return template.format(search_item)"
   ]
  },
  {
   "cell_type": "code",
   "execution_count": 156,
   "metadata": {},
   "outputs": [],
   "source": [
    "#all together\n",
    "import csv\n",
    "from bs4 import BeautifulSoup\n",
    "from selenium import webdriver\n",
    "\n",
    "def get_url(search_item):\n",
    "    template=\"https://www.amazon.in/s?k={}&crid=1GNY6Q6AHOOKS&sprefix=and%2Caps%2C524&ref=nb_sb_ss_ts-oa-p_1_3\"\n",
    "    search_item=search_item.replace(' ','+')\n",
    "    #add query tool\n",
    "    url =template.format(search_item)\n",
    "    url+='&page{}'\n",
    "    return url\n",
    "def extract_record(item):\n",
    "    #description Url and heading\n",
    "    atag=item.h2.a\n",
    "    description=atag.text.strip()\n",
    "    url=\"https://www.amazon.in/\" +atag.get('href')\n",
    "    try:\n",
    "        \n",
    "        #price\n",
    "        price_present=item.find('span','a-price')\n",
    "        price=price_present.find('span' ,'a-offscreen').text\n",
    "    except AttributeError:\n",
    "        return\n",
    "    try:\n",
    "        \n",
    "        #rating and review\n",
    "        rating=item.i.text\n",
    "        review_count = item.find('span',{'class':'a-size-base','dir':'auto'}).text\n",
    "    except AttributeError:\n",
    "        rating=''\n",
    "        review_count\n",
    "    results=(description,price,rating,review_count,url)\n",
    "    \n",
    "    return results\n",
    "\n",
    "def main(search_item):\n",
    "    driver=webdriver.Chrome(executable_path=\"chromedriver.exe\")\n",
    "    \n",
    "    record=[]\n",
    "    url=get_url(search_item)\n",
    "    \n",
    "    for page in range(1,21):\n",
    "        driver.get(url.format(page))\n",
    "        soup=BeautifulSoup(driver.page_source,'html.parser')\n",
    "        results =soup.find_all('div',{\"data-component-type\":\"s-search-result\"})\n",
    "        \n",
    "        for item in results:\n",
    "            record =extract_record(item)         \n",
    "            if record:\n",
    "                records.append(record)\n",
    "        \n",
    "    driver.close()\n",
    "        \n",
    "    #save data as csv file\n",
    "    with open('results.csv','w',newline='',encoding='utf-8')as f:\n",
    "        writer=csv.writer(f)\n",
    "        writer.writerow(['Description','Price','Rating','ReviewCount','url'])\n",
    "        writer.writerows(records)\n",
    "        \n",
    "    \n",
    "    "
   ]
  },
  {
   "cell_type": "code",
   "execution_count": 157,
   "metadata": {},
   "outputs": [],
   "source": [
    "main('android phone')"
   ]
  },
  {
   "cell_type": "code",
   "execution_count": null,
   "metadata": {},
   "outputs": [],
   "source": []
  }
 ],
 "metadata": {
  "kernelspec": {
   "display_name": "Python 3",
   "language": "python",
   "name": "python3"
  },
  "language_info": {
   "codemirror_mode": {
    "name": "ipython",
    "version": 3
   },
   "file_extension": ".py",
   "mimetype": "text/x-python",
   "name": "python",
   "nbconvert_exporter": "python",
   "pygments_lexer": "ipython3",
   "version": "3.8.3"
  }
 },
 "nbformat": 4,
 "nbformat_minor": 4
}
