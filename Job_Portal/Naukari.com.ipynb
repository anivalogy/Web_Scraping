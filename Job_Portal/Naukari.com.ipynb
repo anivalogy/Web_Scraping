{
 "cells": [
  {
   "cell_type": "code",
   "execution_count": 1,
   "metadata": {},
   "outputs": [],
   "source": [
    "import csv\n",
    "from bs4 import BeautifulSoup\n",
    "from selenium import webdriver\n",
    "from datetime import datetime\n",
    "import requests"
   ]
  },
  {
   "cell_type": "code",
   "execution_count": 2,
   "metadata": {},
   "outputs": [],
   "source": [
    "driver=webdriver.Chrome(executable_path=\"F:\\Web_Scraping\\chromedriver.exe\")"
   ]
  },
  {
   "cell_type": "code",
   "execution_count": 3,
   "metadata": {},
   "outputs": [],
   "source": [
    "url = \"https://www.naukri.com/\""
   ]
  },
  {
   "cell_type": "code",
   "execution_count": 4,
   "metadata": {},
   "outputs": [],
   "source": [
    "def get_url(post,location):\n",
    "    template=\"https://in.indeed.com/jobs?q={}&l={}\"\n",
    "    url=template.format(post,location)\n",
    "    return url"
   ]
  },
  {
   "cell_type": "code",
   "execution_count": 5,
   "metadata": {},
   "outputs": [],
   "source": [
    "url=get_url('hadoop','Gurgaon')"
   ]
  },
  {
   "cell_type": "code",
   "execution_count": 6,
   "metadata": {},
   "outputs": [
    {
     "data": {
      "text/plain": [
       "'https://in.indeed.com/jobs?q=hadoop&l=Gurgaon'"
      ]
     },
     "execution_count": 6,
     "metadata": {},
     "output_type": "execute_result"
    }
   ],
   "source": [
    "url"
   ]
  },
  {
   "cell_type": "code",
   "execution_count": 14,
   "metadata": {},
   "outputs": [],
   "source": [
    "#rextract Raw Html"
   ]
  },
  {
   "cell_type": "code",
   "execution_count": 15,
   "metadata": {},
   "outputs": [],
   "source": [
    "response=requests.get(url)"
   ]
  },
  {
   "cell_type": "code",
   "execution_count": 16,
   "metadata": {},
   "outputs": [
    {
     "data": {
      "text/plain": [
       "<Response [200]>"
      ]
     },
     "execution_count": 16,
     "metadata": {},
     "output_type": "execute_result"
    }
   ],
   "source": [
    "response"
   ]
  },
  {
   "cell_type": "code",
   "execution_count": 17,
   "metadata": {},
   "outputs": [
    {
     "data": {
      "text/plain": [
       "'OK'"
      ]
     },
     "execution_count": 17,
     "metadata": {},
     "output_type": "execute_result"
    }
   ],
   "source": [
    "response.reason"
   ]
  },
  {
   "cell_type": "code",
   "execution_count": 18,
   "metadata": {},
   "outputs": [],
   "source": [
    "soup=BeautifulSoup(response.text,'html.parser')"
   ]
  },
  {
   "cell_type": "code",
   "execution_count": 19,
   "metadata": {},
   "outputs": [],
   "source": [
    "cards =soup.find_all('div','jobsearch-SerpJobCard')"
   ]
  },
  {
   "cell_type": "code",
   "execution_count": 20,
   "metadata": {},
   "outputs": [
    {
     "name": "stdout",
     "output_type": "stream",
     "text": [
      "15\n"
     ]
    }
   ],
   "source": [
    "print(len(cards))"
   ]
  },
  {
   "cell_type": "markdown",
   "metadata": {},
   "source": [
    "\n",
    "## Prototype Cards of job search\n",
    " ##### first indexding of job card"
   ]
  },
  {
   "cell_type": "code",
   "execution_count": 21,
   "metadata": {},
   "outputs": [],
   "source": [
    "card=cards[0]"
   ]
  },
  {
   "cell_type": "code",
   "execution_count": 22,
   "metadata": {},
   "outputs": [],
   "source": [
    "atag=card.h2.a"
   ]
  },
  {
   "cell_type": "code",
   "execution_count": 23,
   "metadata": {},
   "outputs": [],
   "source": [
    "job_title=atag.get('title')"
   ]
  },
  {
   "cell_type": "code",
   "execution_count": 24,
   "metadata": {},
   "outputs": [],
   "source": [
    "job_url=\"https://in.indeed.com/\" + atag.get('href')"
   ]
  },
  {
   "cell_type": "code",
   "execution_count": 25,
   "metadata": {},
   "outputs": [
    {
     "data": {
      "text/plain": [
       "'JANGOO TECHNOLOGIES'"
      ]
     },
     "execution_count": 25,
     "metadata": {},
     "output_type": "execute_result"
    }
   ],
   "source": [
    "comapny=card.find('span','company').text.strip()\n",
    "comapny"
   ]
  },
  {
   "cell_type": "code",
   "execution_count": 26,
   "metadata": {},
   "outputs": [
    {
     "data": {
      "text/plain": [
       "'Delhi, Delhi'"
      ]
     },
     "execution_count": 26,
     "metadata": {},
     "output_type": "execute_result"
    }
   ],
   "source": [
    "job_location=card.find('div','recJobLoc').get('data-rc-loc')\n",
    "job_location"
   ]
  },
  {
   "cell_type": "code",
   "execution_count": 27,
   "metadata": {},
   "outputs": [
    {
     "data": {
      "text/plain": [
       "'Interested candidates may send their updated resume.\\nThis job will on third party payroll with NTRO Delhi location near Noida.*.'"
      ]
     },
     "execution_count": 27,
     "metadata": {},
     "output_type": "execute_result"
    }
   ],
   "source": [
    "job_summry=card.find('div','summary').text.strip()\n",
    "job_summry"
   ]
  },
  {
   "cell_type": "code",
   "execution_count": 28,
   "metadata": {},
   "outputs": [
    {
     "data": {
      "text/plain": [
       "'13 days ago'"
      ]
     },
     "execution_count": 28,
     "metadata": {},
     "output_type": "execute_result"
    }
   ],
   "source": [
    "job_post=card.find('span','date').text\n",
    "job_post"
   ]
  },
  {
   "cell_type": "code",
   "execution_count": 29,
   "metadata": {},
   "outputs": [
    {
     "data": {
      "text/plain": [
       "'14-11-20'"
      ]
     },
     "execution_count": 29,
     "metadata": {},
     "output_type": "execute_result"
    }
   ],
   "source": [
    "f_date=datetime.today().strftime('%d-%m-%y')\n",
    "f_date"
   ]
  },
  {
   "cell_type": "code",
   "execution_count": 30,
   "metadata": {},
   "outputs": [
    {
     "data": {
      "text/plain": [
       "'₹7,00,000 - ₹8,00,000 a year'"
      ]
     },
     "execution_count": 30,
     "metadata": {},
     "output_type": "execute_result"
    }
   ],
   "source": [
    "#use try function sometime salary is there is sometime not \n",
    "try:\n",
    "    job_salary=card.find('span','salaryText').text.strip()\n",
    "except AttributeError:\n",
    "    job_salary=''\n",
    "\n",
    "job_salary"
   ]
  },
  {
   "cell_type": "markdown",
   "metadata": {},
   "source": [
    "# Gernalize all model with function"
   ]
  },
  {
   "cell_type": "code",
   "execution_count": 31,
   "metadata": {},
   "outputs": [],
   "source": [
    "def get_record(card):\n",
    "    \n",
    "    atag=card.h2.a\n",
    "    job_title=atag.get('title')\n",
    "    job_url=\"https://in.indeed.com/\" + atag.get('href')\n",
    "    comapny=card.find('span','company').text.strip()\n",
    "    job_location=card.find('div','recJobLoc').get('data-rc-loc')\n",
    "    job_summry=card.find('div','summary').text.strip()\n",
    "    job_post=card.find('span','date').text\n",
    "    f_date=datetime.today().strftime('%d-%m-%y')\n",
    "    try:\n",
    "        job_salary=card.find('span','salaryText').text.strip()\n",
    "    except AttributeError:\n",
    "        job_salary=''\n",
    "    record = (job_title,comapny,job_location,job_summry,job_post,f_date,job_salary,job_url)\n",
    "        \n",
    "    return record\n",
    "\n",
    "    "
   ]
  },
  {
   "cell_type": "code",
   "execution_count": 33,
   "metadata": {},
   "outputs": [],
   "source": [
    "records=list()\n",
    "for card in cards:\n",
    "    record=get_record(card)\n",
    "    if record:\n",
    "        records.append(record)"
   ]
  },
  {
   "cell_type": "code",
   "execution_count": 34,
   "metadata": {},
   "outputs": [
    {
     "data": {
      "text/plain": [
       "('ETL Developer',\n",
       " 'JANGOO TECHNOLOGIES',\n",
       " 'Delhi, Delhi',\n",
       " 'Interested candidates may send their updated resume.\\nThis job will on third party payroll with NTRO Delhi location near Noida.*.',\n",
       " '13 days ago',\n",
       " '14-11-20',\n",
       " '₹7,00,000 - ₹8,00,000 a year',\n",
       " 'https://in.indeed.com//company/Jangoo-Technologies/jobs/ETL-Developer-3f8ef604f1d65f12?fccid=194bb6581e6d5c64&vjs=3')"
      ]
     },
     "execution_count": 34,
     "metadata": {},
     "output_type": "execute_result"
    }
   ],
   "source": [
    "records[0]"
   ]
  },
  {
   "cell_type": "code",
   "execution_count": 35,
   "metadata": {},
   "outputs": [],
   "source": [
    "while True:\n",
    "    try:\n",
    "        url=\"https://in.indeed.com/\" + soup.find('a',{'arial-label':'Next'}).get('href')\n",
    "    except AttributeError:\n",
    "        break\n",
    "    response=request.get(url)\n",
    "    \n",
    "    soup=BeautifulSoup(response.text,'html.preser')\n",
    "    card =soup.find_all('div','jobsearch-SerpJobCard')\n",
    "    \n",
    "    for card in cards:\n",
    "        record=get_record(card)\n",
    "        records.append(record)\n",
    "\n"
   ]
  },
  {
   "cell_type": "code",
   "execution_count": 36,
   "metadata": {},
   "outputs": [],
   "source": [
    "#all together\n",
    "import csv\n",
    "from bs4 import BeautifulSoup\n",
    "from selenium import webdriver\n",
    "from datetime import datetime\n",
    "import requests\n",
    "\n",
    "def get_url(post,location):\n",
    "    template=\"https://in.indeed.com/jobs?q={}&l={}\"\n",
    "    url=template.format(post,location)\n",
    "    return url\n",
    "\n",
    "def get_record(card):\n",
    "    \n",
    "    atag=card.h2.a\n",
    "    job_title=atag.get('title')\n",
    "    job_url=\"https://in.indeed.com/\" + atag.get('href')\n",
    "    comapny=card.find('span','company').text.strip()\n",
    "    job_location=card.find('div','recJobLoc').get('data-rc-loc')\n",
    "    job_summry=card.find('div','summary').text.strip()\n",
    "    job_post=card.find('span','date').text\n",
    "    f_date=datetime.today().strftime('%d-%m-%y')\n",
    "    try:\n",
    "        job_salary=card.find('span','salaryText').text.strip()\n",
    "    except AttributeError:\n",
    "        job_salary=''\n",
    "    record = (job_title,comapny,job_location,job_summry,job_post,f_date,job_salary,job_url)\n",
    "        \n",
    "    return record\n",
    "\n",
    "\n",
    "\n",
    "def main(post,location):\n",
    "    records=list()\n",
    "    url=get_url(post,location)\n",
    "    #save data as csv file\n",
    "    \n",
    "    while True:        \n",
    "        response=requests.get(url)\n",
    "        soup=BeautifulSoup(response.text,'html.parser')\n",
    "        cards =soup.find_all('div','jobsearch-SerpJobCard')\n",
    "    \n",
    "        for card in cards:\n",
    "            record=get_record(card)\n",
    "            records.append(record)\n",
    "        try:\n",
    "            url=\"https://in.indeed.com/\" + soup.find('a',{'arial-label':'Next'}).get('href')\n",
    "        except AttributeError:\n",
    "            break\n",
    "        \n",
    "    with open('Indeed_jobs.csv','w',newline='',encoding='utf-8')as f:\n",
    "            writer=csv.writer(f)\n",
    "            writer.writerow(['job_title','comapny','job_location','f_date','job_salary','job_url'])\n",
    "            writer.writerows(records)\n",
    "\n",
    "\n",
    "        \n",
    "    \n",
    "    "
   ]
  },
  {
   "cell_type": "code",
   "execution_count": 37,
   "metadata": {},
   "outputs": [],
   "source": [
    "main('hadoop','Gurgaon')"
   ]
  },
  {
   "cell_type": "code",
   "execution_count": null,
   "metadata": {},
   "outputs": [],
   "source": []
  }
 ],
 "metadata": {
  "kernelspec": {
   "display_name": "Python 3",
   "language": "python",
   "name": "python3"
  },
  "language_info": {
   "codemirror_mode": {
    "name": "ipython",
    "version": 3
   },
   "file_extension": ".py",
   "mimetype": "text/x-python",
   "name": "python",
   "nbconvert_exporter": "python",
   "pygments_lexer": "ipython3",
   "version": "3.9.0"
  }
 },
 "nbformat": 4,
 "nbformat_minor": 4
}
